{
 "cells": [
  {
   "cell_type": "code",
   "execution_count": 190,
   "metadata": {},
   "outputs": [],
   "source": [
    "import pandas as pd\n",
    "import numpy as np\n",
    "import matplotlib.dates as md\n",
    "import matplotlib.pyplot as plt\n",
    "from mpl_toolkits.axes_grid1 import host_subplot\n",
    "import mpl_toolkits.axisartist as AA\n",
    "from sklearn.preprocessing import StandardScaler\n",
    "from sklearn.decomposition import PCA\n",
    "from sklearn.cluster import KMeans\n",
    "from sklearn.covariance import EllipticEnvelope\n",
    "# from pyemma import msm\n",
    "from sklearn.ensemble import IsolationForest\n",
    "from sklearn.svm import OneClassSVM\n",
    "from mpl_toolkits.mplot3d import Axes3D\n",
    "from pyemma import msm\n",
    "%matplotlib inline\n",
    "import seaborn as sns"
   ]
  },
  {
   "cell_type": "code",
   "execution_count": 191,
   "metadata": {},
   "outputs": [],
   "source": [
    "df = pd.read_csv('bitstampUSD_1-min_data_2012-01-01_to_2019-08-12.csv')"
   ]
  },
  {
   "cell_type": "code",
   "execution_count": 192,
   "metadata": {},
   "outputs": [
    {
     "data": {
      "text/html": [
       "<div>\n",
       "<style scoped>\n",
       "    .dataframe tbody tr th:only-of-type {\n",
       "        vertical-align: middle;\n",
       "    }\n",
       "\n",
       "    .dataframe tbody tr th {\n",
       "        vertical-align: top;\n",
       "    }\n",
       "\n",
       "    .dataframe thead th {\n",
       "        text-align: right;\n",
       "    }\n",
       "</style>\n",
       "<table border=\"1\" class=\"dataframe\">\n",
       "  <thead>\n",
       "    <tr style=\"text-align: right;\">\n",
       "      <th></th>\n",
       "      <th>Timestamp</th>\n",
       "      <th>Open</th>\n",
       "      <th>High</th>\n",
       "      <th>Low</th>\n",
       "      <th>Close</th>\n",
       "      <th>Volume_(BTC)</th>\n",
       "      <th>Volume_(Currency)</th>\n",
       "      <th>Weighted_Price</th>\n",
       "    </tr>\n",
       "  </thead>\n",
       "  <tbody>\n",
       "    <tr>\n",
       "      <td>0</td>\n",
       "      <td>1325317920</td>\n",
       "      <td>4.39</td>\n",
       "      <td>4.39</td>\n",
       "      <td>4.39</td>\n",
       "      <td>4.39</td>\n",
       "      <td>0.455581</td>\n",
       "      <td>2.0</td>\n",
       "      <td>4.39</td>\n",
       "    </tr>\n",
       "    <tr>\n",
       "      <td>1</td>\n",
       "      <td>1325317980</td>\n",
       "      <td>NaN</td>\n",
       "      <td>NaN</td>\n",
       "      <td>NaN</td>\n",
       "      <td>NaN</td>\n",
       "      <td>NaN</td>\n",
       "      <td>NaN</td>\n",
       "      <td>NaN</td>\n",
       "    </tr>\n",
       "    <tr>\n",
       "      <td>2</td>\n",
       "      <td>1325318040</td>\n",
       "      <td>NaN</td>\n",
       "      <td>NaN</td>\n",
       "      <td>NaN</td>\n",
       "      <td>NaN</td>\n",
       "      <td>NaN</td>\n",
       "      <td>NaN</td>\n",
       "      <td>NaN</td>\n",
       "    </tr>\n",
       "    <tr>\n",
       "      <td>3</td>\n",
       "      <td>1325318100</td>\n",
       "      <td>NaN</td>\n",
       "      <td>NaN</td>\n",
       "      <td>NaN</td>\n",
       "      <td>NaN</td>\n",
       "      <td>NaN</td>\n",
       "      <td>NaN</td>\n",
       "      <td>NaN</td>\n",
       "    </tr>\n",
       "    <tr>\n",
       "      <td>4</td>\n",
       "      <td>1325318160</td>\n",
       "      <td>NaN</td>\n",
       "      <td>NaN</td>\n",
       "      <td>NaN</td>\n",
       "      <td>NaN</td>\n",
       "      <td>NaN</td>\n",
       "      <td>NaN</td>\n",
       "      <td>NaN</td>\n",
       "    </tr>\n",
       "  </tbody>\n",
       "</table>\n",
       "</div>"
      ],
      "text/plain": [
       "    Timestamp  Open  High   Low  Close  Volume_(BTC)  Volume_(Currency)  \\\n",
       "0  1325317920  4.39  4.39  4.39   4.39      0.455581                2.0   \n",
       "1  1325317980   NaN   NaN   NaN    NaN           NaN                NaN   \n",
       "2  1325318040   NaN   NaN   NaN    NaN           NaN                NaN   \n",
       "3  1325318100   NaN   NaN   NaN    NaN           NaN                NaN   \n",
       "4  1325318160   NaN   NaN   NaN    NaN           NaN                NaN   \n",
       "\n",
       "   Weighted_Price  \n",
       "0            4.39  \n",
       "1             NaN  \n",
       "2             NaN  \n",
       "3             NaN  \n",
       "4             NaN  "
      ]
     },
     "execution_count": 192,
     "metadata": {},
     "output_type": "execute_result"
    }
   ],
   "source": [
    "df.head()"
   ]
  },
  {
   "cell_type": "code",
   "execution_count": null,
   "metadata": {},
   "outputs": [],
   "source": []
  },
  {
   "cell_type": "code",
   "execution_count": 193,
   "metadata": {},
   "outputs": [
    {
     "name": "stdout",
     "output_type": "stream",
     "text": [
      "<class 'pandas.core.frame.DataFrame'>\n",
      "RangeIndex: 3997697 entries, 0 to 3997696\n",
      "Data columns (total 8 columns):\n",
      "Timestamp            int64\n",
      "Open                 float64\n",
      "High                 float64\n",
      "Low                  float64\n",
      "Close                float64\n",
      "Volume_(BTC)         float64\n",
      "Volume_(Currency)    float64\n",
      "Weighted_Price       float64\n",
      "dtypes: float64(7), int64(1)\n",
      "memory usage: 244.0 MB\n"
     ]
    }
   ],
   "source": [
    "df.info()"
   ]
  },
  {
   "cell_type": "code",
   "execution_count": 194,
   "metadata": {},
   "outputs": [],
   "source": [
    "\n",
    "df = df.dropna()"
   ]
  },
  {
   "cell_type": "code",
   "execution_count": 195,
   "metadata": {},
   "outputs": [
    {
     "name": "stdout",
     "output_type": "stream",
     "text": [
      "<class 'pandas.core.frame.DataFrame'>\n",
      "Int64Index: 2765819 entries, 0 to 3997696\n",
      "Data columns (total 8 columns):\n",
      "Timestamp            int64\n",
      "Open                 float64\n",
      "High                 float64\n",
      "Low                  float64\n",
      "Close                float64\n",
      "Volume_(BTC)         float64\n",
      "Volume_(Currency)    float64\n",
      "Weighted_Price       float64\n",
      "dtypes: float64(7), int64(1)\n",
      "memory usage: 189.9 MB\n"
     ]
    }
   ],
   "source": [
    "df.info()"
   ]
  },
  {
   "cell_type": "code",
   "execution_count": 196,
   "metadata": {},
   "outputs": [],
   "source": [
    "#sns.heatmap(df.isnull(),yticklabels=False,cbar=False,cmap='viridis')"
   ]
  },
  {
   "cell_type": "code",
   "execution_count": 197,
   "metadata": {},
   "outputs": [
    {
     "data": {
      "text/html": [
       "<div>\n",
       "<style scoped>\n",
       "    .dataframe tbody tr th:only-of-type {\n",
       "        vertical-align: middle;\n",
       "    }\n",
       "\n",
       "    .dataframe tbody tr th {\n",
       "        vertical-align: top;\n",
       "    }\n",
       "\n",
       "    .dataframe thead th {\n",
       "        text-align: right;\n",
       "    }\n",
       "</style>\n",
       "<table border=\"1\" class=\"dataframe\">\n",
       "  <thead>\n",
       "    <tr style=\"text-align: right;\">\n",
       "      <th></th>\n",
       "      <th>Timestamp</th>\n",
       "      <th>Open</th>\n",
       "      <th>High</th>\n",
       "      <th>Low</th>\n",
       "      <th>Close</th>\n",
       "      <th>Volume_(BTC)</th>\n",
       "      <th>Volume_(Currency)</th>\n",
       "      <th>Weighted_Price</th>\n",
       "    </tr>\n",
       "  </thead>\n",
       "  <tbody>\n",
       "    <tr>\n",
       "      <td>0</td>\n",
       "      <td>1325317920</td>\n",
       "      <td>4.39</td>\n",
       "      <td>4.39</td>\n",
       "      <td>4.39</td>\n",
       "      <td>4.39</td>\n",
       "      <td>0.455581</td>\n",
       "      <td>2.000000</td>\n",
       "      <td>4.390000</td>\n",
       "    </tr>\n",
       "    <tr>\n",
       "      <td>478</td>\n",
       "      <td>1325346600</td>\n",
       "      <td>4.39</td>\n",
       "      <td>4.39</td>\n",
       "      <td>4.39</td>\n",
       "      <td>4.39</td>\n",
       "      <td>48.000000</td>\n",
       "      <td>210.720000</td>\n",
       "      <td>4.390000</td>\n",
       "    </tr>\n",
       "    <tr>\n",
       "      <td>547</td>\n",
       "      <td>1325350740</td>\n",
       "      <td>4.50</td>\n",
       "      <td>4.57</td>\n",
       "      <td>4.50</td>\n",
       "      <td>4.57</td>\n",
       "      <td>37.862297</td>\n",
       "      <td>171.380338</td>\n",
       "      <td>4.526411</td>\n",
       "    </tr>\n",
       "    <tr>\n",
       "      <td>548</td>\n",
       "      <td>1325350800</td>\n",
       "      <td>4.58</td>\n",
       "      <td>4.58</td>\n",
       "      <td>4.58</td>\n",
       "      <td>4.58</td>\n",
       "      <td>9.000000</td>\n",
       "      <td>41.220000</td>\n",
       "      <td>4.580000</td>\n",
       "    </tr>\n",
       "    <tr>\n",
       "      <td>1224</td>\n",
       "      <td>1325391360</td>\n",
       "      <td>4.58</td>\n",
       "      <td>4.58</td>\n",
       "      <td>4.58</td>\n",
       "      <td>4.58</td>\n",
       "      <td>1.502000</td>\n",
       "      <td>6.879160</td>\n",
       "      <td>4.580000</td>\n",
       "    </tr>\n",
       "  </tbody>\n",
       "</table>\n",
       "</div>"
      ],
      "text/plain": [
       "       Timestamp  Open  High   Low  Close  Volume_(BTC)  Volume_(Currency)  \\\n",
       "0     1325317920  4.39  4.39  4.39   4.39      0.455581           2.000000   \n",
       "478   1325346600  4.39  4.39  4.39   4.39     48.000000         210.720000   \n",
       "547   1325350740  4.50  4.57  4.50   4.57     37.862297         171.380338   \n",
       "548   1325350800  4.58  4.58  4.58   4.58      9.000000          41.220000   \n",
       "1224  1325391360  4.58  4.58  4.58   4.58      1.502000           6.879160   \n",
       "\n",
       "      Weighted_Price  \n",
       "0           4.390000  \n",
       "478         4.390000  \n",
       "547         4.526411  \n",
       "548         4.580000  \n",
       "1224        4.580000  "
      ]
     },
     "execution_count": 197,
     "metadata": {},
     "output_type": "execute_result"
    }
   ],
   "source": [
    "df.head()"
   ]
  },
  {
   "cell_type": "code",
   "execution_count": null,
   "metadata": {},
   "outputs": [],
   "source": []
  },
  {
   "cell_type": "code",
   "execution_count": 198,
   "metadata": {},
   "outputs": [
    {
     "name": "stdout",
     "output_type": "stream",
     "text": [
      "<class 'pandas.core.frame.DataFrame'>\n",
      "Int64Index: 2765819 entries, 0 to 3997696\n",
      "Data columns (total 8 columns):\n",
      "Timestamp            int64\n",
      "Open                 float64\n",
      "High                 float64\n",
      "Low                  float64\n",
      "Close                float64\n",
      "Volume_(BTC)         float64\n",
      "Volume_(Currency)    float64\n",
      "Weighted_Price       float64\n",
      "dtypes: float64(7), int64(1)\n",
      "memory usage: 189.9 MB\n"
     ]
    }
   ],
   "source": [
    "df.info()"
   ]
  },
  {
   "cell_type": "code",
   "execution_count": 199,
   "metadata": {},
   "outputs": [],
   "source": [
    "#converting UNIX epoch time to human readable date-time format\n",
    "\n",
    "df['Timestamp'] = pd.to_datetime(df['Timestamp'],unit='s')"
   ]
  },
  {
   "cell_type": "code",
   "execution_count": 200,
   "metadata": {},
   "outputs": [
    {
     "name": "stdout",
     "output_type": "stream",
     "text": [
      "<class 'pandas.core.frame.DataFrame'>\n",
      "Int64Index: 2765819 entries, 0 to 3997696\n",
      "Data columns (total 8 columns):\n",
      "Timestamp            datetime64[ns]\n",
      "Open                 float64\n",
      "High                 float64\n",
      "Low                  float64\n",
      "Close                float64\n",
      "Volume_(BTC)         float64\n",
      "Volume_(Currency)    float64\n",
      "Weighted_Price       float64\n",
      "dtypes: datetime64[ns](1), float64(7)\n",
      "memory usage: 189.9 MB\n"
     ]
    }
   ],
   "source": [
    "df.info()"
   ]
  },
  {
   "cell_type": "code",
   "execution_count": null,
   "metadata": {},
   "outputs": [],
   "source": []
  },
  {
   "cell_type": "code",
   "execution_count": 201,
   "metadata": {},
   "outputs": [],
   "source": [
    "df = df.set_index('Timestamp')"
   ]
  },
  {
   "cell_type": "code",
   "execution_count": 202,
   "metadata": {},
   "outputs": [
    {
     "name": "stdout",
     "output_type": "stream",
     "text": [
      "<class 'pandas.core.frame.DataFrame'>\n",
      "DatetimeIndex: 2765819 entries, 2011-12-31 07:52:00 to 2019-08-12 00:00:00\n",
      "Data columns (total 7 columns):\n",
      "Open                 float64\n",
      "High                 float64\n",
      "Low                  float64\n",
      "Close                float64\n",
      "Volume_(BTC)         float64\n",
      "Volume_(Currency)    float64\n",
      "Weighted_Price       float64\n",
      "dtypes: float64(7)\n",
      "memory usage: 168.8 MB\n"
     ]
    }
   ],
   "source": [
    "df.info()"
   ]
  },
  {
   "cell_type": "code",
   "execution_count": 203,
   "metadata": {},
   "outputs": [],
   "source": [
    "df = df.resample(rule='D').mean()"
   ]
  },
  {
   "cell_type": "code",
   "execution_count": null,
   "metadata": {},
   "outputs": [],
   "source": []
  },
  {
   "cell_type": "code",
   "execution_count": 204,
   "metadata": {},
   "outputs": [
    {
     "data": {
      "text/html": [
       "<div>\n",
       "<style scoped>\n",
       "    .dataframe tbody tr th:only-of-type {\n",
       "        vertical-align: middle;\n",
       "    }\n",
       "\n",
       "    .dataframe tbody tr th {\n",
       "        vertical-align: top;\n",
       "    }\n",
       "\n",
       "    .dataframe thead th {\n",
       "        text-align: right;\n",
       "    }\n",
       "</style>\n",
       "<table border=\"1\" class=\"dataframe\">\n",
       "  <thead>\n",
       "    <tr style=\"text-align: right;\">\n",
       "      <th></th>\n",
       "      <th>Open</th>\n",
       "      <th>High</th>\n",
       "      <th>Low</th>\n",
       "      <th>Close</th>\n",
       "      <th>Volume_(BTC)</th>\n",
       "      <th>Volume_(Currency)</th>\n",
       "      <th>Weighted_Price</th>\n",
       "    </tr>\n",
       "    <tr>\n",
       "      <th>Timestamp</th>\n",
       "      <th></th>\n",
       "      <th></th>\n",
       "      <th></th>\n",
       "      <th></th>\n",
       "      <th></th>\n",
       "      <th></th>\n",
       "      <th></th>\n",
       "    </tr>\n",
       "  </thead>\n",
       "  <tbody>\n",
       "    <tr>\n",
       "      <td>2011-12-31</td>\n",
       "      <td>4.465000</td>\n",
       "      <td>4.482500</td>\n",
       "      <td>4.465000</td>\n",
       "      <td>4.482500</td>\n",
       "      <td>23.829470</td>\n",
       "      <td>106.330084</td>\n",
       "      <td>4.471603</td>\n",
       "    </tr>\n",
       "    <tr>\n",
       "      <td>2012-01-01</td>\n",
       "      <td>4.806667</td>\n",
       "      <td>4.806667</td>\n",
       "      <td>4.806667</td>\n",
       "      <td>4.806667</td>\n",
       "      <td>7.200667</td>\n",
       "      <td>35.259720</td>\n",
       "      <td>4.806667</td>\n",
       "    </tr>\n",
       "    <tr>\n",
       "      <td>2012-01-02</td>\n",
       "      <td>5.000000</td>\n",
       "      <td>5.000000</td>\n",
       "      <td>5.000000</td>\n",
       "      <td>5.000000</td>\n",
       "      <td>19.048000</td>\n",
       "      <td>95.240000</td>\n",
       "      <td>5.000000</td>\n",
       "    </tr>\n",
       "    <tr>\n",
       "      <td>2012-01-03</td>\n",
       "      <td>5.252500</td>\n",
       "      <td>5.252500</td>\n",
       "      <td>5.252500</td>\n",
       "      <td>5.252500</td>\n",
       "      <td>11.004660</td>\n",
       "      <td>58.100651</td>\n",
       "      <td>5.252500</td>\n",
       "    </tr>\n",
       "    <tr>\n",
       "      <td>2012-01-04</td>\n",
       "      <td>5.200000</td>\n",
       "      <td>5.223333</td>\n",
       "      <td>5.200000</td>\n",
       "      <td>5.223333</td>\n",
       "      <td>11.914807</td>\n",
       "      <td>63.119577</td>\n",
       "      <td>5.208159</td>\n",
       "    </tr>\n",
       "  </tbody>\n",
       "</table>\n",
       "</div>"
      ],
      "text/plain": [
       "                Open      High       Low     Close  Volume_(BTC)  \\\n",
       "Timestamp                                                          \n",
       "2011-12-31  4.465000  4.482500  4.465000  4.482500     23.829470   \n",
       "2012-01-01  4.806667  4.806667  4.806667  4.806667      7.200667   \n",
       "2012-01-02  5.000000  5.000000  5.000000  5.000000     19.048000   \n",
       "2012-01-03  5.252500  5.252500  5.252500  5.252500     11.004660   \n",
       "2012-01-04  5.200000  5.223333  5.200000  5.223333     11.914807   \n",
       "\n",
       "            Volume_(Currency)  Weighted_Price  \n",
       "Timestamp                                      \n",
       "2011-12-31         106.330084        4.471603  \n",
       "2012-01-01          35.259720        4.806667  \n",
       "2012-01-02          95.240000        5.000000  \n",
       "2012-01-03          58.100651        5.252500  \n",
       "2012-01-04          63.119577        5.208159  "
      ]
     },
     "execution_count": 204,
     "metadata": {},
     "output_type": "execute_result"
    }
   ],
   "source": [
    "df.head()"
   ]
  },
  {
   "cell_type": "code",
   "execution_count": 205,
   "metadata": {},
   "outputs": [
    {
     "name": "stdout",
     "output_type": "stream",
     "text": [
      "<class 'pandas.core.frame.DataFrame'>\n",
      "DatetimeIndex: 2782 entries, 2011-12-31 to 2019-08-12\n",
      "Freq: D\n",
      "Data columns (total 7 columns):\n",
      "Open                 2779 non-null float64\n",
      "High                 2779 non-null float64\n",
      "Low                  2779 non-null float64\n",
      "Close                2779 non-null float64\n",
      "Volume_(BTC)         2779 non-null float64\n",
      "Volume_(Currency)    2779 non-null float64\n",
      "Weighted_Price       2779 non-null float64\n",
      "dtypes: float64(7)\n",
      "memory usage: 173.9 KB\n"
     ]
    }
   ],
   "source": [
    "df.info()"
   ]
  },
  {
   "cell_type": "code",
   "execution_count": 206,
   "metadata": {},
   "outputs": [
    {
     "data": {
      "text/plain": [
       "Text(0.5, 1, 'bitstamp.corr()')"
      ]
     },
     "execution_count": 206,
     "metadata": {},
     "output_type": "execute_result"
    },
    {
     "data": {
      "image/png": "[encoded data removed]",
      "text/plain": [
       "<Figure size 432x288 with 2 Axes>"
      ]
     },
     "metadata": {
      "needs_background": "light"
     },
     "output_type": "display_data"
    }
   ],
   "source": [
    "sns.heatmap(df.corr(),cmap='coolwarm')\n",
    "plt.title('bitstamp.corr()')"
   ]
  },
  {
   "cell_type": "code",
   "execution_count": 207,
   "metadata": {},
   "outputs": [
    {
     "data": {
      "text/plain": [
       "Index(['Open', 'High', 'Low', 'Close', 'Volume_(BTC)', 'Volume_(Currency)',\n",
       "       'Weighted_Price'],\n",
       "      dtype='object')"
      ]
     },
     "execution_count": 207,
     "metadata": {},
     "output_type": "execute_result"
    }
   ],
   "source": [
    "df.columns"
   ]
  },
  {
   "cell_type": "code",
   "execution_count": null,
   "metadata": {},
   "outputs": [],
   "source": []
  },
  {
   "cell_type": "code",
   "execution_count": 208,
   "metadata": {},
   "outputs": [
    {
     "data": {
      "text/plain": [
       "count     2779.000000\n",
       "mean      2237.664928\n",
       "std       3393.135987\n",
       "min          4.331667\n",
       "25%        221.852596\n",
       "50%        510.040459\n",
       "75%       3579.923690\n",
       "max      19186.169610\n",
       "Name: Weighted_Price, dtype: float64"
      ]
     },
     "execution_count": 208,
     "metadata": {},
     "output_type": "execute_result"
    }
   ],
   "source": [
    "df['Weighted_Price'].describe()"
   ]
  },
  {
   "cell_type": "code",
   "execution_count": 209,
   "metadata": {},
   "outputs": [],
   "source": [
    "df = df.reset_index()"
   ]
  },
  {
   "cell_type": "code",
   "execution_count": 210,
   "metadata": {},
   "outputs": [],
   "source": [
    "df = df.dropna()"
   ]
  },
  {
   "cell_type": "code",
   "execution_count": 211,
   "metadata": {},
   "outputs": [
    {
     "data": {
      "text/html": [
       "<div>\n",
       "<style scoped>\n",
       "    .dataframe tbody tr th:only-of-type {\n",
       "        vertical-align: middle;\n",
       "    }\n",
       "\n",
       "    .dataframe tbody tr th {\n",
       "        vertical-align: top;\n",
       "    }\n",
       "\n",
       "    .dataframe thead th {\n",
       "        text-align: right;\n",
       "    }\n",
       "</style>\n",
       "<table border=\"1\" class=\"dataframe\">\n",
       "  <thead>\n",
       "    <tr style=\"text-align: right;\">\n",
       "      <th></th>\n",
       "      <th>Timestamp</th>\n",
       "      <th>Open</th>\n",
       "      <th>High</th>\n",
       "      <th>Low</th>\n",
       "      <th>Close</th>\n",
       "      <th>Volume_(BTC)</th>\n",
       "      <th>Volume_(Currency)</th>\n",
       "      <th>Weighted_Price</th>\n",
       "    </tr>\n",
       "  </thead>\n",
       "  <tbody>\n",
       "    <tr>\n",
       "      <td>0</td>\n",
       "      <td>2011-12-31</td>\n",
       "      <td>4.465000</td>\n",
       "      <td>4.482500</td>\n",
       "      <td>4.465000</td>\n",
       "      <td>4.482500</td>\n",
       "      <td>23.829470</td>\n",
       "      <td>106.330084</td>\n",
       "      <td>4.471603</td>\n",
       "    </tr>\n",
       "    <tr>\n",
       "      <td>1</td>\n",
       "      <td>2012-01-01</td>\n",
       "      <td>4.806667</td>\n",
       "      <td>4.806667</td>\n",
       "      <td>4.806667</td>\n",
       "      <td>4.806667</td>\n",
       "      <td>7.200667</td>\n",
       "      <td>35.259720</td>\n",
       "      <td>4.806667</td>\n",
       "    </tr>\n",
       "    <tr>\n",
       "      <td>2</td>\n",
       "      <td>2012-01-02</td>\n",
       "      <td>5.000000</td>\n",
       "      <td>5.000000</td>\n",
       "      <td>5.000000</td>\n",
       "      <td>5.000000</td>\n",
       "      <td>19.048000</td>\n",
       "      <td>95.240000</td>\n",
       "      <td>5.000000</td>\n",
       "    </tr>\n",
       "    <tr>\n",
       "      <td>3</td>\n",
       "      <td>2012-01-03</td>\n",
       "      <td>5.252500</td>\n",
       "      <td>5.252500</td>\n",
       "      <td>5.252500</td>\n",
       "      <td>5.252500</td>\n",
       "      <td>11.004660</td>\n",
       "      <td>58.100651</td>\n",
       "      <td>5.252500</td>\n",
       "    </tr>\n",
       "    <tr>\n",
       "      <td>4</td>\n",
       "      <td>2012-01-04</td>\n",
       "      <td>5.200000</td>\n",
       "      <td>5.223333</td>\n",
       "      <td>5.200000</td>\n",
       "      <td>5.223333</td>\n",
       "      <td>11.914807</td>\n",
       "      <td>63.119577</td>\n",
       "      <td>5.208159</td>\n",
       "    </tr>\n",
       "  </tbody>\n",
       "</table>\n",
       "</div>"
      ],
      "text/plain": [
       "   Timestamp      Open      High       Low     Close  Volume_(BTC)  \\\n",
       "0 2011-12-31  4.465000  4.482500  4.465000  4.482500     23.829470   \n",
       "1 2012-01-01  4.806667  4.806667  4.806667  4.806667      7.200667   \n",
       "2 2012-01-02  5.000000  5.000000  5.000000  5.000000     19.048000   \n",
       "3 2012-01-03  5.252500  5.252500  5.252500  5.252500     11.004660   \n",
       "4 2012-01-04  5.200000  5.223333  5.200000  5.223333     11.914807   \n",
       "\n",
       "   Volume_(Currency)  Weighted_Price  \n",
       "0         106.330084        4.471603  \n",
       "1          35.259720        4.806667  \n",
       "2          95.240000        5.000000  \n",
       "3          58.100651        5.252500  \n",
       "4          63.119577        5.208159  "
      ]
     },
     "execution_count": 211,
     "metadata": {},
     "output_type": "execute_result"
    }
   ],
   "source": [
    "df.head()"
   ]
  },
  {
   "cell_type": "code",
   "execution_count": 212,
   "metadata": {},
   "outputs": [
    {
     "data": {
      "image/png": "[encoded data removed]",
      "text/plain": [
       "<Figure size 720x432 with 1 Axes>"
      ]
     },
     "metadata": {
      "needs_background": "light"
     },
     "output_type": "display_data"
    }
   ],
   "source": [
    "data = df[['Open', 'High', 'Low', 'Close', 'Volume_(BTC)',\n",
    "       'Volume_(Currency)', 'Weighted_Price']]\n",
    "n_cluster = range(1, 15)\n",
    "kmeans = [KMeans(n_clusters=i).fit(data) for i in n_cluster]\n",
    "scores = [kmeans[i].score(data) for i in range(len(kmeans))]\n",
    "\n",
    "fig, ax = plt.subplots(figsize=(10,6))\n",
    "ax.plot(n_cluster, scores)\n",
    "plt.xlabel('Number of Clusters')\n",
    "plt.ylabel('Score')\n",
    "plt.title('Elbow Curve')\n",
    "plt.show();"
   ]
  },
  {
   "cell_type": "markdown",
   "metadata": {},
   "source": [
    "From the curve we can see that after 5 cluster graph becomes flatter so we will set n_cluster = 5  "
   ]
  },
  {
   "cell_type": "code",
   "execution_count": 213,
   "metadata": {},
   "outputs": [
    {
     "data": {
      "text/html": [
       "<div>\n",
       "<style scoped>\n",
       "    .dataframe tbody tr th:only-of-type {\n",
       "        vertical-align: middle;\n",
       "    }\n",
       "\n",
       "    .dataframe tbody tr th {\n",
       "        vertical-align: top;\n",
       "    }\n",
       "\n",
       "    .dataframe thead th {\n",
       "        text-align: right;\n",
       "    }\n",
       "</style>\n",
       "<table border=\"1\" class=\"dataframe\">\n",
       "  <thead>\n",
       "    <tr style=\"text-align: right;\">\n",
       "      <th></th>\n",
       "      <th>Timestamp</th>\n",
       "      <th>Open</th>\n",
       "      <th>High</th>\n",
       "      <th>Low</th>\n",
       "      <th>Close</th>\n",
       "      <th>Volume_(BTC)</th>\n",
       "      <th>Volume_(Currency)</th>\n",
       "      <th>Weighted_Price</th>\n",
       "    </tr>\n",
       "  </thead>\n",
       "  <tbody>\n",
       "    <tr>\n",
       "      <td>0</td>\n",
       "      <td>2011-12-31</td>\n",
       "      <td>4.465000</td>\n",
       "      <td>4.482500</td>\n",
       "      <td>4.465000</td>\n",
       "      <td>4.482500</td>\n",
       "      <td>23.829470</td>\n",
       "      <td>106.330084</td>\n",
       "      <td>4.471603</td>\n",
       "    </tr>\n",
       "    <tr>\n",
       "      <td>1</td>\n",
       "      <td>2012-01-01</td>\n",
       "      <td>4.806667</td>\n",
       "      <td>4.806667</td>\n",
       "      <td>4.806667</td>\n",
       "      <td>4.806667</td>\n",
       "      <td>7.200667</td>\n",
       "      <td>35.259720</td>\n",
       "      <td>4.806667</td>\n",
       "    </tr>\n",
       "    <tr>\n",
       "      <td>2</td>\n",
       "      <td>2012-01-02</td>\n",
       "      <td>5.000000</td>\n",
       "      <td>5.000000</td>\n",
       "      <td>5.000000</td>\n",
       "      <td>5.000000</td>\n",
       "      <td>19.048000</td>\n",
       "      <td>95.240000</td>\n",
       "      <td>5.000000</td>\n",
       "    </tr>\n",
       "    <tr>\n",
       "      <td>3</td>\n",
       "      <td>2012-01-03</td>\n",
       "      <td>5.252500</td>\n",
       "      <td>5.252500</td>\n",
       "      <td>5.252500</td>\n",
       "      <td>5.252500</td>\n",
       "      <td>11.004660</td>\n",
       "      <td>58.100651</td>\n",
       "      <td>5.252500</td>\n",
       "    </tr>\n",
       "    <tr>\n",
       "      <td>4</td>\n",
       "      <td>2012-01-04</td>\n",
       "      <td>5.200000</td>\n",
       "      <td>5.223333</td>\n",
       "      <td>5.200000</td>\n",
       "      <td>5.223333</td>\n",
       "      <td>11.914807</td>\n",
       "      <td>63.119577</td>\n",
       "      <td>5.208159</td>\n",
       "    </tr>\n",
       "  </tbody>\n",
       "</table>\n",
       "</div>"
      ],
      "text/plain": [
       "   Timestamp      Open      High       Low     Close  Volume_(BTC)  \\\n",
       "0 2011-12-31  4.465000  4.482500  4.465000  4.482500     23.829470   \n",
       "1 2012-01-01  4.806667  4.806667  4.806667  4.806667      7.200667   \n",
       "2 2012-01-02  5.000000  5.000000  5.000000  5.000000     19.048000   \n",
       "3 2012-01-03  5.252500  5.252500  5.252500  5.252500     11.004660   \n",
       "4 2012-01-04  5.200000  5.223333  5.200000  5.223333     11.914807   \n",
       "\n",
       "   Volume_(Currency)  Weighted_Price  \n",
       "0         106.330084        4.471603  \n",
       "1          35.259720        4.806667  \n",
       "2          95.240000        5.000000  \n",
       "3          58.100651        5.252500  \n",
       "4          63.119577        5.208159  "
      ]
     },
     "execution_count": 213,
     "metadata": {},
     "output_type": "execute_result"
    }
   ],
   "source": [
    "df.head()"
   ]
  },
  {
   "cell_type": "code",
   "execution_count": 215,
   "metadata": {},
   "outputs": [
    {
     "data": {
      "image/png": "[encoded data removed]",
      "text/plain": [
       "<Figure size 720x360 with 1 Axes>"
      ]
     },
     "metadata": {
      "needs_background": "light"
     },
     "output_type": "display_data"
    }
   ],
   "source": [
    "data = df[['Open', 'High', 'Low', 'Close', 'Volume_(BTC)','Volume_(Currency)', 'Weighted_Price']]\n",
    "X = data.values\n",
    "X_std = StandardScaler().fit_transform(X)\n",
    "mean_vec = np.mean(X_std, axis=0)\n",
    "cov_mat = np.cov(X_std.T)\n",
    "eig_vals, eig_vecs = np.linalg.eig(cov_mat)\n",
    "eig_pairs = [ (np.abs(eig_vals[i]),eig_vecs[:,i]) for i in range(len(eig_vals))]\n",
    "eig_pairs.sort(key = lambda x: x[0], reverse= True)\n",
    "tot = sum(eig_vals)\n",
    "var_exp = [(i/tot)*100 for i in sorted(eig_vals, reverse=True)] # Individual explained variance\n",
    "cum_var_exp = np.cumsum(var_exp) # Cumulative explained variance\n",
    "\n",
    "plt.figure(figsize=(10, 5))\n",
    "plt.bar(range(len(var_exp)), var_exp, alpha=0.3, align='center', label='individual explained variance', color = 'g')\n",
    "plt.step(range(len(cum_var_exp)), cum_var_exp, where='mid',label='cumulative explained variance')\n",
    "plt.ylabel('Explained variance ratio')\n",
    "plt.xlabel('Principal components')\n",
    "plt.legend(loc='best')\n",
    "plt.show();"
   ]
  },
  {
   "cell_type": "code",
   "execution_count": 216,
   "metadata": {},
   "outputs": [
    {
     "data": {
      "text/html": [
       "<div>\n",
       "<style scoped>\n",
       "    .dataframe tbody tr th:only-of-type {\n",
       "        vertical-align: middle;\n",
       "    }\n",
       "\n",
       "    .dataframe tbody tr th {\n",
       "        vertical-align: top;\n",
       "    }\n",
       "\n",
       "    .dataframe thead th {\n",
       "        text-align: right;\n",
       "    }\n",
       "</style>\n",
       "<table border=\"1\" class=\"dataframe\">\n",
       "  <thead>\n",
       "    <tr style=\"text-align: right;\">\n",
       "      <th></th>\n",
       "      <th>Timestamp</th>\n",
       "      <th>Open</th>\n",
       "      <th>High</th>\n",
       "      <th>Low</th>\n",
       "      <th>Close</th>\n",
       "      <th>Volume_(BTC)</th>\n",
       "      <th>Volume_(Currency)</th>\n",
       "      <th>Weighted_Price</th>\n",
       "    </tr>\n",
       "  </thead>\n",
       "  <tbody>\n",
       "    <tr>\n",
       "      <td>0</td>\n",
       "      <td>2011-12-31</td>\n",
       "      <td>4.465000</td>\n",
       "      <td>4.482500</td>\n",
       "      <td>4.465000</td>\n",
       "      <td>4.482500</td>\n",
       "      <td>23.829470</td>\n",
       "      <td>106.330084</td>\n",
       "      <td>4.471603</td>\n",
       "    </tr>\n",
       "    <tr>\n",
       "      <td>1</td>\n",
       "      <td>2012-01-01</td>\n",
       "      <td>4.806667</td>\n",
       "      <td>4.806667</td>\n",
       "      <td>4.806667</td>\n",
       "      <td>4.806667</td>\n",
       "      <td>7.200667</td>\n",
       "      <td>35.259720</td>\n",
       "      <td>4.806667</td>\n",
       "    </tr>\n",
       "    <tr>\n",
       "      <td>2</td>\n",
       "      <td>2012-01-02</td>\n",
       "      <td>5.000000</td>\n",
       "      <td>5.000000</td>\n",
       "      <td>5.000000</td>\n",
       "      <td>5.000000</td>\n",
       "      <td>19.048000</td>\n",
       "      <td>95.240000</td>\n",
       "      <td>5.000000</td>\n",
       "    </tr>\n",
       "    <tr>\n",
       "      <td>3</td>\n",
       "      <td>2012-01-03</td>\n",
       "      <td>5.252500</td>\n",
       "      <td>5.252500</td>\n",
       "      <td>5.252500</td>\n",
       "      <td>5.252500</td>\n",
       "      <td>11.004660</td>\n",
       "      <td>58.100651</td>\n",
       "      <td>5.252500</td>\n",
       "    </tr>\n",
       "    <tr>\n",
       "      <td>4</td>\n",
       "      <td>2012-01-04</td>\n",
       "      <td>5.200000</td>\n",
       "      <td>5.223333</td>\n",
       "      <td>5.200000</td>\n",
       "      <td>5.223333</td>\n",
       "      <td>11.914807</td>\n",
       "      <td>63.119577</td>\n",
       "      <td>5.208159</td>\n",
       "    </tr>\n",
       "  </tbody>\n",
       "</table>\n",
       "</div>"
      ],
      "text/plain": [
       "   Timestamp      Open      High       Low     Close  Volume_(BTC)  \\\n",
       "0 2011-12-31  4.465000  4.482500  4.465000  4.482500     23.829470   \n",
       "1 2012-01-01  4.806667  4.806667  4.806667  4.806667      7.200667   \n",
       "2 2012-01-02  5.000000  5.000000  5.000000  5.000000     19.048000   \n",
       "3 2012-01-03  5.252500  5.252500  5.252500  5.252500     11.004660   \n",
       "4 2012-01-04  5.200000  5.223333  5.200000  5.223333     11.914807   \n",
       "\n",
       "   Volume_(Currency)  Weighted_Price  \n",
       "0         106.330084        4.471603  \n",
       "1          35.259720        4.806667  \n",
       "2          95.240000        5.000000  \n",
       "3          58.100651        5.252500  \n",
       "4          63.119577        5.208159  "
      ]
     },
     "execution_count": 216,
     "metadata": {},
     "output_type": "execute_result"
    }
   ],
   "source": [
    "df.head()"
   ]
  },
  {
   "cell_type": "code",
   "execution_count": 217,
   "metadata": {},
   "outputs": [],
   "source": [
    "# Take useful feature and standardize them\n",
    "data = df[['Open', 'High', 'Low', 'Close', 'Volume_(BTC)','Volume_(Currency)', 'Weighted_Price']]\n",
    "X_std = StandardScaler().fit_transform(X)\n",
    "data = pd.DataFrame(X_std)\n",
    "# reduce to 2 important features\n",
    "pca = PCA(n_components=2)\n",
    "data = pca.fit_transform(data)\n",
    "# standardize these 2 new features\n",
    "scaler = StandardScaler()\n",
    "np_scaled = scaler.fit_transform(data)\n",
    "data = pd.DataFrame(np_scaled)"
   ]
  },
  {
   "cell_type": "code",
   "execution_count": 218,
   "metadata": {},
   "outputs": [
    {
     "data": {
      "text/html": [
       "<div>\n",
       "<style scoped>\n",
       "    .dataframe tbody tr th:only-of-type {\n",
       "        vertical-align: middle;\n",
       "    }\n",
       "\n",
       "    .dataframe tbody tr th {\n",
       "        vertical-align: top;\n",
       "    }\n",
       "\n",
       "    .dataframe thead th {\n",
       "        text-align: right;\n",
       "    }\n",
       "</style>\n",
       "<table border=\"1\" class=\"dataframe\">\n",
       "  <thead>\n",
       "    <tr style=\"text-align: right;\">\n",
       "      <th></th>\n",
       "      <th>Timestamp</th>\n",
       "      <th>Open</th>\n",
       "      <th>High</th>\n",
       "      <th>Low</th>\n",
       "      <th>Close</th>\n",
       "      <th>Volume_(BTC)</th>\n",
       "      <th>Volume_(Currency)</th>\n",
       "      <th>Weighted_Price</th>\n",
       "    </tr>\n",
       "  </thead>\n",
       "  <tbody>\n",
       "    <tr>\n",
       "      <td>0</td>\n",
       "      <td>2011-12-31</td>\n",
       "      <td>4.465000</td>\n",
       "      <td>4.482500</td>\n",
       "      <td>4.465000</td>\n",
       "      <td>4.482500</td>\n",
       "      <td>23.829470</td>\n",
       "      <td>106.330084</td>\n",
       "      <td>4.471603</td>\n",
       "    </tr>\n",
       "    <tr>\n",
       "      <td>1</td>\n",
       "      <td>2012-01-01</td>\n",
       "      <td>4.806667</td>\n",
       "      <td>4.806667</td>\n",
       "      <td>4.806667</td>\n",
       "      <td>4.806667</td>\n",
       "      <td>7.200667</td>\n",
       "      <td>35.259720</td>\n",
       "      <td>4.806667</td>\n",
       "    </tr>\n",
       "    <tr>\n",
       "      <td>2</td>\n",
       "      <td>2012-01-02</td>\n",
       "      <td>5.000000</td>\n",
       "      <td>5.000000</td>\n",
       "      <td>5.000000</td>\n",
       "      <td>5.000000</td>\n",
       "      <td>19.048000</td>\n",
       "      <td>95.240000</td>\n",
       "      <td>5.000000</td>\n",
       "    </tr>\n",
       "    <tr>\n",
       "      <td>3</td>\n",
       "      <td>2012-01-03</td>\n",
       "      <td>5.252500</td>\n",
       "      <td>5.252500</td>\n",
       "      <td>5.252500</td>\n",
       "      <td>5.252500</td>\n",
       "      <td>11.004660</td>\n",
       "      <td>58.100651</td>\n",
       "      <td>5.252500</td>\n",
       "    </tr>\n",
       "    <tr>\n",
       "      <td>4</td>\n",
       "      <td>2012-01-04</td>\n",
       "      <td>5.200000</td>\n",
       "      <td>5.223333</td>\n",
       "      <td>5.200000</td>\n",
       "      <td>5.223333</td>\n",
       "      <td>11.914807</td>\n",
       "      <td>63.119577</td>\n",
       "      <td>5.208159</td>\n",
       "    </tr>\n",
       "  </tbody>\n",
       "</table>\n",
       "</div>"
      ],
      "text/plain": [
       "   Timestamp      Open      High       Low     Close  Volume_(BTC)  \\\n",
       "0 2011-12-31  4.465000  4.482500  4.465000  4.482500     23.829470   \n",
       "1 2012-01-01  4.806667  4.806667  4.806667  4.806667      7.200667   \n",
       "2 2012-01-02  5.000000  5.000000  5.000000  5.000000     19.048000   \n",
       "3 2012-01-03  5.252500  5.252500  5.252500  5.252500     11.004660   \n",
       "4 2012-01-04  5.200000  5.223333  5.200000  5.223333     11.914807   \n",
       "\n",
       "   Volume_(Currency)  Weighted_Price  \n",
       "0         106.330084        4.471603  \n",
       "1          35.259720        4.806667  \n",
       "2          95.240000        5.000000  \n",
       "3          58.100651        5.252500  \n",
       "4          63.119577        5.208159  "
      ]
     },
     "execution_count": 218,
     "metadata": {},
     "output_type": "execute_result"
    }
   ],
   "source": [
    "df.head()"
   ]
  },
  {
   "cell_type": "code",
   "execution_count": 219,
   "metadata": {},
   "outputs": [
    {
     "data": {
      "text/plain": [
       "2    1128\n",
       "1     666\n",
       "0     508\n",
       "5     248\n",
       "4     204\n",
       "3      25\n",
       "Name: cluster, dtype: int64"
      ]
     },
     "execution_count": 219,
     "metadata": {},
     "output_type": "execute_result"
    }
   ],
   "source": [
    "kmeans = [KMeans(n_clusters=i).fit(data) for i in n_cluster]\n",
    "df['cluster'] = kmeans[5].predict(data)\n",
    "df.index = data.index\n",
    "df['principal_feature1'] = data[0]\n",
    "df['principal_feature2'] = data[1]\n",
    "df['cluster'].value_counts()"
   ]
  },
  {
   "cell_type": "code",
   "execution_count": 220,
   "metadata": {},
   "outputs": [
    {
     "data": {
      "text/html": [
       "<div>\n",
       "<style scoped>\n",
       "    .dataframe tbody tr th:only-of-type {\n",
       "        vertical-align: middle;\n",
       "    }\n",
       "\n",
       "    .dataframe tbody tr th {\n",
       "        vertical-align: top;\n",
       "    }\n",
       "\n",
       "    .dataframe thead th {\n",
       "        text-align: right;\n",
       "    }\n",
       "</style>\n",
       "<table border=\"1\" class=\"dataframe\">\n",
       "  <thead>\n",
       "    <tr style=\"text-align: right;\">\n",
       "      <th></th>\n",
       "      <th>Timestamp</th>\n",
       "      <th>Open</th>\n",
       "      <th>High</th>\n",
       "      <th>Low</th>\n",
       "      <th>Close</th>\n",
       "      <th>Volume_(BTC)</th>\n",
       "      <th>Volume_(Currency)</th>\n",
       "      <th>Weighted_Price</th>\n",
       "      <th>cluster</th>\n",
       "      <th>principal_feature1</th>\n",
       "      <th>principal_feature2</th>\n",
       "    </tr>\n",
       "  </thead>\n",
       "  <tbody>\n",
       "    <tr>\n",
       "      <td>0</td>\n",
       "      <td>2011-12-31</td>\n",
       "      <td>4.465000</td>\n",
       "      <td>4.482500</td>\n",
       "      <td>4.465000</td>\n",
       "      <td>4.482500</td>\n",
       "      <td>23.829470</td>\n",
       "      <td>106.330084</td>\n",
       "      <td>4.471603</td>\n",
       "      <td>5</td>\n",
       "      <td>-0.690261</td>\n",
       "      <td>1.162149</td>\n",
       "    </tr>\n",
       "    <tr>\n",
       "      <td>1</td>\n",
       "      <td>2012-01-01</td>\n",
       "      <td>4.806667</td>\n",
       "      <td>4.806667</td>\n",
       "      <td>4.806667</td>\n",
       "      <td>4.806667</td>\n",
       "      <td>7.200667</td>\n",
       "      <td>35.259720</td>\n",
       "      <td>4.806667</td>\n",
       "      <td>2</td>\n",
       "      <td>-0.632824</td>\n",
       "      <td>-0.517301</td>\n",
       "    </tr>\n",
       "    <tr>\n",
       "      <td>2</td>\n",
       "      <td>2012-01-02</td>\n",
       "      <td>5.000000</td>\n",
       "      <td>5.000000</td>\n",
       "      <td>5.000000</td>\n",
       "      <td>5.000000</td>\n",
       "      <td>19.048000</td>\n",
       "      <td>95.240000</td>\n",
       "      <td>5.000000</td>\n",
       "      <td>1</td>\n",
       "      <td>-0.673599</td>\n",
       "      <td>0.679298</td>\n",
       "    </tr>\n",
       "    <tr>\n",
       "      <td>3</td>\n",
       "      <td>2012-01-03</td>\n",
       "      <td>5.252500</td>\n",
       "      <td>5.252500</td>\n",
       "      <td>5.252500</td>\n",
       "      <td>5.252500</td>\n",
       "      <td>11.004660</td>\n",
       "      <td>58.100651</td>\n",
       "      <td>5.252500</td>\n",
       "      <td>2</td>\n",
       "      <td>-0.645804</td>\n",
       "      <td>-0.133073</td>\n",
       "    </tr>\n",
       "    <tr>\n",
       "      <td>4</td>\n",
       "      <td>2012-01-04</td>\n",
       "      <td>5.200000</td>\n",
       "      <td>5.223333</td>\n",
       "      <td>5.200000</td>\n",
       "      <td>5.223333</td>\n",
       "      <td>11.914807</td>\n",
       "      <td>63.119577</td>\n",
       "      <td>5.208159</td>\n",
       "      <td>1</td>\n",
       "      <td>-0.648949</td>\n",
       "      <td>-0.041143</td>\n",
       "    </tr>\n",
       "  </tbody>\n",
       "</table>\n",
       "</div>"
      ],
      "text/plain": [
       "   Timestamp      Open      High       Low     Close  Volume_(BTC)  \\\n",
       "0 2011-12-31  4.465000  4.482500  4.465000  4.482500     23.829470   \n",
       "1 2012-01-01  4.806667  4.806667  4.806667  4.806667      7.200667   \n",
       "2 2012-01-02  5.000000  5.000000  5.000000  5.000000     19.048000   \n",
       "3 2012-01-03  5.252500  5.252500  5.252500  5.252500     11.004660   \n",
       "4 2012-01-04  5.200000  5.223333  5.200000  5.223333     11.914807   \n",
       "\n",
       "   Volume_(Currency)  Weighted_Price  cluster  principal_feature1  \\\n",
       "0         106.330084        4.471603        5           -0.690261   \n",
       "1          35.259720        4.806667        2           -0.632824   \n",
       "2          95.240000        5.000000        1           -0.673599   \n",
       "3          58.100651        5.252500        2           -0.645804   \n",
       "4          63.119577        5.208159        1           -0.648949   \n",
       "\n",
       "   principal_feature2  \n",
       "0            1.162149  \n",
       "1           -0.517301  \n",
       "2            0.679298  \n",
       "3           -0.133073  \n",
       "4           -0.041143  "
      ]
     },
     "execution_count": 220,
     "metadata": {},
     "output_type": "execute_result"
    }
   ],
   "source": [
    "df.head()"
   ]
  },
  {
   "cell_type": "code",
   "execution_count": 221,
   "metadata": {},
   "outputs": [
    {
     "name": "stderr",
     "output_type": "stream",
     "text": [
      "D:\\Ana3\\envs\\tf_gpu4\\lib\\site-packages\\ipykernel_launcher.py:7: FutureWarning: set_value is deprecated and will be removed in a future release. Please use .at[] or .iat[] accessors instead\n",
      "  import sys\n"
     ]
    }
   ],
   "source": [
    "# return Series of distance between each point and its distance with the closest centroid\n",
    "def getDistanceByPoint(data, model):\n",
    "    distance = pd.Series()\n",
    "    for i in range(0,len(data)):\n",
    "        Xa = np.array(data.loc[i])\n",
    "        Xb = model.cluster_centers_[model.labels_[i]-1]\n",
    "        distance.set_value(i, np.linalg.norm(Xa-Xb))\n",
    "    return distance\n",
    "\n",
    "outliers_fraction = 0.01\n",
    "# get the distance between each point and its nearest centroid. The biggest distances are considered as anomaly\n",
    "distance = getDistanceByPoint(data, kmeans[5])\n",
    "number_of_outliers = int(outliers_fraction*len(distance))\n",
    "threshold = distance.nlargest(number_of_outliers).min()\n",
    "# anomaly1 contain the anomaly result of the above method Cluster (0:normal, 1:anomaly) \n",
    "df['anomaly1'] = (distance >= threshold).astype(int)\n"
   ]
  },
  {
   "cell_type": "code",
   "execution_count": 222,
   "metadata": {},
   "outputs": [
    {
     "data": {
      "image/png": "[encoded data removed]",
      "text/plain": [
       "<Figure size 720x432 with 1 Axes>"
      ]
     },
     "metadata": {
      "needs_background": "light"
     },
     "output_type": "display_data"
    }
   ],
   "source": [
    "fig, ax = plt.subplots(figsize=(10,6))\n",
    "colors = {0:'blue', 1:'red'}\n",
    "ax.scatter(df['principal_feature1'], df['principal_feature2'], c=df[\"anomaly1\"].apply(lambda x: colors[x]))\n",
    "plt.xlabel('principal feature1')\n",
    "plt.ylabel('principal feature2')\n",
    "plt.show();\n",
    "\n"
   ]
  },
  {
   "cell_type": "code",
   "execution_count": 223,
   "metadata": {},
   "outputs": [
    {
     "data": {
      "text/plain": [
       "0    2752\n",
       "1      27\n",
       "Name: anomaly1, dtype: int64"
      ]
     },
     "execution_count": 223,
     "metadata": {},
     "output_type": "execute_result"
    }
   ],
   "source": [
    "df.anomaly1.value_counts()"
   ]
  },
  {
   "cell_type": "code",
   "execution_count": 224,
   "metadata": {},
   "outputs": [
    {
     "data": {
      "text/html": [
       "<div>\n",
       "<style scoped>\n",
       "    .dataframe tbody tr th:only-of-type {\n",
       "        vertical-align: middle;\n",
       "    }\n",
       "\n",
       "    .dataframe tbody tr th {\n",
       "        vertical-align: top;\n",
       "    }\n",
       "\n",
       "    .dataframe thead th {\n",
       "        text-align: right;\n",
       "    }\n",
       "</style>\n",
       "<table border=\"1\" class=\"dataframe\">\n",
       "  <thead>\n",
       "    <tr style=\"text-align: right;\">\n",
       "      <th></th>\n",
       "      <th>Timestamp</th>\n",
       "      <th>Open</th>\n",
       "      <th>High</th>\n",
       "      <th>Low</th>\n",
       "      <th>Close</th>\n",
       "      <th>Volume_(BTC)</th>\n",
       "      <th>Volume_(Currency)</th>\n",
       "      <th>Weighted_Price</th>\n",
       "      <th>cluster</th>\n",
       "      <th>principal_feature1</th>\n",
       "      <th>principal_feature2</th>\n",
       "      <th>anomaly1</th>\n",
       "    </tr>\n",
       "  </thead>\n",
       "  <tbody>\n",
       "    <tr>\n",
       "      <td>0</td>\n",
       "      <td>2011-12-31</td>\n",
       "      <td>4.465000</td>\n",
       "      <td>4.482500</td>\n",
       "      <td>4.465000</td>\n",
       "      <td>4.482500</td>\n",
       "      <td>23.829470</td>\n",
       "      <td>106.330084</td>\n",
       "      <td>4.471603</td>\n",
       "      <td>5</td>\n",
       "      <td>-0.690261</td>\n",
       "      <td>1.162149</td>\n",
       "      <td>0</td>\n",
       "    </tr>\n",
       "    <tr>\n",
       "      <td>1</td>\n",
       "      <td>2012-01-01</td>\n",
       "      <td>4.806667</td>\n",
       "      <td>4.806667</td>\n",
       "      <td>4.806667</td>\n",
       "      <td>4.806667</td>\n",
       "      <td>7.200667</td>\n",
       "      <td>35.259720</td>\n",
       "      <td>4.806667</td>\n",
       "      <td>2</td>\n",
       "      <td>-0.632824</td>\n",
       "      <td>-0.517301</td>\n",
       "      <td>0</td>\n",
       "    </tr>\n",
       "    <tr>\n",
       "      <td>2</td>\n",
       "      <td>2012-01-02</td>\n",
       "      <td>5.000000</td>\n",
       "      <td>5.000000</td>\n",
       "      <td>5.000000</td>\n",
       "      <td>5.000000</td>\n",
       "      <td>19.048000</td>\n",
       "      <td>95.240000</td>\n",
       "      <td>5.000000</td>\n",
       "      <td>1</td>\n",
       "      <td>-0.673599</td>\n",
       "      <td>0.679298</td>\n",
       "      <td>0</td>\n",
       "    </tr>\n",
       "    <tr>\n",
       "      <td>3</td>\n",
       "      <td>2012-01-03</td>\n",
       "      <td>5.252500</td>\n",
       "      <td>5.252500</td>\n",
       "      <td>5.252500</td>\n",
       "      <td>5.252500</td>\n",
       "      <td>11.004660</td>\n",
       "      <td>58.100651</td>\n",
       "      <td>5.252500</td>\n",
       "      <td>2</td>\n",
       "      <td>-0.645804</td>\n",
       "      <td>-0.133073</td>\n",
       "      <td>0</td>\n",
       "    </tr>\n",
       "    <tr>\n",
       "      <td>4</td>\n",
       "      <td>2012-01-04</td>\n",
       "      <td>5.200000</td>\n",
       "      <td>5.223333</td>\n",
       "      <td>5.200000</td>\n",
       "      <td>5.223333</td>\n",
       "      <td>11.914807</td>\n",
       "      <td>63.119577</td>\n",
       "      <td>5.208159</td>\n",
       "      <td>1</td>\n",
       "      <td>-0.648949</td>\n",
       "      <td>-0.041143</td>\n",
       "      <td>0</td>\n",
       "    </tr>\n",
       "  </tbody>\n",
       "</table>\n",
       "</div>"
      ],
      "text/plain": [
       "   Timestamp      Open      High       Low     Close  Volume_(BTC)  \\\n",
       "0 2011-12-31  4.465000  4.482500  4.465000  4.482500     23.829470   \n",
       "1 2012-01-01  4.806667  4.806667  4.806667  4.806667      7.200667   \n",
       "2 2012-01-02  5.000000  5.000000  5.000000  5.000000     19.048000   \n",
       "3 2012-01-03  5.252500  5.252500  5.252500  5.252500     11.004660   \n",
       "4 2012-01-04  5.200000  5.223333  5.200000  5.223333     11.914807   \n",
       "\n",
       "   Volume_(Currency)  Weighted_Price  cluster  principal_feature1  \\\n",
       "0         106.330084        4.471603        5           -0.690261   \n",
       "1          35.259720        4.806667        2           -0.632824   \n",
       "2          95.240000        5.000000        1           -0.673599   \n",
       "3          58.100651        5.252500        2           -0.645804   \n",
       "4          63.119577        5.208159        1           -0.648949   \n",
       "\n",
       "   principal_feature2  anomaly1  \n",
       "0            1.162149         0  \n",
       "1           -0.517301         0  \n",
       "2            0.679298         0  \n",
       "3           -0.133073         0  \n",
       "4           -0.041143         0  "
      ]
     },
     "execution_count": 224,
     "metadata": {},
     "output_type": "execute_result"
    }
   ],
   "source": [
    "df.head()"
   ]
  },
  {
   "cell_type": "code",
   "execution_count": 225,
   "metadata": {},
   "outputs": [],
   "source": [
    "df['Timestamp'] = pd.to_datetime(df['Timestamp'])"
   ]
  },
  {
   "cell_type": "code",
   "execution_count": 226,
   "metadata": {},
   "outputs": [
    {
     "name": "stdout",
     "output_type": "stream",
     "text": [
      "<class 'pandas.core.frame.DataFrame'>\n",
      "RangeIndex: 2779 entries, 0 to 2778\n",
      "Data columns (total 12 columns):\n",
      "Timestamp             2779 non-null datetime64[ns]\n",
      "Open                  2779 non-null float64\n",
      "High                  2779 non-null float64\n",
      "Low                   2779 non-null float64\n",
      "Close                 2779 non-null float64\n",
      "Volume_(BTC)          2779 non-null float64\n",
      "Volume_(Currency)     2779 non-null float64\n",
      "Weighted_Price        2779 non-null float64\n",
      "cluster               2779 non-null int32\n",
      "principal_feature1    2779 non-null float64\n",
      "principal_feature2    2779 non-null float64\n",
      "anomaly1              2779 non-null int32\n",
      "dtypes: datetime64[ns](1), float64(9), int32(2)\n",
      "memory usage: 238.9 KB\n"
     ]
    }
   ],
   "source": [
    "df.info()"
   ]
  },
  {
   "cell_type": "code",
   "execution_count": 227,
   "metadata": {},
   "outputs": [
    {
     "data": {
      "image/png": "[encoded data removed]",
      "text/plain": [
       "<Figure size 720x432 with 1 Axes>"
      ]
     },
     "metadata": {
      "needs_background": "light"
     },
     "output_type": "display_data"
    }
   ],
   "source": [
    "df = df.sort_values('Timestamp')\n",
    "df['Timestamp_int'] = df.Timestamp.astype(np.int64)\n",
    "fig, ax = plt.subplots(figsize=(10,6))\n",
    "a = df.loc[df['anomaly1'] == 1, ['Timestamp_int', 'Weighted_Price']] #anomaly\n",
    "\n",
    "ax.plot(df['Timestamp_int'], df['Weighted_Price'], color='blue', label='Normal')\n",
    "ax.scatter(a['Timestamp_int'],a['Weighted_Price'], color='red', label='Anomaly')\n",
    "plt.xlabel('Date Time Integer')\n",
    "plt.ylabel('Weighted price in USD')\n",
    "plt.legend()\n",
    "plt.show();"
   ]
  },
  {
   "cell_type": "code",
   "execution_count": 229,
   "metadata": {},
   "outputs": [
    {
     "data": {
      "image/png": "[encoded data removed]",
      "text/plain": [
       "<Figure size 720x432 with 1 Axes>"
      ]
     },
     "metadata": {
      "needs_background": "light"
     },
     "output_type": "display_data"
    }
   ],
   "source": [
    "a = df.loc[df['anomaly1'] == 0, 'Weighted_Price']\n",
    "b = df.loc[df['anomaly1'] == 1, 'Weighted_Price']\n",
    "\n",
    "fig, axs = plt.subplots(figsize=(10,6))\n",
    "axs.hist([a,b], bins=32, stacked=True, color=['blue', 'red'])\n",
    "plt.show();"
   ]
  },
  {
   "cell_type": "markdown",
   "metadata": {},
   "source": [
    "## Isolation Forest for anomaly detection"
   ]
  },
  {
   "cell_type": "code",
   "execution_count": 231,
   "metadata": {},
   "outputs": [
    {
     "name": "stderr",
     "output_type": "stream",
     "text": [
      "D:\\Ana3\\envs\\tf_gpu4\\lib\\site-packages\\sklearn\\ensemble\\iforest.py:247: FutureWarning: behaviour=\"old\" is deprecated and will be removed in version 0.22. Please use behaviour=\"new\", which makes the decision_function change to match other anomaly detection algorithm API.\n",
      "  FutureWarning)\n",
      "D:\\Ana3\\envs\\tf_gpu4\\lib\\site-packages\\sklearn\\ensemble\\iforest.py:415: DeprecationWarning: threshold_ attribute is deprecated in 0.20 and will be removed in 0.22.\n",
      "  \" be removed in 0.22.\", DeprecationWarning)\n"
     ]
    },
    {
     "data": {
      "image/png": "[encoded data removed]",
      "text/plain": [
       "<Figure size 720x432 with 1 Axes>"
      ]
     },
     "metadata": {
      "needs_background": "light"
     },
     "output_type": "display_data"
    }
   ],
   "source": [
    "data = df[['Open', 'High', 'Low', 'Close', 'Volume_(BTC)','Volume_(Currency)', 'Weighted_Price']]\n",
    "scaler = StandardScaler()\n",
    "np_scaled = scaler.fit_transform(data)\n",
    "data = pd.DataFrame(np_scaled)\n",
    "# train isolation forest\n",
    "model =  IsolationForest(contamination=outliers_fraction)\n",
    "model.fit(data)\n",
    "\n",
    "df['anomaly2'] = pd.Series(model.predict(data))\n",
    "# df['anomaly2'] = df['anomaly2'].map( {1: 0, -1: 1} )\n",
    "\n",
    "fig, ax = plt.subplots(figsize=(10,6))\n",
    "\n",
    "a = df.loc[df['anomaly2'] == -1, ['Timestamp_int', 'Weighted_Price']] #anomaly\n",
    "\n",
    "ax.plot(df['Timestamp_int'], df['Weighted_Price'], color='blue', label = 'Normal')\n",
    "ax.scatter(a['Timestamp_int'],a['Weighted_Price'], color='red', label = 'Anomaly')\n",
    "plt.legend()\n",
    "plt.show();"
   ]
  },
  {
   "cell_type": "code",
   "execution_count": 232,
   "metadata": {},
   "outputs": [
    {
     "data": {
      "text/plain": [
       "array([ 1, -1], dtype=int64)"
      ]
     },
     "execution_count": 232,
     "metadata": {},
     "output_type": "execute_result"
    }
   ],
   "source": [
    "df['anomaly2'].unique()"
   ]
  },
  {
   "cell_type": "code",
   "execution_count": 234,
   "metadata": {},
   "outputs": [
    {
     "data": {
      "image/png": "[encoded data removed]",
      "text/plain": [
       "<Figure size 1152x576 with 1 Axes>"
      ]
     },
     "metadata": {
      "needs_background": "light"
     },
     "output_type": "display_data"
    }
   ],
   "source": [
    "# visualisation of anomaly with avg price repartition\n",
    "a = df.loc[df['anomaly2'] == 1, 'Weighted_Price']\n",
    "b = df.loc[df['anomaly2'] == -1, 'Weighted_Price']\n",
    "\n",
    "fig, axs = plt.subplots(figsize=(16,8))\n",
    "axs.hist([a,b], bins=32, stacked=True, color=['blue', 'red'])\n",
    "plt.show();"
   ]
  },
  {
   "cell_type": "markdown",
   "metadata": {},
   "source": [
    "## Support Vector Machine-Based Anomaly Detection¶\n",
    "#### One class SVM"
   ]
  },
  {
   "cell_type": "code",
   "execution_count": 237,
   "metadata": {},
   "outputs": [
    {
     "data": {
      "image/png": "[encoded data removed]",
      "text/plain": [
       "<Figure size 720x432 with 1 Axes>"
      ]
     },
     "metadata": {
      "needs_background": "light"
     },
     "output_type": "display_data"
    }
   ],
   "source": [
    "data = df[['Open', 'High', 'Low', 'Close', 'Volume_(BTC)','Volume_(Currency)', 'Weighted_Price']]\n",
    "scaler = StandardScaler()\n",
    "np_scaled = scaler.fit_transform(data)\n",
    "data = pd.DataFrame(np_scaled)\n",
    "# train oneclassSVM \n",
    "model = OneClassSVM(nu=outliers_fraction, kernel=\"rbf\", gamma=0.01)\n",
    "model.fit(data)\n",
    " \n",
    "df['anomaly3'] = pd.Series(model.predict(data))\n",
    "# df['anomaly3'] = df['anomaly3'].map( {1: 0, -1: 1} )\n",
    "fig, ax = plt.subplots(figsize=(10,6))\n",
    "\n",
    "a = df.loc[df['anomaly3'] == -1, ['Timestamp_int', 'Weighted_Price']] #anomaly\n",
    "\n",
    "ax.plot(df['Timestamp_int'], df['Weighted_Price'], color='blue', label ='Normal')\n",
    "ax.scatter(a['Timestamp_int'],a['Weighted_Price'], color='red', label = 'Anomaly')\n",
    "plt.legend()\n",
    "plt.show();"
   ]
  },
  {
   "cell_type": "code",
   "execution_count": 238,
   "metadata": {},
   "outputs": [
    {
     "data": {
      "image/png": "[encoded data removed]",
      "text/plain": [
       "<Figure size 720x432 with 1 Axes>"
      ]
     },
     "metadata": {
      "needs_background": "light"
     },
     "output_type": "display_data"
    }
   ],
   "source": [
    "a = df.loc[df['anomaly3'] == 1, 'Weighted_Price']\n",
    "b = df.loc[df['anomaly3'] == -1, 'Weighted_Price']\n",
    "\n",
    "fig, axs = plt.subplots(figsize=(10,6))\n",
    "axs.hist([a,b], bins=32, stacked=True, color=['blue', 'red'])\n",
    "plt.show();"
   ]
  }
 ],
 "metadata": {
  "kernelspec": {
   "display_name": "Python 3",
   "language": "python",
   "name": "python3"
  },
  "language_info": {
   "codemirror_mode": {
    "name": "ipython",
    "version": 3
   },
   "file_extension": ".py",
   "mimetype": "text/x-python",
   "name": "python",
   "nbconvert_exporter": "python",
   "pygments_lexer": "ipython3",
   "version": "3.6.9"
  }
 },
 "nbformat": 4,
 "nbformat_minor": 2
}
