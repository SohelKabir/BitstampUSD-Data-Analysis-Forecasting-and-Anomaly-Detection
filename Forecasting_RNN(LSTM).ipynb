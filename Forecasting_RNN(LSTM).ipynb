{
 "cells": [
  {
   "cell_type": "code",
   "execution_count": 409,
   "metadata": {},
   "outputs": [],
   "source": [
    "import pandas as pd\n",
    "import numpy as np\n",
    "import seaborn as sns\n",
    "\n",
    "import matplotlib.pylab as plt\n",
    "from matplotlib.pyplot import imread\n",
    "%matplotlib inline"
   ]
  },
  {
   "cell_type": "code",
   "execution_count": 410,
   "metadata": {},
   "outputs": [],
   "source": [
    "df = pd.read_csv('WeightedPriceDaily.csv',index_col='Timestamp',parse_dates=True)\n"
   ]
  },
  {
   "cell_type": "code",
   "execution_count": 411,
   "metadata": {},
   "outputs": [
    {
     "data": {
      "text/html": [
       "<div>\n",
       "<style scoped>\n",
       "    .dataframe tbody tr th:only-of-type {\n",
       "        vertical-align: middle;\n",
       "    }\n",
       "\n",
       "    .dataframe tbody tr th {\n",
       "        vertical-align: top;\n",
       "    }\n",
       "\n",
       "    .dataframe thead th {\n",
       "        text-align: right;\n",
       "    }\n",
       "</style>\n",
       "<table border=\"1\" class=\"dataframe\">\n",
       "  <thead>\n",
       "    <tr style=\"text-align: right;\">\n",
       "      <th></th>\n",
       "      <th>Weighted_Price</th>\n",
       "    </tr>\n",
       "    <tr>\n",
       "      <th>Timestamp</th>\n",
       "      <th></th>\n",
       "    </tr>\n",
       "  </thead>\n",
       "  <tbody>\n",
       "    <tr>\n",
       "      <td>2011-12-31</td>\n",
       "      <td>4.471603</td>\n",
       "    </tr>\n",
       "    <tr>\n",
       "      <td>2012-01-01</td>\n",
       "      <td>4.806667</td>\n",
       "    </tr>\n",
       "    <tr>\n",
       "      <td>2012-01-02</td>\n",
       "      <td>5.000000</td>\n",
       "    </tr>\n",
       "    <tr>\n",
       "      <td>2012-01-03</td>\n",
       "      <td>5.252500</td>\n",
       "    </tr>\n",
       "    <tr>\n",
       "      <td>2012-01-04</td>\n",
       "      <td>5.208159</td>\n",
       "    </tr>\n",
       "  </tbody>\n",
       "</table>\n",
       "</div>"
      ],
      "text/plain": [
       "            Weighted_Price\n",
       "Timestamp                 \n",
       "2011-12-31        4.471603\n",
       "2012-01-01        4.806667\n",
       "2012-01-02        5.000000\n",
       "2012-01-03        5.252500\n",
       "2012-01-04        5.208159"
      ]
     },
     "execution_count": 411,
     "metadata": {},
     "output_type": "execute_result"
    }
   ],
   "source": [
    "df.head()"
   ]
  },
  {
   "cell_type": "code",
   "execution_count": 412,
   "metadata": {},
   "outputs": [
    {
     "data": {
      "text/plain": [
       "DatetimeIndex(['2011-12-31', '2012-01-01', '2012-01-02', '2012-01-03',\n",
       "               '2012-01-04', '2012-01-05', '2012-01-06', '2012-01-07',\n",
       "               '2012-01-08', '2012-01-09',\n",
       "               ...\n",
       "               '2019-08-03', '2019-08-04', '2019-08-05', '2019-08-06',\n",
       "               '2019-08-07', '2019-08-08', '2019-08-09', '2019-08-10',\n",
       "               '2019-08-11', '2019-08-12'],\n",
       "              dtype='datetime64[ns]', name='Timestamp', length=2779, freq=None)"
      ]
     },
     "execution_count": 412,
     "metadata": {},
     "output_type": "execute_result"
    }
   ],
   "source": [
    "df.index"
   ]
  },
  {
   "cell_type": "code",
   "execution_count": 413,
   "metadata": {},
   "outputs": [],
   "source": [
    "df = df.resample(rule='D').mean()  #Daily sampling"
   ]
  },
  {
   "cell_type": "code",
   "execution_count": 414,
   "metadata": {},
   "outputs": [
    {
     "data": {
      "text/html": [
       "<div>\n",
       "<style scoped>\n",
       "    .dataframe tbody tr th:only-of-type {\n",
       "        vertical-align: middle;\n",
       "    }\n",
       "\n",
       "    .dataframe tbody tr th {\n",
       "        vertical-align: top;\n",
       "    }\n",
       "\n",
       "    .dataframe thead th {\n",
       "        text-align: right;\n",
       "    }\n",
       "</style>\n",
       "<table border=\"1\" class=\"dataframe\">\n",
       "  <thead>\n",
       "    <tr style=\"text-align: right;\">\n",
       "      <th></th>\n",
       "      <th>Weighted_Price</th>\n",
       "    </tr>\n",
       "    <tr>\n",
       "      <th>Timestamp</th>\n",
       "      <th></th>\n",
       "    </tr>\n",
       "  </thead>\n",
       "  <tbody>\n",
       "    <tr>\n",
       "      <td>2011-12-31</td>\n",
       "      <td>4.471603</td>\n",
       "    </tr>\n",
       "    <tr>\n",
       "      <td>2012-01-01</td>\n",
       "      <td>4.806667</td>\n",
       "    </tr>\n",
       "    <tr>\n",
       "      <td>2012-01-02</td>\n",
       "      <td>5.000000</td>\n",
       "    </tr>\n",
       "    <tr>\n",
       "      <td>2012-01-03</td>\n",
       "      <td>5.252500</td>\n",
       "    </tr>\n",
       "    <tr>\n",
       "      <td>2012-01-04</td>\n",
       "      <td>5.208159</td>\n",
       "    </tr>\n",
       "  </tbody>\n",
       "</table>\n",
       "</div>"
      ],
      "text/plain": [
       "            Weighted_Price\n",
       "Timestamp                 \n",
       "2011-12-31        4.471603\n",
       "2012-01-01        4.806667\n",
       "2012-01-02        5.000000\n",
       "2012-01-03        5.252500\n",
       "2012-01-04        5.208159"
      ]
     },
     "execution_count": 414,
     "metadata": {},
     "output_type": "execute_result"
    }
   ],
   "source": [
    "df.head()"
   ]
  },
  {
   "cell_type": "code",
   "execution_count": 415,
   "metadata": {},
   "outputs": [
    {
     "data": {
      "text/plain": [
       "DatetimeIndex(['2011-12-31', '2012-01-01', '2012-01-02', '2012-01-03',\n",
       "               '2012-01-04', '2012-01-05', '2012-01-06', '2012-01-07',\n",
       "               '2012-01-08', '2012-01-09',\n",
       "               ...\n",
       "               '2019-08-03', '2019-08-04', '2019-08-05', '2019-08-06',\n",
       "               '2019-08-07', '2019-08-08', '2019-08-09', '2019-08-10',\n",
       "               '2019-08-11', '2019-08-12'],\n",
       "              dtype='datetime64[ns]', name='Timestamp', length=2782, freq='D')"
      ]
     },
     "execution_count": 415,
     "metadata": {},
     "output_type": "execute_result"
    }
   ],
   "source": [
    "df.index"
   ]
  },
  {
   "cell_type": "code",
   "execution_count": 416,
   "metadata": {},
   "outputs": [
    {
     "data": {
      "text/plain": [
       "<matplotlib.axes._subplots.AxesSubplot at 0x22e1608cac8>"
      ]
     },
     "execution_count": 416,
     "metadata": {},
     "output_type": "execute_result"
    },
    {
     "data": {
      "image/png": "[encoded data removed]",
      "text/plain": [
       "<Figure size 864x576 with 1 Axes>"
      ]
     },
     "metadata": {
      "needs_background": "light"
     },
     "output_type": "display_data"
    }
   ],
   "source": [
    "df.plot(figsize=(12,8))"
   ]
  },
  {
   "cell_type": "code",
   "execution_count": 417,
   "metadata": {},
   "outputs": [
    {
     "data": {
      "text/plain": [
       "<matplotlib.axes._subplots.AxesSubplot at 0x22e17ed3d30>"
      ]
     },
     "execution_count": 417,
     "metadata": {},
     "output_type": "execute_result"
    },
    {
     "data": {
      "image/png": "[encoded data removed]",
      "text/plain": [
       "<Figure size 432x288 with 1 Axes>"
      ]
     },
     "metadata": {},
     "output_type": "display_data"
    }
   ],
   "source": [
    "#Checking for missing value with heatmap of the data\n",
    "sns.set_palette(\"husl\")\n",
    "sns.set_style('whitegrid')\n",
    "sns.heatmap(df.isnull(),yticklabels=False,cbar=False,cmap='viridis')"
   ]
  },
  {
   "cell_type": "code",
   "execution_count": 418,
   "metadata": {},
   "outputs": [],
   "source": [
    "df = df.dropna()"
   ]
  },
  {
   "cell_type": "code",
   "execution_count": 419,
   "metadata": {},
   "outputs": [],
   "source": [
    "df = df.resample(rule='MS').mean()  #monthly sampling"
   ]
  },
  {
   "cell_type": "code",
   "execution_count": 420,
   "metadata": {},
   "outputs": [
    {
     "data": {
      "text/plain": [
       "DatetimeIndex(['2011-12-01', '2012-01-01', '2012-02-01', '2012-03-01',\n",
       "               '2012-04-01', '2012-05-01', '2012-06-01', '2012-07-01',\n",
       "               '2012-08-01', '2012-09-01', '2012-10-01', '2012-11-01',\n",
       "               '2012-12-01', '2013-01-01', '2013-02-01', '2013-03-01',\n",
       "               '2013-04-01', '2013-05-01', '2013-06-01', '2013-07-01',\n",
       "               '2013-08-01', '2013-09-01', '2013-10-01', '2013-11-01',\n",
       "               '2013-12-01', '2014-01-01', '2014-02-01', '2014-03-01',\n",
       "               '2014-04-01', '2014-05-01', '2014-06-01', '2014-07-01',\n",
       "               '2014-08-01', '2014-09-01', '2014-10-01', '2014-11-01',\n",
       "               '2014-12-01', '2015-01-01', '2015-02-01', '2015-03-01',\n",
       "               '2015-04-01', '2015-05-01', '2015-06-01', '2015-07-01',\n",
       "               '2015-08-01', '2015-09-01', '2015-10-01', '2015-11-01',\n",
       "               '2015-12-01', '2016-01-01', '2016-02-01', '2016-03-01',\n",
       "               '2016-04-01', '2016-05-01', '2016-06-01', '2016-07-01',\n",
       "               '2016-08-01', '2016-09-01', '2016-10-01', '2016-11-01',\n",
       "               '2016-12-01', '2017-01-01', '2017-02-01', '2017-03-01',\n",
       "               '2017-04-01', '2017-05-01', '2017-06-01', '2017-07-01',\n",
       "               '2017-08-01', '2017-09-01', '2017-10-01', '2017-11-01',\n",
       "               '2017-12-01', '2018-01-01', '2018-02-01', '2018-03-01',\n",
       "               '2018-04-01', '2018-05-01', '2018-06-01', '2018-07-01',\n",
       "               '2018-08-01', '2018-09-01', '2018-10-01', '2018-11-01',\n",
       "               '2018-12-01', '2019-01-01', '2019-02-01', '2019-03-01',\n",
       "               '2019-04-01', '2019-05-01', '2019-06-01', '2019-07-01',\n",
       "               '2019-08-01'],\n",
       "              dtype='datetime64[ns]', name='Timestamp', freq='MS')"
      ]
     },
     "execution_count": 420,
     "metadata": {},
     "output_type": "execute_result"
    }
   ],
   "source": [
    "df.index"
   ]
  },
  {
   "cell_type": "code",
   "execution_count": 421,
   "metadata": {},
   "outputs": [],
   "source": [
    "from statsmodels.tsa.seasonal import seasonal_decompose"
   ]
  },
  {
   "cell_type": "code",
   "execution_count": 422,
   "metadata": {},
   "outputs": [
    {
     "data": {
      "text/plain": [
       "<matplotlib.axes._subplots.AxesSubplot at 0x22e18005d68>"
      ]
     },
     "execution_count": 422,
     "metadata": {},
     "output_type": "execute_result"
    },
    {
     "data": {
      "image/png": "[encoded data removed]",
      "text/plain": [
       "<Figure size 864x144 with 1 Axes>"
      ]
     },
     "metadata": {},
     "output_type": "display_data"
    }
   ],
   "source": [
    "results = seasonal_decompose(df['Weighted_Price'])\n",
    "results.observed.plot(figsize=(12,2))"
   ]
  },
  {
   "cell_type": "code",
   "execution_count": 423,
   "metadata": {},
   "outputs": [
    {
     "data": {
      "text/plain": [
       "<matplotlib.axes._subplots.AxesSubplot at 0x22e17fc53c8>"
      ]
     },
     "execution_count": 423,
     "metadata": {},
     "output_type": "execute_result"
    },
    {
     "data": {
      "image/png": "[encoded data removed]",
      "text/plain": [
       "<Figure size 864x144 with 1 Axes>"
      ]
     },
     "metadata": {},
     "output_type": "display_data"
    }
   ],
   "source": [
    "results.trend.plot(figsize=(12,2))"
   ]
  },
  {
   "cell_type": "code",
   "execution_count": 424,
   "metadata": {},
   "outputs": [
    {
     "data": {
      "text/plain": [
       "<matplotlib.axes._subplots.AxesSubplot at 0x22e18126fd0>"
      ]
     },
     "execution_count": 424,
     "metadata": {},
     "output_type": "execute_result"
    },
    {
     "data": {
      "image/png": "[encoded data removed]",
      "text/plain": [
       "<Figure size 864x144 with 1 Axes>"
      ]
     },
     "metadata": {},
     "output_type": "display_data"
    }
   ],
   "source": [
    "results.resid.plot(figsize=(12,2))"
   ]
  },
  {
   "cell_type": "markdown",
   "metadata": {},
   "source": [
    "## RNN model "
   ]
  },
  {
   "cell_type": "markdown",
   "metadata": {},
   "source": [
    "### Train test split\n"
   ]
  },
  {
   "cell_type": "code",
   "execution_count": 425,
   "metadata": {},
   "outputs": [
    {
     "data": {
      "text/plain": [
       "93"
      ]
     },
     "execution_count": 425,
     "metadata": {},
     "output_type": "execute_result"
    }
   ],
   "source": [
    "len(df)"
   ]
  },
  {
   "cell_type": "code",
   "execution_count": 426,
   "metadata": {},
   "outputs": [],
   "source": [
    "#Keeping last one year for testing \n",
    "train = df.iloc[:81]\n",
    "test = df.iloc[81:]"
   ]
  },
  {
   "cell_type": "markdown",
   "metadata": {},
   "source": [
    "#### Scaling data\n"
   ]
  },
  {
   "cell_type": "code",
   "execution_count": 427,
   "metadata": {},
   "outputs": [],
   "source": [
    "from sklearn.preprocessing import MinMaxScaler"
   ]
  },
  {
   "cell_type": "code",
   "execution_count": 428,
   "metadata": {},
   "outputs": [],
   "source": [
    "scaler = MinMaxScaler()"
   ]
  },
  {
   "cell_type": "code",
   "execution_count": 429,
   "metadata": {},
   "outputs": [
    {
     "data": {
      "text/plain": [
       "MinMaxScaler(copy=True, feature_range=(0, 1))"
      ]
     },
     "execution_count": 429,
     "metadata": {},
     "output_type": "execute_result"
    }
   ],
   "source": [
    "scaler.fit(train)"
   ]
  },
  {
   "cell_type": "code",
   "execution_count": 430,
   "metadata": {},
   "outputs": [],
   "source": [
    "scaled_train = scaler.transform(train)\n",
    "scaled_test = scaler.transform(test)"
   ]
  },
  {
   "cell_type": "code",
   "execution_count": 431,
   "metadata": {},
   "outputs": [],
   "source": [
    "from keras.preprocessing.sequence import TimeseriesGenerator"
   ]
  },
  {
   "cell_type": "code",
   "execution_count": 432,
   "metadata": {},
   "outputs": [],
   "source": [
    "n_input = 6\n",
    "n_features = 1\n",
    "generator = TimeseriesGenerator(scaled_train, scaled_train, length=n_input, batch_size=1)"
   ]
  },
  {
   "cell_type": "code",
   "execution_count": 433,
   "metadata": {},
   "outputs": [],
   "source": [
    "X,y = generator[0]"
   ]
  },
  {
   "cell_type": "code",
   "execution_count": 434,
   "metadata": {},
   "outputs": [
    {
     "name": "stdout",
     "output_type": "stream",
     "text": [
      "Given the Array: \n",
      "[0.00000000e+00 1.17078165e-04 5.26378615e-05 3.30564374e-05\n",
      " 3.40355511e-05 3.84034536e-05]\n",
      "Predict this y: \n",
      " [[0.00010108]]\n"
     ]
    }
   ],
   "source": [
    "print(f'Given the Array: \\n{X.flatten()}')\n",
    "print(f'Predict this y: \\n {y}')"
   ]
  },
  {
   "cell_type": "markdown",
   "metadata": {},
   "source": [
    "#### Building the model"
   ]
  },
  {
   "cell_type": "code",
   "execution_count": 435,
   "metadata": {},
   "outputs": [],
   "source": [
    "from keras.models import Sequential\n",
    "from keras.layers import Dense\n",
    "from keras.layers import LSTM"
   ]
  },
  {
   "cell_type": "code",
   "execution_count": 436,
   "metadata": {},
   "outputs": [],
   "source": [
    "# define model\n",
    "model = Sequential()\n",
    "model.add(LSTM(100, activation='relu', input_shape=(n_input, n_features)))\n",
    "model.add(Dense(1))\n",
    "model.compile(optimizer='adam', loss='mse')"
   ]
  },
  {
   "cell_type": "code",
   "execution_count": 437,
   "metadata": {},
   "outputs": [
    {
     "name": "stdout",
     "output_type": "stream",
     "text": [
      "_________________________________________________________________\n",
      "Layer (type)                 Output Shape              Param #   \n",
      "=================================================================\n",
      "lstm_9 (LSTM)                (None, 100)               40800     \n",
      "_________________________________________________________________\n",
      "dense_9 (Dense)              (None, 1)                 101       \n",
      "=================================================================\n",
      "Total params: 40,901\n",
      "Trainable params: 40,901\n",
      "Non-trainable params: 0\n",
      "_________________________________________________________________\n"
     ]
    }
   ],
   "source": [
    "model.summary()"
   ]
  },
  {
   "cell_type": "code",
   "execution_count": 438,
   "metadata": {},
   "outputs": [
    {
     "name": "stdout",
     "output_type": "stream",
     "text": [
      "Epoch 1/150\n",
      "75/75 [==============================] - 3s 36ms/step - loss: 0.0334\n",
      "Epoch 2/150\n",
      "75/75 [==============================] - 1s 15ms/step - loss: 0.0158\n",
      "Epoch 3/150\n",
      "75/75 [==============================] - 1s 14ms/step - loss: 0.0138\n",
      "Epoch 4/150\n",
      "75/75 [==============================] - 1s 14ms/step - loss: 0.0129\n",
      "Epoch 5/150\n",
      "75/75 [==============================] - 1s 14ms/step - loss: 0.0108\n",
      "Epoch 6/150\n",
      "75/75 [==============================] - 1s 15ms/step - loss: 0.0116\n",
      "Epoch 7/150\n",
      "75/75 [==============================] - 1s 14ms/step - loss: 0.0084\n",
      "Epoch 8/150\n",
      "75/75 [==============================] - 1s 15ms/step - loss: 0.0088\n",
      "Epoch 9/150\n",
      "75/75 [==============================] - 1s 15ms/step - loss: 0.0083\n",
      "Epoch 10/150\n",
      "75/75 [==============================] - 1s 15ms/step - loss: 0.0066\n",
      "Epoch 11/150\n",
      "75/75 [==============================] - 1s 14ms/step - loss: 0.0062\n",
      "Epoch 12/150\n",
      "75/75 [==============================] - 1s 15ms/step - loss: 0.0072\n",
      "Epoch 13/150\n",
      "75/75 [==============================] - 1s 14ms/step - loss: 0.0056\n",
      "Epoch 14/150\n",
      "75/75 [==============================] - 1s 15ms/step - loss: 0.0052\n",
      "Epoch 15/150\n",
      "75/75 [==============================] - 1s 16ms/step - loss: 0.0046\n",
      "Epoch 16/150\n",
      "75/75 [==============================] - 1s 15ms/step - loss: 0.0043\n",
      "Epoch 17/150\n",
      "75/75 [==============================] - 1s 15ms/step - loss: 0.0048\n",
      "Epoch 18/150\n",
      "75/75 [==============================] - 1s 15ms/step - loss: 0.0043\n",
      "Epoch 19/150\n",
      "75/75 [==============================] - 1s 14ms/step - loss: 0.0038\n",
      "Epoch 20/150\n",
      "75/75 [==============================] - 1s 14ms/step - loss: 0.0048\n",
      "Epoch 21/150\n",
      "75/75 [==============================] - 1s 15ms/step - loss: 0.0042\n",
      "Epoch 22/150\n",
      "75/75 [==============================] - 1s 14ms/step - loss: 0.0037\n",
      "Epoch 23/150\n",
      "75/75 [==============================] - 1s 15ms/step - loss: 0.0031\n",
      "Epoch 24/150\n",
      "75/75 [==============================] - 1s 15ms/step - loss: 0.0029\n",
      "Epoch 25/150\n",
      "75/75 [==============================] - 1s 14ms/step - loss: 0.0055\n",
      "Epoch 26/150\n",
      "75/75 [==============================] - 1s 14ms/step - loss: 0.0041\n",
      "Epoch 27/150\n",
      "75/75 [==============================] - 1s 15ms/step - loss: 0.0036\n",
      "Epoch 28/150\n",
      "75/75 [==============================] - 1s 14ms/step - loss: 0.0036\n",
      "Epoch 29/150\n",
      "75/75 [==============================] - 1s 14ms/step - loss: 0.0038\n",
      "Epoch 30/150\n",
      "75/75 [==============================] - 1s 15ms/step - loss: 0.0032\n",
      "Epoch 31/150\n",
      "75/75 [==============================] - 1s 14ms/step - loss: 0.0032\n",
      "Epoch 32/150\n",
      "75/75 [==============================] - 1s 14ms/step - loss: 0.0034\n",
      "Epoch 33/150\n",
      "75/75 [==============================] - 1s 15ms/step - loss: 0.0032\n",
      "Epoch 34/150\n",
      "75/75 [==============================] - 1s 15ms/step - loss: 0.0027: 0s - loss: 0.\n",
      "Epoch 35/150\n",
      "75/75 [==============================] - 1s 14ms/step - loss: 0.0029\n",
      "Epoch 36/150\n",
      "75/75 [==============================] - 1s 14ms/step - loss: 0.0025\n",
      "Epoch 37/150\n",
      "75/75 [==============================] - 1s 14ms/step - loss: 0.0035\n",
      "Epoch 38/150\n",
      "75/75 [==============================] - 1s 15ms/step - loss: 0.0043\n",
      "Epoch 39/150\n",
      "75/75 [==============================] - 1s 14ms/step - loss: 0.0032\n",
      "Epoch 40/150\n",
      "75/75 [==============================] - 1s 14ms/step - loss: 0.0026\n",
      "Epoch 41/150\n",
      "75/75 [==============================] - 1s 15ms/step - loss: 0.0022\n",
      "Epoch 42/150\n",
      "75/75 [==============================] - 1s 14ms/step - loss: 0.0032\n",
      "Epoch 43/150\n",
      "75/75 [==============================] - 1s 15ms/step - loss: 0.0025\n",
      "Epoch 44/150\n",
      "75/75 [==============================] - 1s 15ms/step - loss: 0.0022\n",
      "Epoch 45/150\n",
      "75/75 [==============================] - 1s 14ms/step - loss: 0.0021\n",
      "Epoch 46/150\n",
      "75/75 [==============================] - 1s 14ms/step - loss: 0.0025\n",
      "Epoch 47/150\n",
      "75/75 [==============================] - 1s 15ms/step - loss: 0.0025\n",
      "Epoch 48/150\n",
      "75/75 [==============================] - 1s 14ms/step - loss: 0.0021\n",
      "Epoch 49/150\n",
      "75/75 [==============================] - 1s 15ms/step - loss: 0.0024\n",
      "Epoch 50/150\n",
      "75/75 [==============================] - 1s 15ms/step - loss: 0.0025\n",
      "Epoch 51/150\n",
      "75/75 [==============================] - 1s 15ms/step - loss: 0.0020\n",
      "Epoch 52/150\n",
      "75/75 [==============================] - 1s 17ms/step - loss: 0.0020\n",
      "Epoch 53/150\n",
      "75/75 [==============================] - 1s 15ms/step - loss: 0.0019\n",
      "Epoch 54/150\n",
      "75/75 [==============================] - 1s 15ms/step - loss: 0.0012\n",
      "Epoch 55/150\n",
      "75/75 [==============================] - 1s 16ms/step - loss: 0.0033\n",
      "Epoch 56/150\n",
      "75/75 [==============================] - 1s 15ms/step - loss: 0.0029\n",
      "Epoch 57/150\n",
      "75/75 [==============================] - 1s 16ms/step - loss: 0.0017\n",
      "Epoch 58/150\n",
      "75/75 [==============================] - 1s 15ms/step - loss: 0.0025\n",
      "Epoch 59/150\n",
      "75/75 [==============================] - 1s 15ms/step - loss: 0.0018\n",
      "Epoch 60/150\n",
      "75/75 [==============================] - 1s 15ms/step - loss: 0.0029\n",
      "Epoch 61/150\n",
      "75/75 [==============================] - 1s 15ms/step - loss: 0.0025\n",
      "Epoch 62/150\n",
      "75/75 [==============================] - 1s 15ms/step - loss: 0.0023\n",
      "Epoch 63/150\n",
      "75/75 [==============================] - 1s 16ms/step - loss: 0.0016\n",
      "Epoch 64/150\n",
      "75/75 [==============================] - 1s 15ms/step - loss: 0.0019\n",
      "Epoch 65/150\n",
      "75/75 [==============================] - 1s 15ms/step - loss: 0.0040\n",
      "Epoch 66/150\n",
      "75/75 [==============================] - 1s 16ms/step - loss: 0.0020\n",
      "Epoch 67/150\n",
      "75/75 [==============================] - 1s 15ms/step - loss: 0.0025\n",
      "Epoch 68/150\n",
      "75/75 [==============================] - 1s 15ms/step - loss: 0.0016\n",
      "Epoch 69/150\n",
      "75/75 [==============================] - 1s 16ms/step - loss: 0.0019\n",
      "Epoch 70/150\n",
      "75/75 [==============================] - 1s 15ms/step - loss: 0.0019\n",
      "Epoch 71/150\n",
      "75/75 [==============================] - 1s 15ms/step - loss: 0.0033\n",
      "Epoch 72/150\n",
      "75/75 [==============================] - 2s 22ms/step - loss: 0.0026: 0s - loss: 0.0\n",
      "Epoch 73/150\n",
      "75/75 [==============================] - 1s 17ms/step - loss: 0.0017\n",
      "Epoch 74/150\n",
      "75/75 [==============================] - 1s 17ms/step - loss: 0.0015\n",
      "Epoch 75/150\n",
      "75/75 [==============================] - 1s 17ms/step - loss: 0.0018\n",
      "Epoch 76/150\n",
      "75/75 [==============================] - 1s 18ms/step - loss: 0.0012\n",
      "Epoch 77/150\n",
      "75/75 [==============================] - 1s 18ms/step - loss: 0.0020\n",
      "Epoch 78/150\n",
      "75/75 [==============================] - 1s 17ms/step - loss: 0.0053\n",
      "Epoch 79/150\n",
      "75/75 [==============================] - 1s 17ms/step - loss: 0.0018: 0s - los\n",
      "Epoch 80/150\n",
      "75/75 [==============================] - 1s 17ms/step - loss: 0.0024\n",
      "Epoch 81/150\n",
      "75/75 [==============================] - 1s 17ms/step - loss: 0.0034\n",
      "Epoch 82/150\n",
      "75/75 [==============================] - 1s 17ms/step - loss: 0.0012\n",
      "Epoch 83/150\n",
      "75/75 [==============================] - 1s 15ms/step - loss: 8.8361e-04\n",
      "Epoch 84/150\n",
      "75/75 [==============================] - 1s 17ms/step - loss: 0.0024\n",
      "Epoch 85/150\n",
      "75/75 [==============================] - 1s 19ms/step - loss: 0.0012\n",
      "Epoch 86/150\n",
      "75/75 [==============================] - 1s 19ms/step - loss: 8.2791e-04\n",
      "Epoch 87/150\n",
      "75/75 [==============================] - 1s 15ms/step - loss: 0.0028\n",
      "Epoch 88/150\n",
      "75/75 [==============================] - 1s 15ms/step - loss: 0.0035\n",
      "Epoch 89/150\n",
      "75/75 [==============================] - 1s 15ms/step - loss: 0.0011\n",
      "Epoch 90/150\n",
      "75/75 [==============================] - 1s 15ms/step - loss: 9.5343e-04\n",
      "Epoch 91/150\n",
      "75/75 [==============================] - 1s 15ms/step - loss: 0.0027\n",
      "Epoch 92/150\n",
      "75/75 [==============================] - 1s 15ms/step - loss: 0.0025: 0s - loss: 0.\n",
      "Epoch 93/150\n",
      "75/75 [==============================] - 1s 15ms/step - loss: 0.0017\n",
      "Epoch 94/150\n",
      "75/75 [==============================] - 1s 14ms/step - loss: 0.0026: 0s - loss: 0.\n",
      "Epoch 95/150\n",
      "75/75 [==============================] - 1s 14ms/step - loss: 0.0016\n",
      "Epoch 96/150\n",
      "75/75 [==============================] - 1s 14ms/step - loss: 0.0012\n",
      "Epoch 97/150\n",
      "75/75 [==============================] - 1s 15ms/step - loss: 0.0013\n",
      "Epoch 98/150\n",
      "75/75 [==============================] - 1s 14ms/step - loss: 0.0013\n",
      "Epoch 99/150\n",
      "75/75 [==============================] - 1s 15ms/step - loss: 8.4689e-04\n"
     ]
    },
    {
     "name": "stdout",
     "output_type": "stream",
     "text": [
      "Epoch 100/150\n",
      "75/75 [==============================] - 1s 15ms/step - loss: 7.9041e-04\n",
      "Epoch 101/150\n",
      "75/75 [==============================] - 1s 14ms/step - loss: 0.0024\n",
      "Epoch 102/150\n",
      "75/75 [==============================] - 1s 14ms/step - loss: 6.9421e-04\n",
      "Epoch 103/150\n",
      "75/75 [==============================] - 1s 14ms/step - loss: 0.0021\n",
      "Epoch 104/150\n",
      "75/75 [==============================] - 1s 14ms/step - loss: 0.0030: 0s - loss:\n",
      "Epoch 105/150\n",
      "75/75 [==============================] - 1s 15ms/step - loss: 0.0022: 1s \n",
      "Epoch 106/150\n",
      "75/75 [==============================] - 1s 13ms/step - loss: 7.8731e-04\n",
      "Epoch 107/150\n",
      "75/75 [==============================] - 1s 14ms/step - loss: 7.1870e-04\n",
      "Epoch 108/150\n",
      "75/75 [==============================] - 1s 15ms/step - loss: 7.5470e-04\n",
      "Epoch 109/150\n",
      "75/75 [==============================] - 1s 15ms/step - loss: 4.2222e-04: 0s - loss: 4.8085\n",
      "Epoch 110/150\n",
      "75/75 [==============================] - 1s 14ms/step - loss: 3.8902e-04\n",
      "Epoch 111/150\n",
      "75/75 [==============================] - 1s 17ms/step - loss: 0.0012\n",
      "Epoch 112/150\n",
      "75/75 [==============================] - 2s 22ms/step - loss: 0.0034\n",
      "Epoch 113/150\n",
      "75/75 [==============================] - 2s 22ms/step - loss: 0.0017\n",
      "Epoch 114/150\n",
      "75/75 [==============================] - 1s 19ms/step - loss: 0.0014\n",
      "Epoch 115/150\n",
      "75/75 [==============================] - 1s 19ms/step - loss: 0.0028\n",
      "Epoch 116/150\n",
      "75/75 [==============================] - 1s 17ms/step - loss: 0.0010\n",
      "Epoch 117/150\n",
      "75/75 [==============================] - 1s 15ms/step - loss: 8.9700e-04\n",
      "Epoch 118/150\n",
      "75/75 [==============================] - 1s 15ms/step - loss: 0.0015\n",
      "Epoch 119/150\n",
      "75/75 [==============================] - 1s 14ms/step - loss: 0.0011\n",
      "Epoch 120/150\n",
      "75/75 [==============================] - 1s 15ms/step - loss: 8.4678e-04\n",
      "Epoch 121/150\n",
      "75/75 [==============================] - 1s 14ms/step - loss: 7.4638e-04\n",
      "Epoch 122/150\n",
      "75/75 [==============================] - 1s 15ms/step - loss: 0.0017\n",
      "Epoch 123/150\n",
      "75/75 [==============================] - 1s 16ms/step - loss: 0.0022\n",
      "Epoch 124/150\n",
      "75/75 [==============================] - 1s 17ms/step - loss: 0.0014\n",
      "Epoch 125/150\n",
      "75/75 [==============================] - 1s 17ms/step - loss: 0.0011\n",
      "Epoch 126/150\n",
      "75/75 [==============================] - 1s 15ms/step - loss: 0.0013\n",
      "Epoch 127/150\n",
      "75/75 [==============================] - 1s 14ms/step - loss: 9.3561e-04\n",
      "Epoch 128/150\n",
      "75/75 [==============================] - 1s 15ms/step - loss: 9.8169e-04\n",
      "Epoch 129/150\n",
      "75/75 [==============================] - 1s 14ms/step - loss: 0.0028\n",
      "Epoch 130/150\n",
      "75/75 [==============================] - 1s 14ms/step - loss: 0.0049\n",
      "Epoch 131/150\n",
      "75/75 [==============================] - 1s 14ms/step - loss: 0.0019\n",
      "Epoch 132/150\n",
      "75/75 [==============================] - 1s 14ms/step - loss: 0.0012\n",
      "Epoch 133/150\n",
      "75/75 [==============================] - 1s 14ms/step - loss: 7.8047e-04\n",
      "Epoch 134/150\n",
      "75/75 [==============================] - 1s 15ms/step - loss: 4.6797e-04\n",
      "Epoch 135/150\n",
      "75/75 [==============================] - 1s 15ms/step - loss: 5.3874e-04: 0s - loss:\n",
      "Epoch 136/150\n",
      "75/75 [==============================] - 1s 14ms/step - loss: 3.4794e-04\n",
      "Epoch 137/150\n",
      "75/75 [==============================] - 1s 14ms/step - loss: 3.8414e-04\n",
      "Epoch 138/150\n",
      "75/75 [==============================] - 1s 13ms/step - loss: 4.1753e-04\n",
      "Epoch 139/150\n",
      "75/75 [==============================] - 1s 15ms/step - loss: 6.5709e-04\n",
      "Epoch 140/150\n",
      "75/75 [==============================] - 1s 14ms/step - loss: 3.9366e-04\n",
      "Epoch 141/150\n",
      "75/75 [==============================] - 1s 14ms/step - loss: 3.0350e-04\n",
      "Epoch 142/150\n",
      "75/75 [==============================] - 1s 14ms/step - loss: 3.6863e-04: 0s - loss: 3.14\n",
      "Epoch 143/150\n",
      "75/75 [==============================] - 1s 14ms/step - loss: 0.0023\n",
      "Epoch 144/150\n",
      "75/75 [==============================] - 1s 14ms/step - loss: 0.0031\n",
      "Epoch 145/150\n",
      "75/75 [==============================] - 1s 19ms/step - loss: 0.0012\n",
      "Epoch 146/150\n",
      "75/75 [==============================] - 1s 15ms/step - loss: 0.0019\n",
      "Epoch 147/150\n",
      "75/75 [==============================] - 1s 15ms/step - loss: 0.0025\n",
      "Epoch 148/150\n",
      "75/75 [==============================] - 1s 14ms/step - loss: 0.0033A: 0s - loss: 0.00\n",
      "Epoch 149/150\n",
      "75/75 [==============================] - 1s 14ms/step - loss: 9.1074e-04\n",
      "Epoch 150/150\n",
      "75/75 [==============================] - 1s 16ms/step - loss: 6.5626e-04\n"
     ]
    },
    {
     "data": {
      "text/plain": [
       "<keras.callbacks.History at 0x22e19328fd0>"
      ]
     },
     "execution_count": 438,
     "metadata": {},
     "output_type": "execute_result"
    }
   ],
   "source": [
    "# fit model\n",
    "model.fit_generator(generator,epochs=150)"
   ]
  },
  {
   "cell_type": "code",
   "execution_count": 439,
   "metadata": {},
   "outputs": [
    {
     "data": {
      "text/plain": [
       "dict_keys(['loss'])"
      ]
     },
     "execution_count": 439,
     "metadata": {},
     "output_type": "execute_result"
    }
   ],
   "source": [
    "model.history.history.keys()"
   ]
  },
  {
   "cell_type": "code",
   "execution_count": 440,
   "metadata": {},
   "outputs": [
    {
     "data": {
      "text/plain": [
       "[<matplotlib.lines.Line2D at 0x22e1a144828>]"
      ]
     },
     "execution_count": 440,
     "metadata": {},
     "output_type": "execute_result"
    },
    {
     "data": {
      "image/png": "[encoded data removed]",
      "text/plain": [
       "<Figure size 432x288 with 1 Axes>"
      ]
     },
     "metadata": {},
     "output_type": "display_data"
    }
   ],
   "source": [
    "loss_per_epoch = model.history.history['loss']\n",
    "plt.plot(range(len(loss_per_epoch)),loss_per_epoch)"
   ]
  },
  {
   "cell_type": "markdown",
   "metadata": {},
   "source": [
    "### Evaluate the model"
   ]
  },
  {
   "cell_type": "code",
   "execution_count": 441,
   "metadata": {},
   "outputs": [],
   "source": [
    "first_eval_batch = scaled_train[-6:]"
   ]
  },
  {
   "cell_type": "code",
   "execution_count": 442,
   "metadata": {},
   "outputs": [
    {
     "data": {
      "text/plain": [
       "array([[0.60804811],\n",
       "       [0.53783024],\n",
       "       [0.56851278],\n",
       "       [0.4569907 ],\n",
       "       [0.47807897],\n",
       "       [0.45058792]])"
      ]
     },
     "execution_count": 442,
     "metadata": {},
     "output_type": "execute_result"
    }
   ],
   "source": [
    "first_eval_batch"
   ]
  },
  {
   "cell_type": "code",
   "execution_count": 443,
   "metadata": {},
   "outputs": [],
   "source": [
    "first_eval_batch = first_eval_batch.reshape((1, n_input, n_features))"
   ]
  },
  {
   "cell_type": "code",
   "execution_count": 444,
   "metadata": {},
   "outputs": [
    {
     "data": {
      "text/plain": [
       "array([[0.48050573]], dtype=float32)"
      ]
     },
     "execution_count": 444,
     "metadata": {},
     "output_type": "execute_result"
    }
   ],
   "source": [
    "model.predict(first_eval_batch)"
   ]
  },
  {
   "cell_type": "code",
   "execution_count": 445,
   "metadata": {},
   "outputs": [
    {
     "data": {
      "text/plain": [
       "array([0.44381555])"
      ]
     },
     "execution_count": 445,
     "metadata": {},
     "output_type": "execute_result"
    }
   ],
   "source": [
    "scaled_test[0]"
   ]
  },
  {
   "cell_type": "code",
   "execution_count": 446,
   "metadata": {},
   "outputs": [],
   "source": [
    "test_predictions = []\n",
    "\n",
    "first_eval_batch = scaled_train[-n_input:]\n",
    "current_batch = first_eval_batch.reshape((1, n_input, n_features))"
   ]
  },
  {
   "cell_type": "code",
   "execution_count": 447,
   "metadata": {},
   "outputs": [
    {
     "data": {
      "text/plain": [
       "(1, 6, 1)"
      ]
     },
     "execution_count": 447,
     "metadata": {},
     "output_type": "execute_result"
    }
   ],
   "source": [
    "current_batch.shape"
   ]
  },
  {
   "cell_type": "code",
   "execution_count": 448,
   "metadata": {},
   "outputs": [
    {
     "data": {
      "text/plain": [
       "array([[[0.60804811],\n",
       "        [0.53783024],\n",
       "        [0.56851278],\n",
       "        [0.4569907 ],\n",
       "        [0.47807897],\n",
       "        [0.45058792]]])"
      ]
     },
     "execution_count": 448,
     "metadata": {},
     "output_type": "execute_result"
    }
   ],
   "source": [
    "current_batch"
   ]
  },
  {
   "cell_type": "code",
   "execution_count": 449,
   "metadata": {},
   "outputs": [
    {
     "data": {
      "text/plain": [
       "array([[[ 0.53783024],\n",
       "        [ 0.56851278],\n",
       "        [ 0.4569907 ],\n",
       "        [ 0.47807897],\n",
       "        [ 0.45058792],\n",
       "        [99.        ]]])"
      ]
     },
     "execution_count": 449,
     "metadata": {},
     "output_type": "execute_result"
    }
   ],
   "source": [
    "np.append(current_batch[:,1:,:],[[[99]]],axis=1)"
   ]
  },
  {
   "cell_type": "code",
   "execution_count": 450,
   "metadata": {},
   "outputs": [],
   "source": [
    "test_predictions = []\n",
    "\n",
    "first_eval_batch = scaled_train[-n_input:]\n",
    "current_batch = first_eval_batch.reshape((1, n_input, n_features))\n",
    "\n",
    "for i in range(len(test)):\n",
    "    \n",
    "    # get prediction 1 time stamp ahead ([0] is for grabbing just the number instead of [array])\n",
    "    current_pred = model.predict(current_batch)[0]\n",
    "    \n",
    "    # store prediction\n",
    "    test_predictions.append(current_pred) \n",
    "    \n",
    "    # update batch to now include prediction and drop first value\n",
    "    current_batch = np.append(current_batch[:,1:,:],[[current_pred]],axis=1)"
   ]
  },
  {
   "cell_type": "code",
   "execution_count": 451,
   "metadata": {},
   "outputs": [
    {
     "data": {
      "text/plain": [
       "[array([0.48050573], dtype=float32),\n",
       " array([0.49643767], dtype=float32),\n",
       " array([0.5009825], dtype=float32),\n",
       " array([0.52895176], dtype=float32),\n",
       " array([0.52842605], dtype=float32),\n",
       " array([0.5317851], dtype=float32),\n",
       " array([0.52463025], dtype=float32),\n",
       " array([0.51912856], dtype=float32),\n",
       " array([0.5154234], dtype=float32),\n",
       " array([0.50910556], dtype=float32),\n",
       " array([0.5078645], dtype=float32),\n",
       " array([0.5071687], dtype=float32)]"
      ]
     },
     "execution_count": 451,
     "metadata": {},
     "output_type": "execute_result"
    }
   ],
   "source": [
    "test_predictions"
   ]
  },
  {
   "cell_type": "code",
   "execution_count": 452,
   "metadata": {},
   "outputs": [
    {
     "data": {
      "text/plain": [
       "array([[0.44381555],\n",
       "       [0.43210214],\n",
       "       [0.36288223],\n",
       "       [0.24714036],\n",
       "       [0.2463044 ],\n",
       "       [0.245626  ],\n",
       "       [0.26381908],\n",
       "       [0.34610259],\n",
       "       [0.4869555 ],\n",
       "       [0.63049198],\n",
       "       [0.71869637],\n",
       "       [0.76040935]])"
      ]
     },
     "execution_count": 452,
     "metadata": {},
     "output_type": "execute_result"
    }
   ],
   "source": [
    "scaled_test"
   ]
  },
  {
   "cell_type": "markdown",
   "metadata": {},
   "source": [
    "### Inverse Transformations and Compare"
   ]
  },
  {
   "cell_type": "code",
   "execution_count": 453,
   "metadata": {},
   "outputs": [],
   "source": [
    "true_predictions = scaler.inverse_transform(test_predictions)"
   ]
  },
  {
   "cell_type": "code",
   "execution_count": 454,
   "metadata": {},
   "outputs": [
    {
     "data": {
      "text/plain": [
       "array([[7133.15322057],\n",
       "       [7369.51603101],\n",
       "       [7436.94252771],\n",
       "       [7851.8882834 ],\n",
       "       [7844.08891683],\n",
       "       [7893.92262466],\n",
       "       [7787.77519107],\n",
       "       [7706.15331664],\n",
       "       [7651.18458369],\n",
       "       [7557.45423687],\n",
       "       [7539.04171865],\n",
       "       [7528.71949575]])"
      ]
     },
     "execution_count": 454,
     "metadata": {},
     "output_type": "execute_result"
    }
   ],
   "source": [
    "true_predictions"
   ]
  },
  {
   "cell_type": "code",
   "execution_count": 455,
   "metadata": {},
   "outputs": [
    {
     "data": {
      "text/html": [
       "<div>\n",
       "<style scoped>\n",
       "    .dataframe tbody tr th:only-of-type {\n",
       "        vertical-align: middle;\n",
       "    }\n",
       "\n",
       "    .dataframe tbody tr th {\n",
       "        vertical-align: top;\n",
       "    }\n",
       "\n",
       "    .dataframe thead th {\n",
       "        text-align: right;\n",
       "    }\n",
       "</style>\n",
       "<table border=\"1\" class=\"dataframe\">\n",
       "  <thead>\n",
       "    <tr style=\"text-align: right;\">\n",
       "      <th></th>\n",
       "      <th>Weighted_Price</th>\n",
       "    </tr>\n",
       "    <tr>\n",
       "      <th>Timestamp</th>\n",
       "      <th></th>\n",
       "    </tr>\n",
       "  </thead>\n",
       "  <tbody>\n",
       "    <tr>\n",
       "      <td>2018-09-01</td>\n",
       "      <td>6588.825363</td>\n",
       "    </tr>\n",
       "    <tr>\n",
       "      <td>2018-10-01</td>\n",
       "      <td>6415.047708</td>\n",
       "    </tr>\n",
       "    <tr>\n",
       "      <td>2018-11-01</td>\n",
       "      <td>5388.115814</td>\n",
       "    </tr>\n",
       "    <tr>\n",
       "      <td>2018-12-01</td>\n",
       "      <td>3670.993747</td>\n",
       "    </tr>\n",
       "    <tr>\n",
       "      <td>2019-01-01</td>\n",
       "      <td>3658.591625</td>\n",
       "    </tr>\n",
       "    <tr>\n",
       "      <td>2019-02-01</td>\n",
       "      <td>3648.527128</td>\n",
       "    </tr>\n",
       "    <tr>\n",
       "      <td>2019-03-01</td>\n",
       "      <td>3918.435802</td>\n",
       "    </tr>\n",
       "    <tr>\n",
       "      <td>2019-04-01</td>\n",
       "      <td>5139.176480</td>\n",
       "    </tr>\n",
       "    <tr>\n",
       "      <td>2019-05-01</td>\n",
       "      <td>7228.840505</td>\n",
       "    </tr>\n",
       "    <tr>\n",
       "      <td>2019-06-01</td>\n",
       "      <td>9358.317479</td>\n",
       "    </tr>\n",
       "    <tr>\n",
       "      <td>2019-07-01</td>\n",
       "      <td>10666.899166</td>\n",
       "    </tr>\n",
       "    <tr>\n",
       "      <td>2019-08-01</td>\n",
       "      <td>11285.744226</td>\n",
       "    </tr>\n",
       "  </tbody>\n",
       "</table>\n",
       "</div>"
      ],
      "text/plain": [
       "            Weighted_Price\n",
       "Timestamp                 \n",
       "2018-09-01     6588.825363\n",
       "2018-10-01     6415.047708\n",
       "2018-11-01     5388.115814\n",
       "2018-12-01     3670.993747\n",
       "2019-01-01     3658.591625\n",
       "2019-02-01     3648.527128\n",
       "2019-03-01     3918.435802\n",
       "2019-04-01     5139.176480\n",
       "2019-05-01     7228.840505\n",
       "2019-06-01     9358.317479\n",
       "2019-07-01    10666.899166\n",
       "2019-08-01    11285.744226"
      ]
     },
     "execution_count": 455,
     "metadata": {},
     "output_type": "execute_result"
    }
   ],
   "source": [
    "test"
   ]
  },
  {
   "cell_type": "code",
   "execution_count": 456,
   "metadata": {},
   "outputs": [
    {
     "name": "stderr",
     "output_type": "stream",
     "text": [
      "D:\\Ana3\\envs\\tf_gpu4\\lib\\site-packages\\ipykernel_launcher.py:1: SettingWithCopyWarning: \n",
      "A value is trying to be set on a copy of a slice from a DataFrame.\n",
      "Try using .loc[row_indexer,col_indexer] = value instead\n",
      "\n",
      "See the caveats in the documentation: http://pandas.pydata.org/pandas-docs/stable/user_guide/indexing.html#returning-a-view-versus-a-copy\n",
      "  \"\"\"Entry point for launching an IPython kernel.\n"
     ]
    }
   ],
   "source": [
    "test['Predictions'] = true_predictions"
   ]
  },
  {
   "cell_type": "code",
   "execution_count": 457,
   "metadata": {},
   "outputs": [
    {
     "data": {
      "text/html": [
       "<div>\n",
       "<style scoped>\n",
       "    .dataframe tbody tr th:only-of-type {\n",
       "        vertical-align: middle;\n",
       "    }\n",
       "\n",
       "    .dataframe tbody tr th {\n",
       "        vertical-align: top;\n",
       "    }\n",
       "\n",
       "    .dataframe thead th {\n",
       "        text-align: right;\n",
       "    }\n",
       "</style>\n",
       "<table border=\"1\" class=\"dataframe\">\n",
       "  <thead>\n",
       "    <tr style=\"text-align: right;\">\n",
       "      <th></th>\n",
       "      <th>Weighted_Price</th>\n",
       "      <th>Predictions</th>\n",
       "    </tr>\n",
       "    <tr>\n",
       "      <th>Timestamp</th>\n",
       "      <th></th>\n",
       "      <th></th>\n",
       "    </tr>\n",
       "  </thead>\n",
       "  <tbody>\n",
       "    <tr>\n",
       "      <td>2018-09-01</td>\n",
       "      <td>6588.825363</td>\n",
       "      <td>7133.153221</td>\n",
       "    </tr>\n",
       "    <tr>\n",
       "      <td>2018-10-01</td>\n",
       "      <td>6415.047708</td>\n",
       "      <td>7369.516031</td>\n",
       "    </tr>\n",
       "    <tr>\n",
       "      <td>2018-11-01</td>\n",
       "      <td>5388.115814</td>\n",
       "      <td>7436.942528</td>\n",
       "    </tr>\n",
       "    <tr>\n",
       "      <td>2018-12-01</td>\n",
       "      <td>3670.993747</td>\n",
       "      <td>7851.888283</td>\n",
       "    </tr>\n",
       "    <tr>\n",
       "      <td>2019-01-01</td>\n",
       "      <td>3658.591625</td>\n",
       "      <td>7844.088917</td>\n",
       "    </tr>\n",
       "    <tr>\n",
       "      <td>2019-02-01</td>\n",
       "      <td>3648.527128</td>\n",
       "      <td>7893.922625</td>\n",
       "    </tr>\n",
       "    <tr>\n",
       "      <td>2019-03-01</td>\n",
       "      <td>3918.435802</td>\n",
       "      <td>7787.775191</td>\n",
       "    </tr>\n",
       "    <tr>\n",
       "      <td>2019-04-01</td>\n",
       "      <td>5139.176480</td>\n",
       "      <td>7706.153317</td>\n",
       "    </tr>\n",
       "    <tr>\n",
       "      <td>2019-05-01</td>\n",
       "      <td>7228.840505</td>\n",
       "      <td>7651.184584</td>\n",
       "    </tr>\n",
       "    <tr>\n",
       "      <td>2019-06-01</td>\n",
       "      <td>9358.317479</td>\n",
       "      <td>7557.454237</td>\n",
       "    </tr>\n",
       "    <tr>\n",
       "      <td>2019-07-01</td>\n",
       "      <td>10666.899166</td>\n",
       "      <td>7539.041719</td>\n",
       "    </tr>\n",
       "    <tr>\n",
       "      <td>2019-08-01</td>\n",
       "      <td>11285.744226</td>\n",
       "      <td>7528.719496</td>\n",
       "    </tr>\n",
       "  </tbody>\n",
       "</table>\n",
       "</div>"
      ],
      "text/plain": [
       "            Weighted_Price  Predictions\n",
       "Timestamp                              \n",
       "2018-09-01     6588.825363  7133.153221\n",
       "2018-10-01     6415.047708  7369.516031\n",
       "2018-11-01     5388.115814  7436.942528\n",
       "2018-12-01     3670.993747  7851.888283\n",
       "2019-01-01     3658.591625  7844.088917\n",
       "2019-02-01     3648.527128  7893.922625\n",
       "2019-03-01     3918.435802  7787.775191\n",
       "2019-04-01     5139.176480  7706.153317\n",
       "2019-05-01     7228.840505  7651.184584\n",
       "2019-06-01     9358.317479  7557.454237\n",
       "2019-07-01    10666.899166  7539.041719\n",
       "2019-08-01    11285.744226  7528.719496"
      ]
     },
     "execution_count": 457,
     "metadata": {},
     "output_type": "execute_result"
    }
   ],
   "source": [
    "test"
   ]
  },
  {
   "cell_type": "code",
   "execution_count": 458,
   "metadata": {},
   "outputs": [
    {
     "data": {
      "text/plain": [
       "<matplotlib.axes._subplots.AxesSubplot at 0x22e1b15c518>"
      ]
     },
     "execution_count": 458,
     "metadata": {},
     "output_type": "execute_result"
    },
    {
     "data": {
      "image/png": "[encoded data removed]",
      "text/plain": [
       "<Figure size 864x576 with 1 Axes>"
      ]
     },
     "metadata": {},
     "output_type": "display_data"
    }
   ],
   "source": [
    "test.plot(figsize=(12,8))"
   ]
  },
  {
   "cell_type": "code",
   "execution_count": 459,
   "metadata": {},
   "outputs": [],
   "source": [
    "model.save('my_rnn_model.h5')"
   ]
  },
  {
   "cell_type": "code",
   "execution_count": null,
   "metadata": {},
   "outputs": [],
   "source": []
  }
 ],
 "metadata": {
  "kernelspec": {
   "display_name": "Python 3",
   "language": "python",
   "name": "python3"
  },
  "language_info": {
   "codemirror_mode": {
    "name": "ipython",
    "version": 3
   },
   "file_extension": ".py",
   "mimetype": "text/x-python",
   "name": "python",
   "nbconvert_exporter": "python",
   "pygments_lexer": "ipython3",
   "version": "3.6.9"
  }
 },
 "nbformat": 4,
 "nbformat_minor": 2
}
