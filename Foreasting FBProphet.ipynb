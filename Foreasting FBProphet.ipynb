{
 "cells": [
  {
   "cell_type": "code",
   "execution_count": 1,
   "metadata": {},
   "outputs": [],
   "source": [
    "import pandas as pd\n",
    "import numpy as np\n",
    "import seaborn as sns\n",
    "\n",
    "import matplotlib.pylab as plt\n",
    "from matplotlib.pyplot import imread\n",
    "%matplotlib inline"
   ]
  },
  {
   "cell_type": "code",
   "execution_count": 2,
   "metadata": {},
   "outputs": [],
   "source": [
    "from fbprophet import Prophet"
   ]
  },
  {
   "cell_type": "code",
   "execution_count": 3,
   "metadata": {},
   "outputs": [],
   "source": [
    "#Reading data from csv file\n",
    "df = pd.read_csv('bitstampUSD_1-min_data_2012-01-01_to_2019-08-12.csv')"
   ]
  },
  {
   "cell_type": "code",
   "execution_count": 4,
   "metadata": {},
   "outputs": [
    {
     "data": {
      "text/html": [
       "<div>\n",
       "<style scoped>\n",
       "    .dataframe tbody tr th:only-of-type {\n",
       "        vertical-align: middle;\n",
       "    }\n",
       "\n",
       "    .dataframe tbody tr th {\n",
       "        vertical-align: top;\n",
       "    }\n",
       "\n",
       "    .dataframe thead th {\n",
       "        text-align: right;\n",
       "    }\n",
       "</style>\n",
       "<table border=\"1\" class=\"dataframe\">\n",
       "  <thead>\n",
       "    <tr style=\"text-align: right;\">\n",
       "      <th></th>\n",
       "      <th>Timestamp</th>\n",
       "      <th>Open</th>\n",
       "      <th>High</th>\n",
       "      <th>Low</th>\n",
       "      <th>Close</th>\n",
       "      <th>Volume_(BTC)</th>\n",
       "      <th>Volume_(Currency)</th>\n",
       "      <th>Weighted_Price</th>\n",
       "    </tr>\n",
       "  </thead>\n",
       "  <tbody>\n",
       "    <tr>\n",
       "      <td>0</td>\n",
       "      <td>1325317920</td>\n",
       "      <td>4.39</td>\n",
       "      <td>4.39</td>\n",
       "      <td>4.39</td>\n",
       "      <td>4.39</td>\n",
       "      <td>0.455581</td>\n",
       "      <td>2.0</td>\n",
       "      <td>4.39</td>\n",
       "    </tr>\n",
       "    <tr>\n",
       "      <td>1</td>\n",
       "      <td>1325317980</td>\n",
       "      <td>NaN</td>\n",
       "      <td>NaN</td>\n",
       "      <td>NaN</td>\n",
       "      <td>NaN</td>\n",
       "      <td>NaN</td>\n",
       "      <td>NaN</td>\n",
       "      <td>NaN</td>\n",
       "    </tr>\n",
       "    <tr>\n",
       "      <td>2</td>\n",
       "      <td>1325318040</td>\n",
       "      <td>NaN</td>\n",
       "      <td>NaN</td>\n",
       "      <td>NaN</td>\n",
       "      <td>NaN</td>\n",
       "      <td>NaN</td>\n",
       "      <td>NaN</td>\n",
       "      <td>NaN</td>\n",
       "    </tr>\n",
       "    <tr>\n",
       "      <td>3</td>\n",
       "      <td>1325318100</td>\n",
       "      <td>NaN</td>\n",
       "      <td>NaN</td>\n",
       "      <td>NaN</td>\n",
       "      <td>NaN</td>\n",
       "      <td>NaN</td>\n",
       "      <td>NaN</td>\n",
       "      <td>NaN</td>\n",
       "    </tr>\n",
       "    <tr>\n",
       "      <td>4</td>\n",
       "      <td>1325318160</td>\n",
       "      <td>NaN</td>\n",
       "      <td>NaN</td>\n",
       "      <td>NaN</td>\n",
       "      <td>NaN</td>\n",
       "      <td>NaN</td>\n",
       "      <td>NaN</td>\n",
       "      <td>NaN</td>\n",
       "    </tr>\n",
       "  </tbody>\n",
       "</table>\n",
       "</div>"
      ],
      "text/plain": [
       "    Timestamp  Open  High   Low  Close  Volume_(BTC)  Volume_(Currency)  \\\n",
       "0  1325317920  4.39  4.39  4.39   4.39      0.455581                2.0   \n",
       "1  1325317980   NaN   NaN   NaN    NaN           NaN                NaN   \n",
       "2  1325318040   NaN   NaN   NaN    NaN           NaN                NaN   \n",
       "3  1325318100   NaN   NaN   NaN    NaN           NaN                NaN   \n",
       "4  1325318160   NaN   NaN   NaN    NaN           NaN                NaN   \n",
       "\n",
       "   Weighted_Price  \n",
       "0            4.39  \n",
       "1             NaN  \n",
       "2             NaN  \n",
       "3             NaN  \n",
       "4             NaN  "
      ]
     },
     "execution_count": 4,
     "metadata": {},
     "output_type": "execute_result"
    }
   ],
   "source": [
    "#head of the data\n",
    "df.head()"
   ]
  },
  {
   "cell_type": "code",
   "execution_count": 5,
   "metadata": {},
   "outputs": [],
   "source": [
    "#converting UNIX epoch time to human readable date-time format\n",
    "\n",
    "df['Timestamp'] = pd.to_datetime(df['Timestamp'],unit='s')"
   ]
  },
  {
   "cell_type": "code",
   "execution_count": 6,
   "metadata": {},
   "outputs": [
    {
     "data": {
      "text/html": [
       "<div>\n",
       "<style scoped>\n",
       "    .dataframe tbody tr th:only-of-type {\n",
       "        vertical-align: middle;\n",
       "    }\n",
       "\n",
       "    .dataframe tbody tr th {\n",
       "        vertical-align: top;\n",
       "    }\n",
       "\n",
       "    .dataframe thead th {\n",
       "        text-align: right;\n",
       "    }\n",
       "</style>\n",
       "<table border=\"1\" class=\"dataframe\">\n",
       "  <thead>\n",
       "    <tr style=\"text-align: right;\">\n",
       "      <th></th>\n",
       "      <th>Timestamp</th>\n",
       "      <th>Open</th>\n",
       "      <th>High</th>\n",
       "      <th>Low</th>\n",
       "      <th>Close</th>\n",
       "      <th>Volume_(BTC)</th>\n",
       "      <th>Volume_(Currency)</th>\n",
       "      <th>Weighted_Price</th>\n",
       "    </tr>\n",
       "  </thead>\n",
       "  <tbody>\n",
       "    <tr>\n",
       "      <td>0</td>\n",
       "      <td>2011-12-31 07:52:00</td>\n",
       "      <td>4.39</td>\n",
       "      <td>4.39</td>\n",
       "      <td>4.39</td>\n",
       "      <td>4.39</td>\n",
       "      <td>0.455581</td>\n",
       "      <td>2.0</td>\n",
       "      <td>4.39</td>\n",
       "    </tr>\n",
       "    <tr>\n",
       "      <td>1</td>\n",
       "      <td>2011-12-31 07:53:00</td>\n",
       "      <td>NaN</td>\n",
       "      <td>NaN</td>\n",
       "      <td>NaN</td>\n",
       "      <td>NaN</td>\n",
       "      <td>NaN</td>\n",
       "      <td>NaN</td>\n",
       "      <td>NaN</td>\n",
       "    </tr>\n",
       "    <tr>\n",
       "      <td>2</td>\n",
       "      <td>2011-12-31 07:54:00</td>\n",
       "      <td>NaN</td>\n",
       "      <td>NaN</td>\n",
       "      <td>NaN</td>\n",
       "      <td>NaN</td>\n",
       "      <td>NaN</td>\n",
       "      <td>NaN</td>\n",
       "      <td>NaN</td>\n",
       "    </tr>\n",
       "    <tr>\n",
       "      <td>3</td>\n",
       "      <td>2011-12-31 07:55:00</td>\n",
       "      <td>NaN</td>\n",
       "      <td>NaN</td>\n",
       "      <td>NaN</td>\n",
       "      <td>NaN</td>\n",
       "      <td>NaN</td>\n",
       "      <td>NaN</td>\n",
       "      <td>NaN</td>\n",
       "    </tr>\n",
       "    <tr>\n",
       "      <td>4</td>\n",
       "      <td>2011-12-31 07:56:00</td>\n",
       "      <td>NaN</td>\n",
       "      <td>NaN</td>\n",
       "      <td>NaN</td>\n",
       "      <td>NaN</td>\n",
       "      <td>NaN</td>\n",
       "      <td>NaN</td>\n",
       "      <td>NaN</td>\n",
       "    </tr>\n",
       "  </tbody>\n",
       "</table>\n",
       "</div>"
      ],
      "text/plain": [
       "            Timestamp  Open  High   Low  Close  Volume_(BTC)  \\\n",
       "0 2011-12-31 07:52:00  4.39  4.39  4.39   4.39      0.455581   \n",
       "1 2011-12-31 07:53:00   NaN   NaN   NaN    NaN           NaN   \n",
       "2 2011-12-31 07:54:00   NaN   NaN   NaN    NaN           NaN   \n",
       "3 2011-12-31 07:55:00   NaN   NaN   NaN    NaN           NaN   \n",
       "4 2011-12-31 07:56:00   NaN   NaN   NaN    NaN           NaN   \n",
       "\n",
       "   Volume_(Currency)  Weighted_Price  \n",
       "0                2.0            4.39  \n",
       "1                NaN             NaN  \n",
       "2                NaN             NaN  \n",
       "3                NaN             NaN  \n",
       "4                NaN             NaN  "
      ]
     },
     "execution_count": 6,
     "metadata": {},
     "output_type": "execute_result"
    }
   ],
   "source": [
    "df.head()"
   ]
  },
  {
   "cell_type": "markdown",
   "metadata": {},
   "source": [
    "## Data Cleaning "
   ]
  },
  {
   "cell_type": "code",
   "execution_count": 7,
   "metadata": {},
   "outputs": [
    {
     "data": {
      "text/plain": [
       "<matplotlib.axes._subplots.AxesSubplot at 0x10d8dd6a898>"
      ]
     },
     "execution_count": 7,
     "metadata": {},
     "output_type": "execute_result"
    },
    {
     "data": {
      "image/png": "[encoded data removed]",
      "text/plain": [
       "<Figure size 432x288 with 1 Axes>"
      ]
     },
     "metadata": {},
     "output_type": "display_data"
    }
   ],
   "source": [
    "#Checking for missing value with heatmap of the data\n",
    "sns.set_palette(\"husl\")\n",
    "sns.set_style('whitegrid')\n",
    "sns.heatmap(df.isnull(),yticklabels=False,cbar=False,cmap='viridis')"
   ]
  },
  {
   "cell_type": "code",
   "execution_count": null,
   "metadata": {},
   "outputs": [],
   "source": []
  },
  {
   "cell_type": "code",
   "execution_count": 8,
   "metadata": {},
   "outputs": [],
   "source": [
    "#Make the Timestamp column as index\n",
    "df.set_index('Timestamp', inplace=True)"
   ]
  },
  {
   "cell_type": "markdown",
   "metadata": {},
   "source": [
    "Yellow lines are missing values in each rows and there are loads of them!\n",
    "so we need to either drop them or fill them with mean or appropriate value\n"
   ]
  },
  {
   "cell_type": "code",
   "execution_count": 9,
   "metadata": {},
   "outputs": [],
   "source": [
    "#Lets drop the NaN values from the table where all row values are NaN\n",
    "\n",
    "df.dropna(axis=0, inplace = True)"
   ]
  },
  {
   "cell_type": "code",
   "execution_count": 10,
   "metadata": {},
   "outputs": [
    {
     "data": {
      "text/plain": [
       "<matplotlib.axes._subplots.AxesSubplot at 0x10d939fb1d0>"
      ]
     },
     "execution_count": 10,
     "metadata": {},
     "output_type": "execute_result"
    },
    {
     "data": {
      "image/png": "[encoded data removed]",
      "text/plain": [
       "<Figure size 432x288 with 1 Axes>"
      ]
     },
     "metadata": {},
     "output_type": "display_data"
    }
   ],
   "source": [
    "sns.heatmap(df.isnull(),yticklabels=False,cbar=False,cmap='viridis')"
   ]
  },
  {
   "cell_type": "markdown",
   "metadata": {},
   "source": [
    "All missing data rows are gone "
   ]
  },
  {
   "cell_type": "code",
   "execution_count": 11,
   "metadata": {},
   "outputs": [
    {
     "data": {
      "text/html": [
       "<div>\n",
       "<style scoped>\n",
       "    .dataframe tbody tr th:only-of-type {\n",
       "        vertical-align: middle;\n",
       "    }\n",
       "\n",
       "    .dataframe tbody tr th {\n",
       "        vertical-align: top;\n",
       "    }\n",
       "\n",
       "    .dataframe thead th {\n",
       "        text-align: right;\n",
       "    }\n",
       "</style>\n",
       "<table border=\"1\" class=\"dataframe\">\n",
       "  <thead>\n",
       "    <tr style=\"text-align: right;\">\n",
       "      <th></th>\n",
       "      <th>Open</th>\n",
       "      <th>High</th>\n",
       "      <th>Low</th>\n",
       "      <th>Close</th>\n",
       "      <th>Volume_(BTC)</th>\n",
       "      <th>Volume_(Currency)</th>\n",
       "      <th>Weighted_Price</th>\n",
       "    </tr>\n",
       "    <tr>\n",
       "      <th>Timestamp</th>\n",
       "      <th></th>\n",
       "      <th></th>\n",
       "      <th></th>\n",
       "      <th></th>\n",
       "      <th></th>\n",
       "      <th></th>\n",
       "      <th></th>\n",
       "    </tr>\n",
       "  </thead>\n",
       "  <tbody>\n",
       "    <tr>\n",
       "      <td>2011-12-31 07:52:00</td>\n",
       "      <td>4.39</td>\n",
       "      <td>4.39</td>\n",
       "      <td>4.39</td>\n",
       "      <td>4.39</td>\n",
       "      <td>0.455581</td>\n",
       "      <td>2.000000</td>\n",
       "      <td>4.390000</td>\n",
       "    </tr>\n",
       "    <tr>\n",
       "      <td>2011-12-31 15:50:00</td>\n",
       "      <td>4.39</td>\n",
       "      <td>4.39</td>\n",
       "      <td>4.39</td>\n",
       "      <td>4.39</td>\n",
       "      <td>48.000000</td>\n",
       "      <td>210.720000</td>\n",
       "      <td>4.390000</td>\n",
       "    </tr>\n",
       "    <tr>\n",
       "      <td>2011-12-31 16:59:00</td>\n",
       "      <td>4.50</td>\n",
       "      <td>4.57</td>\n",
       "      <td>4.50</td>\n",
       "      <td>4.57</td>\n",
       "      <td>37.862297</td>\n",
       "      <td>171.380338</td>\n",
       "      <td>4.526411</td>\n",
       "    </tr>\n",
       "    <tr>\n",
       "      <td>2011-12-31 17:00:00</td>\n",
       "      <td>4.58</td>\n",
       "      <td>4.58</td>\n",
       "      <td>4.58</td>\n",
       "      <td>4.58</td>\n",
       "      <td>9.000000</td>\n",
       "      <td>41.220000</td>\n",
       "      <td>4.580000</td>\n",
       "    </tr>\n",
       "    <tr>\n",
       "      <td>2012-01-01 04:16:00</td>\n",
       "      <td>4.58</td>\n",
       "      <td>4.58</td>\n",
       "      <td>4.58</td>\n",
       "      <td>4.58</td>\n",
       "      <td>1.502000</td>\n",
       "      <td>6.879160</td>\n",
       "      <td>4.580000</td>\n",
       "    </tr>\n",
       "  </tbody>\n",
       "</table>\n",
       "</div>"
      ],
      "text/plain": [
       "                     Open  High   Low  Close  Volume_(BTC)  Volume_(Currency)  \\\n",
       "Timestamp                                                                       \n",
       "2011-12-31 07:52:00  4.39  4.39  4.39   4.39      0.455581           2.000000   \n",
       "2011-12-31 15:50:00  4.39  4.39  4.39   4.39     48.000000         210.720000   \n",
       "2011-12-31 16:59:00  4.50  4.57  4.50   4.57     37.862297         171.380338   \n",
       "2011-12-31 17:00:00  4.58  4.58  4.58   4.58      9.000000          41.220000   \n",
       "2012-01-01 04:16:00  4.58  4.58  4.58   4.58      1.502000           6.879160   \n",
       "\n",
       "                     Weighted_Price  \n",
       "Timestamp                            \n",
       "2011-12-31 07:52:00        4.390000  \n",
       "2011-12-31 15:50:00        4.390000  \n",
       "2011-12-31 16:59:00        4.526411  \n",
       "2011-12-31 17:00:00        4.580000  \n",
       "2012-01-01 04:16:00        4.580000  "
      ]
     },
     "execution_count": 11,
     "metadata": {},
     "output_type": "execute_result"
    }
   ],
   "source": [
    "df.head()"
   ]
  },
  {
   "cell_type": "code",
   "execution_count": 12,
   "metadata": {},
   "outputs": [
    {
     "name": "stdout",
     "output_type": "stream",
     "text": [
      "<class 'pandas.core.frame.DataFrame'>\n",
      "DatetimeIndex: 2765819 entries, 2011-12-31 07:52:00 to 2019-08-12 00:00:00\n",
      "Data columns (total 7 columns):\n",
      "Open                 float64\n",
      "High                 float64\n",
      "Low                  float64\n",
      "Close                float64\n",
      "Volume_(BTC)         float64\n",
      "Volume_(Currency)    float64\n",
      "Weighted_Price       float64\n",
      "dtypes: float64(7)\n",
      "memory usage: 168.8 MB\n"
     ]
    }
   ],
   "source": [
    "#info about data frame\n",
    "df.info()"
   ]
  },
  {
   "cell_type": "markdown",
   "metadata": {},
   "source": [
    "All columns' data type are float64 with datetime index "
   ]
  },
  {
   "cell_type": "code",
   "execution_count": 13,
   "metadata": {},
   "outputs": [
    {
     "data": {
      "text/html": [
       "<div>\n",
       "<style scoped>\n",
       "    .dataframe tbody tr th:only-of-type {\n",
       "        vertical-align: middle;\n",
       "    }\n",
       "\n",
       "    .dataframe tbody tr th {\n",
       "        vertical-align: top;\n",
       "    }\n",
       "\n",
       "    .dataframe thead th {\n",
       "        text-align: right;\n",
       "    }\n",
       "</style>\n",
       "<table border=\"1\" class=\"dataframe\">\n",
       "  <thead>\n",
       "    <tr style=\"text-align: right;\">\n",
       "      <th></th>\n",
       "      <th>Open</th>\n",
       "      <th>High</th>\n",
       "      <th>Low</th>\n",
       "      <th>Close</th>\n",
       "      <th>Volume_(BTC)</th>\n",
       "      <th>Volume_(Currency)</th>\n",
       "      <th>Weighted_Price</th>\n",
       "    </tr>\n",
       "  </thead>\n",
       "  <tbody>\n",
       "    <tr>\n",
       "      <td>count</td>\n",
       "      <td>2.765819e+06</td>\n",
       "      <td>2.765819e+06</td>\n",
       "      <td>2.765819e+06</td>\n",
       "      <td>2.765819e+06</td>\n",
       "      <td>2.765819e+06</td>\n",
       "      <td>2.765819e+06</td>\n",
       "      <td>2.765819e+06</td>\n",
       "    </tr>\n",
       "    <tr>\n",
       "      <td>mean</td>\n",
       "      <td>3.059659e+03</td>\n",
       "      <td>3.062027e+03</td>\n",
       "      <td>3.057022e+03</td>\n",
       "      <td>3.059638e+03</td>\n",
       "      <td>1.042232e+01</td>\n",
       "      <td>2.686812e+04</td>\n",
       "      <td>3.059499e+03</td>\n",
       "    </tr>\n",
       "    <tr>\n",
       "      <td>std</td>\n",
       "      <td>3.741168e+03</td>\n",
       "      <td>3.744835e+03</td>\n",
       "      <td>3.736985e+03</td>\n",
       "      <td>3.741134e+03</td>\n",
       "      <td>3.375010e+01</td>\n",
       "      <td>9.620425e+04</td>\n",
       "      <td>3.740910e+03</td>\n",
       "    </tr>\n",
       "    <tr>\n",
       "      <td>min</td>\n",
       "      <td>3.800000e+00</td>\n",
       "      <td>3.800000e+00</td>\n",
       "      <td>1.500000e+00</td>\n",
       "      <td>1.500000e+00</td>\n",
       "      <td>0.000000e+00</td>\n",
       "      <td>0.000000e+00</td>\n",
       "      <td>3.800000e+00</td>\n",
       "    </tr>\n",
       "    <tr>\n",
       "      <td>25%</td>\n",
       "      <td>3.742700e+02</td>\n",
       "      <td>3.745200e+02</td>\n",
       "      <td>3.740000e+02</td>\n",
       "      <td>3.742500e+02</td>\n",
       "      <td>4.530000e-01</td>\n",
       "      <td>2.865515e+02</td>\n",
       "      <td>3.742434e+02</td>\n",
       "    </tr>\n",
       "    <tr>\n",
       "      <td>50%</td>\n",
       "      <td>7.794500e+02</td>\n",
       "      <td>7.799100e+02</td>\n",
       "      <td>7.790100e+02</td>\n",
       "      <td>7.794900e+02</td>\n",
       "      <td>2.100451e+00</td>\n",
       "      <td>2.209966e+03</td>\n",
       "      <td>7.794137e+02</td>\n",
       "    </tr>\n",
       "    <tr>\n",
       "      <td>75%</td>\n",
       "      <td>5.635745e+03</td>\n",
       "      <td>5.639500e+03</td>\n",
       "      <td>5.631100e+03</td>\n",
       "      <td>5.635355e+03</td>\n",
       "      <td>8.179424e+00</td>\n",
       "      <td>1.554689e+04</td>\n",
       "      <td>5.635118e+03</td>\n",
       "    </tr>\n",
       "    <tr>\n",
       "      <td>max</td>\n",
       "      <td>1.966576e+04</td>\n",
       "      <td>1.966600e+04</td>\n",
       "      <td>1.964996e+04</td>\n",
       "      <td>1.966575e+04</td>\n",
       "      <td>5.853852e+03</td>\n",
       "      <td>7.569437e+06</td>\n",
       "      <td>1.966330e+04</td>\n",
       "    </tr>\n",
       "  </tbody>\n",
       "</table>\n",
       "</div>"
      ],
      "text/plain": [
       "               Open          High           Low         Close  Volume_(BTC)  \\\n",
       "count  2.765819e+06  2.765819e+06  2.765819e+06  2.765819e+06  2.765819e+06   \n",
       "mean   3.059659e+03  3.062027e+03  3.057022e+03  3.059638e+03  1.042232e+01   \n",
       "std    3.741168e+03  3.744835e+03  3.736985e+03  3.741134e+03  3.375010e+01   \n",
       "min    3.800000e+00  3.800000e+00  1.500000e+00  1.500000e+00  0.000000e+00   \n",
       "25%    3.742700e+02  3.745200e+02  3.740000e+02  3.742500e+02  4.530000e-01   \n",
       "50%    7.794500e+02  7.799100e+02  7.790100e+02  7.794900e+02  2.100451e+00   \n",
       "75%    5.635745e+03  5.639500e+03  5.631100e+03  5.635355e+03  8.179424e+00   \n",
       "max    1.966576e+04  1.966600e+04  1.964996e+04  1.966575e+04  5.853852e+03   \n",
       "\n",
       "       Volume_(Currency)  Weighted_Price  \n",
       "count       2.765819e+06    2.765819e+06  \n",
       "mean        2.686812e+04    3.059499e+03  \n",
       "std         9.620425e+04    3.740910e+03  \n",
       "min         0.000000e+00    3.800000e+00  \n",
       "25%         2.865515e+02    3.742434e+02  \n",
       "50%         2.209966e+03    7.794137e+02  \n",
       "75%         1.554689e+04    5.635118e+03  \n",
       "max         7.569437e+06    1.966330e+04  "
      ]
     },
     "execution_count": 13,
     "metadata": {},
     "output_type": "execute_result"
    }
   ],
   "source": [
    "#Descriptive Statistics of all columns of the data set\n",
    "df.describe()"
   ]
  },
  {
   "cell_type": "code",
   "execution_count": 14,
   "metadata": {},
   "outputs": [],
   "source": [
    "# sns.set_palette(\"husl\")\n",
    "# sns.set_style('whitegrid')\n",
    "# sns.pairplot(df)\n",
    "# #sns.set(rc={'figure.figsize':(16,12)})"
   ]
  },
  {
   "cell_type": "code",
   "execution_count": 15,
   "metadata": {},
   "outputs": [
    {
     "data": {
      "text/plain": [
       "<matplotlib.axes._subplots.AxesSubplot at 0x10d8f054940>"
      ]
     },
     "execution_count": 15,
     "metadata": {},
     "output_type": "execute_result"
    },
    {
     "data": {
      "image/png": "[encoded data removed]",
      "text/plain": [
       "<Figure size 1152x432 with 1 Axes>"
      ]
     },
     "metadata": {},
     "output_type": "display_data"
    }
   ],
   "source": [
    "df['Weighted_Price'].plot(figsize=(16,6))"
   ]
  },
  {
   "cell_type": "markdown",
   "metadata": {},
   "source": [
    "### ReSampling ( Daily )"
   ]
  },
  {
   "cell_type": "code",
   "execution_count": 16,
   "metadata": {},
   "outputs": [
    {
     "data": {
      "text/html": [
       "<div>\n",
       "<style scoped>\n",
       "    .dataframe tbody tr th:only-of-type {\n",
       "        vertical-align: middle;\n",
       "    }\n",
       "\n",
       "    .dataframe tbody tr th {\n",
       "        vertical-align: top;\n",
       "    }\n",
       "\n",
       "    .dataframe thead th {\n",
       "        text-align: right;\n",
       "    }\n",
       "</style>\n",
       "<table border=\"1\" class=\"dataframe\">\n",
       "  <thead>\n",
       "    <tr style=\"text-align: right;\">\n",
       "      <th></th>\n",
       "      <th>Open</th>\n",
       "      <th>High</th>\n",
       "      <th>Low</th>\n",
       "      <th>Close</th>\n",
       "      <th>Volume_(BTC)</th>\n",
       "      <th>Volume_(Currency)</th>\n",
       "      <th>Weighted_Price</th>\n",
       "    </tr>\n",
       "    <tr>\n",
       "      <th>Timestamp</th>\n",
       "      <th></th>\n",
       "      <th></th>\n",
       "      <th></th>\n",
       "      <th></th>\n",
       "      <th></th>\n",
       "      <th></th>\n",
       "      <th></th>\n",
       "    </tr>\n",
       "  </thead>\n",
       "  <tbody>\n",
       "    <tr>\n",
       "      <td>2011-12-31</td>\n",
       "      <td>4.465000</td>\n",
       "      <td>4.482500</td>\n",
       "      <td>4.465000</td>\n",
       "      <td>4.482500</td>\n",
       "      <td>23.829470</td>\n",
       "      <td>106.330084</td>\n",
       "      <td>4.471603</td>\n",
       "    </tr>\n",
       "    <tr>\n",
       "      <td>2012-01-01</td>\n",
       "      <td>4.806667</td>\n",
       "      <td>4.806667</td>\n",
       "      <td>4.806667</td>\n",
       "      <td>4.806667</td>\n",
       "      <td>7.200667</td>\n",
       "      <td>35.259720</td>\n",
       "      <td>4.806667</td>\n",
       "    </tr>\n",
       "    <tr>\n",
       "      <td>2012-01-02</td>\n",
       "      <td>5.000000</td>\n",
       "      <td>5.000000</td>\n",
       "      <td>5.000000</td>\n",
       "      <td>5.000000</td>\n",
       "      <td>19.048000</td>\n",
       "      <td>95.240000</td>\n",
       "      <td>5.000000</td>\n",
       "    </tr>\n",
       "    <tr>\n",
       "      <td>2012-01-03</td>\n",
       "      <td>5.252500</td>\n",
       "      <td>5.252500</td>\n",
       "      <td>5.252500</td>\n",
       "      <td>5.252500</td>\n",
       "      <td>11.004660</td>\n",
       "      <td>58.100651</td>\n",
       "      <td>5.252500</td>\n",
       "    </tr>\n",
       "    <tr>\n",
       "      <td>2012-01-04</td>\n",
       "      <td>5.200000</td>\n",
       "      <td>5.223333</td>\n",
       "      <td>5.200000</td>\n",
       "      <td>5.223333</td>\n",
       "      <td>11.914807</td>\n",
       "      <td>63.119577</td>\n",
       "      <td>5.208159</td>\n",
       "    </tr>\n",
       "    <tr>\n",
       "      <td>...</td>\n",
       "      <td>...</td>\n",
       "      <td>...</td>\n",
       "      <td>...</td>\n",
       "      <td>...</td>\n",
       "      <td>...</td>\n",
       "      <td>...</td>\n",
       "      <td>...</td>\n",
       "    </tr>\n",
       "    <tr>\n",
       "      <td>2019-08-08</td>\n",
       "      <td>11802.089256</td>\n",
       "      <td>11808.993252</td>\n",
       "      <td>11794.461369</td>\n",
       "      <td>11802.458499</td>\n",
       "      <td>7.049661</td>\n",
       "      <td>83148.905377</td>\n",
       "      <td>11801.348742</td>\n",
       "    </tr>\n",
       "    <tr>\n",
       "      <td>2019-08-09</td>\n",
       "      <td>11820.178077</td>\n",
       "      <td>11826.725247</td>\n",
       "      <td>11813.025645</td>\n",
       "      <td>11820.708334</td>\n",
       "      <td>5.112833</td>\n",
       "      <td>60408.960125</td>\n",
       "      <td>11819.342193</td>\n",
       "    </tr>\n",
       "    <tr>\n",
       "      <td>2019-08-10</td>\n",
       "      <td>11579.977053</td>\n",
       "      <td>11584.982614</td>\n",
       "      <td>11573.482812</td>\n",
       "      <td>11579.683736</td>\n",
       "      <td>5.289239</td>\n",
       "      <td>61001.259165</td>\n",
       "      <td>11578.771029</td>\n",
       "    </tr>\n",
       "    <tr>\n",
       "      <td>2019-08-11</td>\n",
       "      <td>11378.309762</td>\n",
       "      <td>11382.878294</td>\n",
       "      <td>11373.748798</td>\n",
       "      <td>11379.131929</td>\n",
       "      <td>3.139950</td>\n",
       "      <td>35706.525587</td>\n",
       "      <td>11378.232876</td>\n",
       "    </tr>\n",
       "    <tr>\n",
       "      <td>2019-08-12</td>\n",
       "      <td>11527.440000</td>\n",
       "      <td>11551.570000</td>\n",
       "      <td>11520.000000</td>\n",
       "      <td>11520.000000</td>\n",
       "      <td>23.805939</td>\n",
       "      <td>274731.256920</td>\n",
       "      <td>11540.450291</td>\n",
       "    </tr>\n",
       "  </tbody>\n",
       "</table>\n",
       "<p>2782 rows × 7 columns</p>\n",
       "</div>"
      ],
      "text/plain": [
       "                    Open          High           Low         Close  \\\n",
       "Timestamp                                                            \n",
       "2011-12-31      4.465000      4.482500      4.465000      4.482500   \n",
       "2012-01-01      4.806667      4.806667      4.806667      4.806667   \n",
       "2012-01-02      5.000000      5.000000      5.000000      5.000000   \n",
       "2012-01-03      5.252500      5.252500      5.252500      5.252500   \n",
       "2012-01-04      5.200000      5.223333      5.200000      5.223333   \n",
       "...                  ...           ...           ...           ...   \n",
       "2019-08-08  11802.089256  11808.993252  11794.461369  11802.458499   \n",
       "2019-08-09  11820.178077  11826.725247  11813.025645  11820.708334   \n",
       "2019-08-10  11579.977053  11584.982614  11573.482812  11579.683736   \n",
       "2019-08-11  11378.309762  11382.878294  11373.748798  11379.131929   \n",
       "2019-08-12  11527.440000  11551.570000  11520.000000  11520.000000   \n",
       "\n",
       "            Volume_(BTC)  Volume_(Currency)  Weighted_Price  \n",
       "Timestamp                                                    \n",
       "2011-12-31     23.829470         106.330084        4.471603  \n",
       "2012-01-01      7.200667          35.259720        4.806667  \n",
       "2012-01-02     19.048000          95.240000        5.000000  \n",
       "2012-01-03     11.004660          58.100651        5.252500  \n",
       "2012-01-04     11.914807          63.119577        5.208159  \n",
       "...                  ...                ...             ...  \n",
       "2019-08-08      7.049661       83148.905377    11801.348742  \n",
       "2019-08-09      5.112833       60408.960125    11819.342193  \n",
       "2019-08-10      5.289239       61001.259165    11578.771029  \n",
       "2019-08-11      3.139950       35706.525587    11378.232876  \n",
       "2019-08-12     23.805939      274731.256920    11540.450291  \n",
       "\n",
       "[2782 rows x 7 columns]"
      ]
     },
     "execution_count": 16,
     "metadata": {},
     "output_type": "execute_result"
    }
   ],
   "source": [
    "df.resample(rule='D').mean()"
   ]
  },
  {
   "cell_type": "code",
   "execution_count": 17,
   "metadata": {},
   "outputs": [
    {
     "name": "stdout",
     "output_type": "stream",
     "text": [
      "<class 'pandas.core.frame.DataFrame'>\n",
      "DatetimeIndex: 2765819 entries, 2011-12-31 07:52:00 to 2019-08-12 00:00:00\n",
      "Data columns (total 7 columns):\n",
      "Open                 float64\n",
      "High                 float64\n",
      "Low                  float64\n",
      "Close                float64\n",
      "Volume_(BTC)         float64\n",
      "Volume_(Currency)    float64\n",
      "Weighted_Price       float64\n",
      "dtypes: float64(7)\n",
      "memory usage: 168.8 MB\n"
     ]
    }
   ],
   "source": [
    "df.info()"
   ]
  },
  {
   "cell_type": "code",
   "execution_count": 41,
   "metadata": {},
   "outputs": [
    {
     "data": {
      "text/plain": [
       "<matplotlib.axes._subplots.AxesSubplot at 0x224bbc9b518>"
      ]
     },
     "execution_count": 41,
     "metadata": {},
     "output_type": "execute_result"
    },
    {
     "data": {
      "image/png": "[encoded data removed]",
      "text/plain": [
       "<Figure size 1152x432 with 1 Axes>"
      ]
     },
     "metadata": {
      "needs_background": "light"
     },
     "output_type": "display_data"
    }
   ],
   "source": [
    "df['Weighted_Price'].plot(figsize=(16,6))"
   ]
  },
  {
   "cell_type": "code",
   "execution_count": 42,
   "metadata": {},
   "outputs": [
    {
     "data": {
      "text/html": [
       "<div>\n",
       "<style scoped>\n",
       "    .dataframe tbody tr th:only-of-type {\n",
       "        vertical-align: middle;\n",
       "    }\n",
       "\n",
       "    .dataframe tbody tr th {\n",
       "        vertical-align: top;\n",
       "    }\n",
       "\n",
       "    .dataframe thead th {\n",
       "        text-align: right;\n",
       "    }\n",
       "</style>\n",
       "<table border=\"1\" class=\"dataframe\">\n",
       "  <thead>\n",
       "    <tr style=\"text-align: right;\">\n",
       "      <th></th>\n",
       "      <th>Open</th>\n",
       "      <th>High</th>\n",
       "      <th>Low</th>\n",
       "      <th>Close</th>\n",
       "      <th>Volume_(BTC)</th>\n",
       "      <th>Volume_(Currency)</th>\n",
       "      <th>Weighted_Price</th>\n",
       "    </tr>\n",
       "    <tr>\n",
       "      <th>Timestamp</th>\n",
       "      <th></th>\n",
       "      <th></th>\n",
       "      <th></th>\n",
       "      <th></th>\n",
       "      <th></th>\n",
       "      <th></th>\n",
       "      <th></th>\n",
       "    </tr>\n",
       "  </thead>\n",
       "  <tbody>\n",
       "    <tr>\n",
       "      <td>2011-12-31 07:52:00</td>\n",
       "      <td>4.39</td>\n",
       "      <td>4.39</td>\n",
       "      <td>4.39</td>\n",
       "      <td>4.39</td>\n",
       "      <td>0.455581</td>\n",
       "      <td>2.000000</td>\n",
       "      <td>4.390000</td>\n",
       "    </tr>\n",
       "    <tr>\n",
       "      <td>2011-12-31 15:50:00</td>\n",
       "      <td>4.39</td>\n",
       "      <td>4.39</td>\n",
       "      <td>4.39</td>\n",
       "      <td>4.39</td>\n",
       "      <td>48.000000</td>\n",
       "      <td>210.720000</td>\n",
       "      <td>4.390000</td>\n",
       "    </tr>\n",
       "    <tr>\n",
       "      <td>2011-12-31 16:59:00</td>\n",
       "      <td>4.50</td>\n",
       "      <td>4.57</td>\n",
       "      <td>4.50</td>\n",
       "      <td>4.57</td>\n",
       "      <td>37.862297</td>\n",
       "      <td>171.380338</td>\n",
       "      <td>4.526411</td>\n",
       "    </tr>\n",
       "    <tr>\n",
       "      <td>2011-12-31 17:00:00</td>\n",
       "      <td>4.58</td>\n",
       "      <td>4.58</td>\n",
       "      <td>4.58</td>\n",
       "      <td>4.58</td>\n",
       "      <td>9.000000</td>\n",
       "      <td>41.220000</td>\n",
       "      <td>4.580000</td>\n",
       "    </tr>\n",
       "    <tr>\n",
       "      <td>2012-01-01 04:16:00</td>\n",
       "      <td>4.58</td>\n",
       "      <td>4.58</td>\n",
       "      <td>4.58</td>\n",
       "      <td>4.58</td>\n",
       "      <td>1.502000</td>\n",
       "      <td>6.879160</td>\n",
       "      <td>4.580000</td>\n",
       "    </tr>\n",
       "  </tbody>\n",
       "</table>\n",
       "</div>"
      ],
      "text/plain": [
       "                     Open  High   Low  Close  Volume_(BTC)  Volume_(Currency)  \\\n",
       "Timestamp                                                                       \n",
       "2011-12-31 07:52:00  4.39  4.39  4.39   4.39      0.455581           2.000000   \n",
       "2011-12-31 15:50:00  4.39  4.39  4.39   4.39     48.000000         210.720000   \n",
       "2011-12-31 16:59:00  4.50  4.57  4.50   4.57     37.862297         171.380338   \n",
       "2011-12-31 17:00:00  4.58  4.58  4.58   4.58      9.000000          41.220000   \n",
       "2012-01-01 04:16:00  4.58  4.58  4.58   4.58      1.502000           6.879160   \n",
       "\n",
       "                     Weighted_Price  \n",
       "Timestamp                            \n",
       "2011-12-31 07:52:00        4.390000  \n",
       "2011-12-31 15:50:00        4.390000  \n",
       "2011-12-31 16:59:00        4.526411  \n",
       "2011-12-31 17:00:00        4.580000  \n",
       "2012-01-01 04:16:00        4.580000  "
      ]
     },
     "execution_count": 42,
     "metadata": {},
     "output_type": "execute_result"
    }
   ],
   "source": [
    "df.head()"
   ]
  },
  {
   "cell_type": "code",
   "execution_count": 18,
   "metadata": {},
   "outputs": [],
   "source": [
    "dfwp = df['Weighted_Price']"
   ]
  },
  {
   "cell_type": "code",
   "execution_count": 19,
   "metadata": {},
   "outputs": [
    {
     "data": {
      "text/plain": [
       "Timestamp\n",
       "2011-12-31 07:52:00        4.390000\n",
       "2011-12-31 15:50:00        4.390000\n",
       "2011-12-31 16:59:00        4.526411\n",
       "2011-12-31 17:00:00        4.580000\n",
       "2012-01-01 04:16:00        4.580000\n",
       "                           ...     \n",
       "2019-08-11 23:56:00    11552.336234\n",
       "2019-08-11 23:57:00    11555.520505\n",
       "2019-08-11 23:58:00    11559.252199\n",
       "2019-08-11 23:59:00    11575.638889\n",
       "2019-08-12 00:00:00    11540.450291\n",
       "Name: Weighted_Price, Length: 2765819, dtype: float64"
      ]
     },
     "execution_count": 19,
     "metadata": {},
     "output_type": "execute_result"
    }
   ],
   "source": [
    "dfwp"
   ]
  },
  {
   "cell_type": "markdown",
   "metadata": {},
   "source": [
    "## Forecasting \n",
    "### FBProphet"
   ]
  },
  {
   "cell_type": "code",
   "execution_count": 47,
   "metadata": {},
   "outputs": [],
   "source": [
    "df1 = dfwp.resample(rule='D').mean()"
   ]
  },
  {
   "cell_type": "code",
   "execution_count": 48,
   "metadata": {},
   "outputs": [
    {
     "data": {
      "text/plain": [
       "Timestamp\n",
       "2011-12-31        4.471603\n",
       "2012-01-01        4.806667\n",
       "2012-01-02        5.000000\n",
       "2012-01-03        5.252500\n",
       "2012-01-04        5.208159\n",
       "                  ...     \n",
       "2019-08-08    11801.348742\n",
       "2019-08-09    11819.342193\n",
       "2019-08-10    11578.771029\n",
       "2019-08-11    11378.232876\n",
       "2019-08-12    11540.450291\n",
       "Freq: D, Name: Weighted_Price, Length: 2782, dtype: float64"
      ]
     },
     "execution_count": 48,
     "metadata": {},
     "output_type": "execute_result"
    }
   ],
   "source": [
    "df1"
   ]
  },
  {
   "cell_type": "code",
   "execution_count": 49,
   "metadata": {},
   "outputs": [],
   "source": [
    "df1 = df1.reset_index()"
   ]
  },
  {
   "cell_type": "code",
   "execution_count": 51,
   "metadata": {},
   "outputs": [
    {
     "name": "stdout",
     "output_type": "stream",
     "text": [
      "<class 'pandas.core.frame.DataFrame'>\n",
      "RangeIndex: 2782 entries, 0 to 2781\n",
      "Data columns (total 2 columns):\n",
      "Timestamp         2782 non-null datetime64[ns]\n",
      "Weighted_Price    2779 non-null float64\n",
      "dtypes: datetime64[ns](1), float64(1)\n",
      "memory usage: 43.6 KB\n"
     ]
    }
   ],
   "source": [
    "df1.info()"
   ]
  },
  {
   "cell_type": "code",
   "execution_count": 53,
   "metadata": {},
   "outputs": [],
   "source": [
    "df1.columns = ['ds','y']"
   ]
  },
  {
   "cell_type": "code",
   "execution_count": 54,
   "metadata": {},
   "outputs": [
    {
     "data": {
      "text/html": [
       "<div>\n",
       "<style scoped>\n",
       "    .dataframe tbody tr th:only-of-type {\n",
       "        vertical-align: middle;\n",
       "    }\n",
       "\n",
       "    .dataframe tbody tr th {\n",
       "        vertical-align: top;\n",
       "    }\n",
       "\n",
       "    .dataframe thead th {\n",
       "        text-align: right;\n",
       "    }\n",
       "</style>\n",
       "<table border=\"1\" class=\"dataframe\">\n",
       "  <thead>\n",
       "    <tr style=\"text-align: right;\">\n",
       "      <th></th>\n",
       "      <th>ds</th>\n",
       "      <th>y</th>\n",
       "    </tr>\n",
       "  </thead>\n",
       "  <tbody>\n",
       "    <tr>\n",
       "      <td>0</td>\n",
       "      <td>2011-12-31</td>\n",
       "      <td>4.471603</td>\n",
       "    </tr>\n",
       "    <tr>\n",
       "      <td>1</td>\n",
       "      <td>2012-01-01</td>\n",
       "      <td>4.806667</td>\n",
       "    </tr>\n",
       "    <tr>\n",
       "      <td>2</td>\n",
       "      <td>2012-01-02</td>\n",
       "      <td>5.000000</td>\n",
       "    </tr>\n",
       "    <tr>\n",
       "      <td>3</td>\n",
       "      <td>2012-01-03</td>\n",
       "      <td>5.252500</td>\n",
       "    </tr>\n",
       "    <tr>\n",
       "      <td>4</td>\n",
       "      <td>2012-01-04</td>\n",
       "      <td>5.208159</td>\n",
       "    </tr>\n",
       "  </tbody>\n",
       "</table>\n",
       "</div>"
      ],
      "text/plain": [
       "          ds         y\n",
       "0 2011-12-31  4.471603\n",
       "1 2012-01-01  4.806667\n",
       "2 2012-01-02  5.000000\n",
       "3 2012-01-03  5.252500\n",
       "4 2012-01-04  5.208159"
      ]
     },
     "execution_count": 54,
     "metadata": {},
     "output_type": "execute_result"
    }
   ],
   "source": [
    "df1.head()"
   ]
  },
  {
   "cell_type": "code",
   "execution_count": 55,
   "metadata": {},
   "outputs": [
    {
     "name": "stderr",
     "output_type": "stream",
     "text": [
      "INFO:fbprophet:Disabling daily seasonality. Run prophet with daily_seasonality=True to override this.\n",
      "D:\\Ana3\\envs\\tf_gpu4\\lib\\site-packages\\pystan\\misc.py:399: FutureWarning:\n",
      "\n",
      "Conversion of the second argument of issubdtype from `float` to `np.floating` is deprecated. In future, it will be treated as `np.float64 == np.dtype(float).type`.\n",
      "\n"
     ]
    },
    {
     "data": {
      "text/plain": [
       "<fbprophet.forecaster.Prophet at 0x224d75160b8>"
      ]
     },
     "execution_count": 55,
     "metadata": {},
     "output_type": "execute_result"
    }
   ],
   "source": [
    "# This is fitting on all the data (no train test split in this example)\n",
    "m = Prophet()\n",
    "m.fit(df1)"
   ]
  },
  {
   "cell_type": "code",
   "execution_count": 63,
   "metadata": {},
   "outputs": [],
   "source": [
    "future = m.make_future_dataframe(periods=24) #freq default daily"
   ]
  },
  {
   "cell_type": "code",
   "execution_count": 64,
   "metadata": {},
   "outputs": [
    {
     "data": {
      "text/html": [
       "<div>\n",
       "<style scoped>\n",
       "    .dataframe tbody tr th:only-of-type {\n",
       "        vertical-align: middle;\n",
       "    }\n",
       "\n",
       "    .dataframe tbody tr th {\n",
       "        vertical-align: top;\n",
       "    }\n",
       "\n",
       "    .dataframe thead th {\n",
       "        text-align: right;\n",
       "    }\n",
       "</style>\n",
       "<table border=\"1\" class=\"dataframe\">\n",
       "  <thead>\n",
       "    <tr style=\"text-align: right;\">\n",
       "      <th></th>\n",
       "      <th>ds</th>\n",
       "      <th>y</th>\n",
       "    </tr>\n",
       "  </thead>\n",
       "  <tbody>\n",
       "    <tr>\n",
       "      <td>2777</td>\n",
       "      <td>2019-08-08</td>\n",
       "      <td>11801.348742</td>\n",
       "    </tr>\n",
       "    <tr>\n",
       "      <td>2778</td>\n",
       "      <td>2019-08-09</td>\n",
       "      <td>11819.342193</td>\n",
       "    </tr>\n",
       "    <tr>\n",
       "      <td>2779</td>\n",
       "      <td>2019-08-10</td>\n",
       "      <td>11578.771029</td>\n",
       "    </tr>\n",
       "    <tr>\n",
       "      <td>2780</td>\n",
       "      <td>2019-08-11</td>\n",
       "      <td>11378.232876</td>\n",
       "    </tr>\n",
       "    <tr>\n",
       "      <td>2781</td>\n",
       "      <td>2019-08-12</td>\n",
       "      <td>11540.450291</td>\n",
       "    </tr>\n",
       "  </tbody>\n",
       "</table>\n",
       "</div>"
      ],
      "text/plain": [
       "             ds             y\n",
       "2777 2019-08-08  11801.348742\n",
       "2778 2019-08-09  11819.342193\n",
       "2779 2019-08-10  11578.771029\n",
       "2780 2019-08-11  11378.232876\n",
       "2781 2019-08-12  11540.450291"
      ]
     },
     "execution_count": 64,
     "metadata": {},
     "output_type": "execute_result"
    }
   ],
   "source": [
    "df1.tail()"
   ]
  },
  {
   "cell_type": "code",
   "execution_count": 65,
   "metadata": {},
   "outputs": [
    {
     "data": {
      "text/html": [
       "<div>\n",
       "<style scoped>\n",
       "    .dataframe tbody tr th:only-of-type {\n",
       "        vertical-align: middle;\n",
       "    }\n",
       "\n",
       "    .dataframe tbody tr th {\n",
       "        vertical-align: top;\n",
       "    }\n",
       "\n",
       "    .dataframe thead th {\n",
       "        text-align: right;\n",
       "    }\n",
       "</style>\n",
       "<table border=\"1\" class=\"dataframe\">\n",
       "  <thead>\n",
       "    <tr style=\"text-align: right;\">\n",
       "      <th></th>\n",
       "      <th>ds</th>\n",
       "    </tr>\n",
       "  </thead>\n",
       "  <tbody>\n",
       "    <tr>\n",
       "      <td>2801</td>\n",
       "      <td>2019-09-01</td>\n",
       "    </tr>\n",
       "    <tr>\n",
       "      <td>2802</td>\n",
       "      <td>2019-09-02</td>\n",
       "    </tr>\n",
       "    <tr>\n",
       "      <td>2803</td>\n",
       "      <td>2019-09-03</td>\n",
       "    </tr>\n",
       "    <tr>\n",
       "      <td>2804</td>\n",
       "      <td>2019-09-04</td>\n",
       "    </tr>\n",
       "    <tr>\n",
       "      <td>2805</td>\n",
       "      <td>2019-09-05</td>\n",
       "    </tr>\n",
       "  </tbody>\n",
       "</table>\n",
       "</div>"
      ],
      "text/plain": [
       "             ds\n",
       "2801 2019-09-01\n",
       "2802 2019-09-02\n",
       "2803 2019-09-03\n",
       "2804 2019-09-04\n",
       "2805 2019-09-05"
      ]
     },
     "execution_count": 65,
     "metadata": {},
     "output_type": "execute_result"
    }
   ],
   "source": [
    "future.tail()"
   ]
  },
  {
   "cell_type": "code",
   "execution_count": 66,
   "metadata": {},
   "outputs": [
    {
     "data": {
      "text/plain": [
       "2782"
      ]
     },
     "execution_count": 66,
     "metadata": {},
     "output_type": "execute_result"
    }
   ],
   "source": [
    "len(df1)"
   ]
  },
  {
   "cell_type": "code",
   "execution_count": 67,
   "metadata": {},
   "outputs": [
    {
     "data": {
      "text/plain": [
       "2806"
      ]
     },
     "execution_count": 67,
     "metadata": {},
     "output_type": "execute_result"
    }
   ],
   "source": [
    "len(future)"
   ]
  },
  {
   "cell_type": "code",
   "execution_count": 68,
   "metadata": {},
   "outputs": [],
   "source": [
    "forecast = m.predict(future)"
   ]
  },
  {
   "cell_type": "code",
   "execution_count": 69,
   "metadata": {},
   "outputs": [
    {
     "data": {
      "text/html": [
       "<div>\n",
       "<style scoped>\n",
       "    .dataframe tbody tr th:only-of-type {\n",
       "        vertical-align: middle;\n",
       "    }\n",
       "\n",
       "    .dataframe tbody tr th {\n",
       "        vertical-align: top;\n",
       "    }\n",
       "\n",
       "    .dataframe thead th {\n",
       "        text-align: right;\n",
       "    }\n",
       "</style>\n",
       "<table border=\"1\" class=\"dataframe\">\n",
       "  <thead>\n",
       "    <tr style=\"text-align: right;\">\n",
       "      <th></th>\n",
       "      <th>ds</th>\n",
       "      <th>trend</th>\n",
       "      <th>yhat_lower</th>\n",
       "      <th>yhat_upper</th>\n",
       "      <th>trend_lower</th>\n",
       "      <th>trend_upper</th>\n",
       "      <th>additive_terms</th>\n",
       "      <th>additive_terms_lower</th>\n",
       "      <th>additive_terms_upper</th>\n",
       "      <th>weekly</th>\n",
       "      <th>weekly_lower</th>\n",
       "      <th>weekly_upper</th>\n",
       "      <th>yearly</th>\n",
       "      <th>yearly_lower</th>\n",
       "      <th>yearly_upper</th>\n",
       "      <th>multiplicative_terms</th>\n",
       "      <th>multiplicative_terms_lower</th>\n",
       "      <th>multiplicative_terms_upper</th>\n",
       "      <th>yhat</th>\n",
       "    </tr>\n",
       "  </thead>\n",
       "  <tbody>\n",
       "    <tr>\n",
       "      <td>0</td>\n",
       "      <td>2011-12-31</td>\n",
       "      <td>-101.345767</td>\n",
       "      <td>-1332.503452</td>\n",
       "      <td>2334.354566</td>\n",
       "      <td>-101.345767</td>\n",
       "      <td>-101.345767</td>\n",
       "      <td>631.637413</td>\n",
       "      <td>631.637413</td>\n",
       "      <td>631.637413</td>\n",
       "      <td>10.116670</td>\n",
       "      <td>10.116670</td>\n",
       "      <td>10.116670</td>\n",
       "      <td>621.520743</td>\n",
       "      <td>621.520743</td>\n",
       "      <td>621.520743</td>\n",
       "      <td>0.0</td>\n",
       "      <td>0.0</td>\n",
       "      <td>0.0</td>\n",
       "      <td>530.291646</td>\n",
       "    </tr>\n",
       "    <tr>\n",
       "      <td>1</td>\n",
       "      <td>2012-01-01</td>\n",
       "      <td>-100.714121</td>\n",
       "      <td>-1289.808408</td>\n",
       "      <td>2350.143260</td>\n",
       "      <td>-100.714121</td>\n",
       "      <td>-100.714121</td>\n",
       "      <td>597.613036</td>\n",
       "      <td>597.613036</td>\n",
       "      <td>597.613036</td>\n",
       "      <td>1.170598</td>\n",
       "      <td>1.170598</td>\n",
       "      <td>1.170598</td>\n",
       "      <td>596.442438</td>\n",
       "      <td>596.442438</td>\n",
       "      <td>596.442438</td>\n",
       "      <td>0.0</td>\n",
       "      <td>0.0</td>\n",
       "      <td>0.0</td>\n",
       "      <td>496.898915</td>\n",
       "    </tr>\n",
       "    <tr>\n",
       "      <td>2</td>\n",
       "      <td>2012-01-02</td>\n",
       "      <td>-100.082476</td>\n",
       "      <td>-1430.589239</td>\n",
       "      <td>2335.950618</td>\n",
       "      <td>-100.082476</td>\n",
       "      <td>-100.082476</td>\n",
       "      <td>580.791434</td>\n",
       "      <td>580.791434</td>\n",
       "      <td>580.791434</td>\n",
       "      <td>9.598073</td>\n",
       "      <td>9.598073</td>\n",
       "      <td>9.598073</td>\n",
       "      <td>571.193361</td>\n",
       "      <td>571.193361</td>\n",
       "      <td>571.193361</td>\n",
       "      <td>0.0</td>\n",
       "      <td>0.0</td>\n",
       "      <td>0.0</td>\n",
       "      <td>480.708958</td>\n",
       "    </tr>\n",
       "    <tr>\n",
       "      <td>3</td>\n",
       "      <td>2012-01-03</td>\n",
       "      <td>-99.450830</td>\n",
       "      <td>-1381.541203</td>\n",
       "      <td>2368.574623</td>\n",
       "      <td>-99.450830</td>\n",
       "      <td>-99.450830</td>\n",
       "      <td>543.089930</td>\n",
       "      <td>543.089930</td>\n",
       "      <td>543.089930</td>\n",
       "      <td>-2.889482</td>\n",
       "      <td>-2.889482</td>\n",
       "      <td>-2.889482</td>\n",
       "      <td>545.979412</td>\n",
       "      <td>545.979412</td>\n",
       "      <td>545.979412</td>\n",
       "      <td>0.0</td>\n",
       "      <td>0.0</td>\n",
       "      <td>0.0</td>\n",
       "      <td>443.639100</td>\n",
       "    </tr>\n",
       "    <tr>\n",
       "      <td>4</td>\n",
       "      <td>2012-01-04</td>\n",
       "      <td>-98.819185</td>\n",
       "      <td>-1350.794952</td>\n",
       "      <td>2157.068883</td>\n",
       "      <td>-98.819185</td>\n",
       "      <td>-98.819185</td>\n",
       "      <td>520.237828</td>\n",
       "      <td>520.237828</td>\n",
       "      <td>520.237828</td>\n",
       "      <td>-0.722897</td>\n",
       "      <td>-0.722897</td>\n",
       "      <td>-0.722897</td>\n",
       "      <td>520.960725</td>\n",
       "      <td>520.960725</td>\n",
       "      <td>520.960725</td>\n",
       "      <td>0.0</td>\n",
       "      <td>0.0</td>\n",
       "      <td>0.0</td>\n",
       "      <td>421.418643</td>\n",
       "    </tr>\n",
       "  </tbody>\n",
       "</table>\n",
       "</div>"
      ],
      "text/plain": [
       "          ds       trend   yhat_lower   yhat_upper  trend_lower  trend_upper  \\\n",
       "0 2011-12-31 -101.345767 -1332.503452  2334.354566  -101.345767  -101.345767   \n",
       "1 2012-01-01 -100.714121 -1289.808408  2350.143260  -100.714121  -100.714121   \n",
       "2 2012-01-02 -100.082476 -1430.589239  2335.950618  -100.082476  -100.082476   \n",
       "3 2012-01-03  -99.450830 -1381.541203  2368.574623   -99.450830   -99.450830   \n",
       "4 2012-01-04  -98.819185 -1350.794952  2157.068883   -98.819185   -98.819185   \n",
       "\n",
       "   additive_terms  additive_terms_lower  additive_terms_upper     weekly  \\\n",
       "0      631.637413            631.637413            631.637413  10.116670   \n",
       "1      597.613036            597.613036            597.613036   1.170598   \n",
       "2      580.791434            580.791434            580.791434   9.598073   \n",
       "3      543.089930            543.089930            543.089930  -2.889482   \n",
       "4      520.237828            520.237828            520.237828  -0.722897   \n",
       "\n",
       "   weekly_lower  weekly_upper      yearly  yearly_lower  yearly_upper  \\\n",
       "0     10.116670     10.116670  621.520743    621.520743    621.520743   \n",
       "1      1.170598      1.170598  596.442438    596.442438    596.442438   \n",
       "2      9.598073      9.598073  571.193361    571.193361    571.193361   \n",
       "3     -2.889482     -2.889482  545.979412    545.979412    545.979412   \n",
       "4     -0.722897     -0.722897  520.960725    520.960725    520.960725   \n",
       "\n",
       "   multiplicative_terms  multiplicative_terms_lower  \\\n",
       "0                   0.0                         0.0   \n",
       "1                   0.0                         0.0   \n",
       "2                   0.0                         0.0   \n",
       "3                   0.0                         0.0   \n",
       "4                   0.0                         0.0   \n",
       "\n",
       "   multiplicative_terms_upper        yhat  \n",
       "0                         0.0  530.291646  \n",
       "1                         0.0  496.898915  \n",
       "2                         0.0  480.708958  \n",
       "3                         0.0  443.639100  \n",
       "4                         0.0  421.418643  "
      ]
     },
     "execution_count": 69,
     "metadata": {},
     "output_type": "execute_result"
    }
   ],
   "source": [
    "forecast.head()"
   ]
  },
  {
   "cell_type": "code",
   "execution_count": 70,
   "metadata": {},
   "outputs": [
    {
     "data": {
      "text/html": [
       "<div>\n",
       "<style scoped>\n",
       "    .dataframe tbody tr th:only-of-type {\n",
       "        vertical-align: middle;\n",
       "    }\n",
       "\n",
       "    .dataframe tbody tr th {\n",
       "        vertical-align: top;\n",
       "    }\n",
       "\n",
       "    .dataframe thead th {\n",
       "        text-align: right;\n",
       "    }\n",
       "</style>\n",
       "<table border=\"1\" class=\"dataframe\">\n",
       "  <thead>\n",
       "    <tr style=\"text-align: right;\">\n",
       "      <th></th>\n",
       "      <th>ds</th>\n",
       "      <th>trend</th>\n",
       "      <th>yhat_lower</th>\n",
       "      <th>yhat_upper</th>\n",
       "      <th>trend_lower</th>\n",
       "      <th>trend_upper</th>\n",
       "      <th>additive_terms</th>\n",
       "      <th>additive_terms_lower</th>\n",
       "      <th>additive_terms_upper</th>\n",
       "      <th>weekly</th>\n",
       "      <th>weekly_lower</th>\n",
       "      <th>weekly_upper</th>\n",
       "      <th>yearly</th>\n",
       "      <th>yearly_lower</th>\n",
       "      <th>yearly_upper</th>\n",
       "      <th>multiplicative_terms</th>\n",
       "      <th>multiplicative_terms_lower</th>\n",
       "      <th>multiplicative_terms_upper</th>\n",
       "      <th>yhat</th>\n",
       "    </tr>\n",
       "  </thead>\n",
       "  <tbody>\n",
       "    <tr>\n",
       "      <td>2801</td>\n",
       "      <td>2019-09-01</td>\n",
       "      <td>5492.735472</td>\n",
       "      <td>3285.423729</td>\n",
       "      <td>7007.160984</td>\n",
       "      <td>5492.735472</td>\n",
       "      <td>5492.735472</td>\n",
       "      <td>-318.569555</td>\n",
       "      <td>-318.569555</td>\n",
       "      <td>-318.569555</td>\n",
       "      <td>1.170598</td>\n",
       "      <td>1.170598</td>\n",
       "      <td>1.170598</td>\n",
       "      <td>-319.740153</td>\n",
       "      <td>-319.740153</td>\n",
       "      <td>-319.740153</td>\n",
       "      <td>0.0</td>\n",
       "      <td>0.0</td>\n",
       "      <td>0.0</td>\n",
       "      <td>5174.165917</td>\n",
       "    </tr>\n",
       "    <tr>\n",
       "      <td>2802</td>\n",
       "      <td>2019-09-02</td>\n",
       "      <td>5487.140715</td>\n",
       "      <td>3418.667777</td>\n",
       "      <td>6956.704600</td>\n",
       "      <td>5487.140715</td>\n",
       "      <td>5487.140715</td>\n",
       "      <td>-315.411098</td>\n",
       "      <td>-315.411098</td>\n",
       "      <td>-315.411098</td>\n",
       "      <td>9.598073</td>\n",
       "      <td>9.598073</td>\n",
       "      <td>9.598073</td>\n",
       "      <td>-325.009171</td>\n",
       "      <td>-325.009171</td>\n",
       "      <td>-325.009171</td>\n",
       "      <td>0.0</td>\n",
       "      <td>0.0</td>\n",
       "      <td>0.0</td>\n",
       "      <td>5171.729617</td>\n",
       "    </tr>\n",
       "    <tr>\n",
       "      <td>2803</td>\n",
       "      <td>2019-09-03</td>\n",
       "      <td>5481.545959</td>\n",
       "      <td>3342.087511</td>\n",
       "      <td>7037.442812</td>\n",
       "      <td>5481.545959</td>\n",
       "      <td>5481.545959</td>\n",
       "      <td>-332.045081</td>\n",
       "      <td>-332.045081</td>\n",
       "      <td>-332.045081</td>\n",
       "      <td>-2.889482</td>\n",
       "      <td>-2.889482</td>\n",
       "      <td>-2.889482</td>\n",
       "      <td>-329.155599</td>\n",
       "      <td>-329.155599</td>\n",
       "      <td>-329.155599</td>\n",
       "      <td>0.0</td>\n",
       "      <td>0.0</td>\n",
       "      <td>0.0</td>\n",
       "      <td>5149.500878</td>\n",
       "    </tr>\n",
       "    <tr>\n",
       "      <td>2804</td>\n",
       "      <td>2019-09-04</td>\n",
       "      <td>5475.951202</td>\n",
       "      <td>3367.768113</td>\n",
       "      <td>6936.458686</td>\n",
       "      <td>5475.951202</td>\n",
       "      <td>5476.076478</td>\n",
       "      <td>-333.088547</td>\n",
       "      <td>-333.088547</td>\n",
       "      <td>-333.088547</td>\n",
       "      <td>-0.722897</td>\n",
       "      <td>-0.722897</td>\n",
       "      <td>-0.722897</td>\n",
       "      <td>-332.365651</td>\n",
       "      <td>-332.365651</td>\n",
       "      <td>-332.365651</td>\n",
       "      <td>0.0</td>\n",
       "      <td>0.0</td>\n",
       "      <td>0.0</td>\n",
       "      <td>5142.862655</td>\n",
       "    </tr>\n",
       "    <tr>\n",
       "      <td>2805</td>\n",
       "      <td>2019-09-05</td>\n",
       "      <td>5470.356446</td>\n",
       "      <td>3412.246707</td>\n",
       "      <td>6897.246773</td>\n",
       "      <td>5470.356446</td>\n",
       "      <td>5470.996184</td>\n",
       "      <td>-340.976584</td>\n",
       "      <td>-340.976584</td>\n",
       "      <td>-340.976584</td>\n",
       "      <td>-6.146692</td>\n",
       "      <td>-6.146692</td>\n",
       "      <td>-6.146692</td>\n",
       "      <td>-334.829892</td>\n",
       "      <td>-334.829892</td>\n",
       "      <td>-334.829892</td>\n",
       "      <td>0.0</td>\n",
       "      <td>0.0</td>\n",
       "      <td>0.0</td>\n",
       "      <td>5129.379862</td>\n",
       "    </tr>\n",
       "  </tbody>\n",
       "</table>\n",
       "</div>"
      ],
      "text/plain": [
       "             ds        trend   yhat_lower   yhat_upper  trend_lower  \\\n",
       "2801 2019-09-01  5492.735472  3285.423729  7007.160984  5492.735472   \n",
       "2802 2019-09-02  5487.140715  3418.667777  6956.704600  5487.140715   \n",
       "2803 2019-09-03  5481.545959  3342.087511  7037.442812  5481.545959   \n",
       "2804 2019-09-04  5475.951202  3367.768113  6936.458686  5475.951202   \n",
       "2805 2019-09-05  5470.356446  3412.246707  6897.246773  5470.356446   \n",
       "\n",
       "      trend_upper  additive_terms  additive_terms_lower  additive_terms_upper  \\\n",
       "2801  5492.735472     -318.569555           -318.569555           -318.569555   \n",
       "2802  5487.140715     -315.411098           -315.411098           -315.411098   \n",
       "2803  5481.545959     -332.045081           -332.045081           -332.045081   \n",
       "2804  5476.076478     -333.088547           -333.088547           -333.088547   \n",
       "2805  5470.996184     -340.976584           -340.976584           -340.976584   \n",
       "\n",
       "        weekly  weekly_lower  weekly_upper      yearly  yearly_lower  \\\n",
       "2801  1.170598      1.170598      1.170598 -319.740153   -319.740153   \n",
       "2802  9.598073      9.598073      9.598073 -325.009171   -325.009171   \n",
       "2803 -2.889482     -2.889482     -2.889482 -329.155599   -329.155599   \n",
       "2804 -0.722897     -0.722897     -0.722897 -332.365651   -332.365651   \n",
       "2805 -6.146692     -6.146692     -6.146692 -334.829892   -334.829892   \n",
       "\n",
       "      yearly_upper  multiplicative_terms  multiplicative_terms_lower  \\\n",
       "2801   -319.740153                   0.0                         0.0   \n",
       "2802   -325.009171                   0.0                         0.0   \n",
       "2803   -329.155599                   0.0                         0.0   \n",
       "2804   -332.365651                   0.0                         0.0   \n",
       "2805   -334.829892                   0.0                         0.0   \n",
       "\n",
       "      multiplicative_terms_upper         yhat  \n",
       "2801                         0.0  5174.165917  \n",
       "2802                         0.0  5171.729617  \n",
       "2803                         0.0  5149.500878  \n",
       "2804                         0.0  5142.862655  \n",
       "2805                         0.0  5129.379862  "
      ]
     },
     "execution_count": 70,
     "metadata": {},
     "output_type": "execute_result"
    }
   ],
   "source": [
    "forecast.tail()"
   ]
  },
  {
   "cell_type": "code",
   "execution_count": 71,
   "metadata": {},
   "outputs": [
    {
     "data": {
      "text/plain": [
       "Index(['ds', 'trend', 'yhat_lower', 'yhat_upper', 'trend_lower', 'trend_upper',\n",
       "       'additive_terms', 'additive_terms_lower', 'additive_terms_upper',\n",
       "       'weekly', 'weekly_lower', 'weekly_upper', 'yearly', 'yearly_lower',\n",
       "       'yearly_upper', 'multiplicative_terms', 'multiplicative_terms_lower',\n",
       "       'multiplicative_terms_upper', 'yhat'],\n",
       "      dtype='object')"
      ]
     },
     "execution_count": 71,
     "metadata": {},
     "output_type": "execute_result"
    }
   ],
   "source": [
    "forecast.columns"
   ]
  },
  {
   "cell_type": "code",
   "execution_count": 72,
   "metadata": {},
   "outputs": [
    {
     "data": {
      "text/html": [
       "<div>\n",
       "<style scoped>\n",
       "    .dataframe tbody tr th:only-of-type {\n",
       "        vertical-align: middle;\n",
       "    }\n",
       "\n",
       "    .dataframe tbody tr th {\n",
       "        vertical-align: top;\n",
       "    }\n",
       "\n",
       "    .dataframe thead th {\n",
       "        text-align: right;\n",
       "    }\n",
       "</style>\n",
       "<table border=\"1\" class=\"dataframe\">\n",
       "  <thead>\n",
       "    <tr style=\"text-align: right;\">\n",
       "      <th></th>\n",
       "      <th>ds</th>\n",
       "      <th>yhat</th>\n",
       "      <th>yhat_lower</th>\n",
       "      <th>yhat_upper</th>\n",
       "    </tr>\n",
       "  </thead>\n",
       "  <tbody>\n",
       "    <tr>\n",
       "      <td>2794</td>\n",
       "      <td>2019-08-25</td>\n",
       "      <td>5294.504173</td>\n",
       "      <td>3464.115095</td>\n",
       "      <td>6987.474313</td>\n",
       "    </tr>\n",
       "    <tr>\n",
       "      <td>2795</td>\n",
       "      <td>2019-08-26</td>\n",
       "      <td>5280.204613</td>\n",
       "      <td>3298.649925</td>\n",
       "      <td>7052.220246</td>\n",
       "    </tr>\n",
       "    <tr>\n",
       "      <td>2796</td>\n",
       "      <td>2019-08-27</td>\n",
       "      <td>5246.961133</td>\n",
       "      <td>3409.002680</td>\n",
       "      <td>7022.881340</td>\n",
       "    </tr>\n",
       "    <tr>\n",
       "      <td>2797</td>\n",
       "      <td>2019-08-28</td>\n",
       "      <td>5230.295462</td>\n",
       "      <td>3459.142550</td>\n",
       "      <td>7117.157002</td>\n",
       "    </tr>\n",
       "    <tr>\n",
       "      <td>2798</td>\n",
       "      <td>2019-08-29</td>\n",
       "      <td>5207.885877</td>\n",
       "      <td>3216.810947</td>\n",
       "      <td>7031.670309</td>\n",
       "    </tr>\n",
       "    <tr>\n",
       "      <td>2799</td>\n",
       "      <td>2019-08-30</td>\n",
       "      <td>5187.662707</td>\n",
       "      <td>3430.678953</td>\n",
       "      <td>6963.327163</td>\n",
       "    </tr>\n",
       "    <tr>\n",
       "      <td>2800</td>\n",
       "      <td>2019-08-31</td>\n",
       "      <td>5195.276085</td>\n",
       "      <td>3370.294524</td>\n",
       "      <td>6883.226807</td>\n",
       "    </tr>\n",
       "    <tr>\n",
       "      <td>2801</td>\n",
       "      <td>2019-09-01</td>\n",
       "      <td>5174.165917</td>\n",
       "      <td>3285.423729</td>\n",
       "      <td>7007.160984</td>\n",
       "    </tr>\n",
       "    <tr>\n",
       "      <td>2802</td>\n",
       "      <td>2019-09-02</td>\n",
       "      <td>5171.729617</td>\n",
       "      <td>3418.667777</td>\n",
       "      <td>6956.704600</td>\n",
       "    </tr>\n",
       "    <tr>\n",
       "      <td>2803</td>\n",
       "      <td>2019-09-03</td>\n",
       "      <td>5149.500878</td>\n",
       "      <td>3342.087511</td>\n",
       "      <td>7037.442812</td>\n",
       "    </tr>\n",
       "    <tr>\n",
       "      <td>2804</td>\n",
       "      <td>2019-09-04</td>\n",
       "      <td>5142.862655</td>\n",
       "      <td>3367.768113</td>\n",
       "      <td>6936.458686</td>\n",
       "    </tr>\n",
       "    <tr>\n",
       "      <td>2805</td>\n",
       "      <td>2019-09-05</td>\n",
       "      <td>5129.379862</td>\n",
       "      <td>3412.246707</td>\n",
       "      <td>6897.246773</td>\n",
       "    </tr>\n",
       "  </tbody>\n",
       "</table>\n",
       "</div>"
      ],
      "text/plain": [
       "             ds         yhat   yhat_lower   yhat_upper\n",
       "2794 2019-08-25  5294.504173  3464.115095  6987.474313\n",
       "2795 2019-08-26  5280.204613  3298.649925  7052.220246\n",
       "2796 2019-08-27  5246.961133  3409.002680  7022.881340\n",
       "2797 2019-08-28  5230.295462  3459.142550  7117.157002\n",
       "2798 2019-08-29  5207.885877  3216.810947  7031.670309\n",
       "2799 2019-08-30  5187.662707  3430.678953  6963.327163\n",
       "2800 2019-08-31  5195.276085  3370.294524  6883.226807\n",
       "2801 2019-09-01  5174.165917  3285.423729  7007.160984\n",
       "2802 2019-09-02  5171.729617  3418.667777  6956.704600\n",
       "2803 2019-09-03  5149.500878  3342.087511  7037.442812\n",
       "2804 2019-09-04  5142.862655  3367.768113  6936.458686\n",
       "2805 2019-09-05  5129.379862  3412.246707  6897.246773"
      ]
     },
     "execution_count": 72,
     "metadata": {},
     "output_type": "execute_result"
    }
   ],
   "source": [
    "forecast[['ds', 'yhat', 'yhat_lower', 'yhat_upper']].tail(12)"
   ]
  },
  {
   "cell_type": "code",
   "execution_count": 73,
   "metadata": {},
   "outputs": [
    {
     "data": {
      "image/png": "[encoded data removed]",
      "text/plain": [
       "<Figure size 720x432 with 1 Axes>"
      ]
     },
     "metadata": {},
     "output_type": "display_data"
    }
   ],
   "source": [
    "m.plot(forecast);"
   ]
  },
  {
   "cell_type": "code",
   "execution_count": 74,
   "metadata": {},
   "outputs": [
    {
     "data": {
      "image/png": "[encoded data removed]",
      "text/plain": [
       "<Figure size 648x648 with 3 Axes>"
      ]
     },
     "metadata": {},
     "output_type": "display_data"
    }
   ],
   "source": [
    "m.plot_components(forecast);"
   ]
  },
  {
   "cell_type": "markdown",
   "metadata": {},
   "source": [
    "# Resampling Monthly "
   ]
  },
  {
   "cell_type": "code",
   "execution_count": 20,
   "metadata": {},
   "outputs": [],
   "source": [
    "df2 = dfwp.resample(rule='MS').mean()"
   ]
  },
  {
   "cell_type": "code",
   "execution_count": 21,
   "metadata": {},
   "outputs": [
    {
     "data": {
      "text/plain": [
       "Timestamp\n",
       "2011-12-01    4.471603\n",
       "2012-01-01    6.345955\n",
       "2012-02-01    5.228443\n",
       "2012-03-01    4.984397\n",
       "2012-04-01    4.995091\n",
       "Freq: MS, Name: Weighted_Price, dtype: float64"
      ]
     },
     "execution_count": 21,
     "metadata": {},
     "output_type": "execute_result"
    }
   ],
   "source": [
    "df2.head()"
   ]
  },
  {
   "cell_type": "code",
   "execution_count": 28,
   "metadata": {},
   "outputs": [],
   "source": [
    "df2 = df2.reset_index()"
   ]
  },
  {
   "cell_type": "code",
   "execution_count": 29,
   "metadata": {},
   "outputs": [
    {
     "data": {
      "text/html": [
       "<div>\n",
       "<style scoped>\n",
       "    .dataframe tbody tr th:only-of-type {\n",
       "        vertical-align: middle;\n",
       "    }\n",
       "\n",
       "    .dataframe tbody tr th {\n",
       "        vertical-align: top;\n",
       "    }\n",
       "\n",
       "    .dataframe thead th {\n",
       "        text-align: right;\n",
       "    }\n",
       "</style>\n",
       "<table border=\"1\" class=\"dataframe\">\n",
       "  <thead>\n",
       "    <tr style=\"text-align: right;\">\n",
       "      <th></th>\n",
       "      <th>Timestamp</th>\n",
       "      <th>Weighted_Price</th>\n",
       "    </tr>\n",
       "  </thead>\n",
       "  <tbody>\n",
       "    <tr>\n",
       "      <td>0</td>\n",
       "      <td>2011-12-01</td>\n",
       "      <td>4.471603</td>\n",
       "    </tr>\n",
       "    <tr>\n",
       "      <td>1</td>\n",
       "      <td>2012-01-01</td>\n",
       "      <td>6.345955</td>\n",
       "    </tr>\n",
       "    <tr>\n",
       "      <td>2</td>\n",
       "      <td>2012-02-01</td>\n",
       "      <td>5.228443</td>\n",
       "    </tr>\n",
       "    <tr>\n",
       "      <td>3</td>\n",
       "      <td>2012-03-01</td>\n",
       "      <td>4.984397</td>\n",
       "    </tr>\n",
       "    <tr>\n",
       "      <td>4</td>\n",
       "      <td>2012-04-01</td>\n",
       "      <td>4.995091</td>\n",
       "    </tr>\n",
       "    <tr>\n",
       "      <td>...</td>\n",
       "      <td>...</td>\n",
       "      <td>...</td>\n",
       "    </tr>\n",
       "    <tr>\n",
       "      <td>88</td>\n",
       "      <td>2019-04-01</td>\n",
       "      <td>5139.112145</td>\n",
       "    </tr>\n",
       "    <tr>\n",
       "      <td>89</td>\n",
       "      <td>2019-05-01</td>\n",
       "      <td>7234.325315</td>\n",
       "    </tr>\n",
       "    <tr>\n",
       "      <td>90</td>\n",
       "      <td>2019-06-01</td>\n",
       "      <td>9361.787472</td>\n",
       "    </tr>\n",
       "    <tr>\n",
       "      <td>91</td>\n",
       "      <td>2019-07-01</td>\n",
       "      <td>10671.368501</td>\n",
       "    </tr>\n",
       "    <tr>\n",
       "      <td>92</td>\n",
       "      <td>2019-08-01</td>\n",
       "      <td>11263.834561</td>\n",
       "    </tr>\n",
       "  </tbody>\n",
       "</table>\n",
       "<p>93 rows × 2 columns</p>\n",
       "</div>"
      ],
      "text/plain": [
       "    Timestamp  Weighted_Price\n",
       "0  2011-12-01        4.471603\n",
       "1  2012-01-01        6.345955\n",
       "2  2012-02-01        5.228443\n",
       "3  2012-03-01        4.984397\n",
       "4  2012-04-01        4.995091\n",
       "..        ...             ...\n",
       "88 2019-04-01     5139.112145\n",
       "89 2019-05-01     7234.325315\n",
       "90 2019-06-01     9361.787472\n",
       "91 2019-07-01    10671.368501\n",
       "92 2019-08-01    11263.834561\n",
       "\n",
       "[93 rows x 2 columns]"
      ]
     },
     "execution_count": 29,
     "metadata": {},
     "output_type": "execute_result"
    }
   ],
   "source": [
    "df2"
   ]
  },
  {
   "cell_type": "code",
   "execution_count": 30,
   "metadata": {},
   "outputs": [],
   "source": [
    "df2.columns = ['ds','y']"
   ]
  },
  {
   "cell_type": "code",
   "execution_count": 31,
   "metadata": {},
   "outputs": [
    {
     "data": {
      "text/html": [
       "<div>\n",
       "<style scoped>\n",
       "    .dataframe tbody tr th:only-of-type {\n",
       "        vertical-align: middle;\n",
       "    }\n",
       "\n",
       "    .dataframe tbody tr th {\n",
       "        vertical-align: top;\n",
       "    }\n",
       "\n",
       "    .dataframe thead th {\n",
       "        text-align: right;\n",
       "    }\n",
       "</style>\n",
       "<table border=\"1\" class=\"dataframe\">\n",
       "  <thead>\n",
       "    <tr style=\"text-align: right;\">\n",
       "      <th></th>\n",
       "      <th>ds</th>\n",
       "      <th>y</th>\n",
       "    </tr>\n",
       "  </thead>\n",
       "  <tbody>\n",
       "    <tr>\n",
       "      <td>0</td>\n",
       "      <td>2011-12-01</td>\n",
       "      <td>4.471603</td>\n",
       "    </tr>\n",
       "    <tr>\n",
       "      <td>1</td>\n",
       "      <td>2012-01-01</td>\n",
       "      <td>6.345955</td>\n",
       "    </tr>\n",
       "    <tr>\n",
       "      <td>2</td>\n",
       "      <td>2012-02-01</td>\n",
       "      <td>5.228443</td>\n",
       "    </tr>\n",
       "    <tr>\n",
       "      <td>3</td>\n",
       "      <td>2012-03-01</td>\n",
       "      <td>4.984397</td>\n",
       "    </tr>\n",
       "    <tr>\n",
       "      <td>4</td>\n",
       "      <td>2012-04-01</td>\n",
       "      <td>4.995091</td>\n",
       "    </tr>\n",
       "  </tbody>\n",
       "</table>\n",
       "</div>"
      ],
      "text/plain": [
       "          ds         y\n",
       "0 2011-12-01  4.471603\n",
       "1 2012-01-01  6.345955\n",
       "2 2012-02-01  5.228443\n",
       "3 2012-03-01  4.984397\n",
       "4 2012-04-01  4.995091"
      ]
     },
     "execution_count": 31,
     "metadata": {},
     "output_type": "execute_result"
    }
   ],
   "source": [
    "df2.head()"
   ]
  },
  {
   "cell_type": "code",
   "execution_count": 33,
   "metadata": {},
   "outputs": [],
   "source": [
    "pd.plotting.register_matplotlib_converters()"
   ]
  },
  {
   "cell_type": "code",
   "execution_count": 34,
   "metadata": {},
   "outputs": [
    {
     "data": {
      "text/plain": [
       "<matplotlib.axes._subplots.AxesSubplot at 0x10dbcede470>"
      ]
     },
     "execution_count": 34,
     "metadata": {},
     "output_type": "execute_result"
    },
    {
     "data": {
      "image/png": "[encoded data removed]",
      "text/plain": [
       "<Figure size 1296x432 with 1 Axes>"
      ]
     },
     "metadata": {},
     "output_type": "display_data"
    }
   ],
   "source": [
    "df2.plot(x='ds',y='y',figsize=(18,6))"
   ]
  },
  {
   "cell_type": "code",
   "execution_count": 36,
   "metadata": {},
   "outputs": [
    {
     "data": {
      "text/plain": [
       "81"
      ]
     },
     "execution_count": 36,
     "metadata": {},
     "output_type": "execute_result"
    }
   ],
   "source": [
    "len(df2) -12"
   ]
  },
  {
   "cell_type": "code",
   "execution_count": 39,
   "metadata": {},
   "outputs": [],
   "source": [
    "train = df2.iloc[:81]\n",
    "test = df2.iloc[81:]"
   ]
  },
  {
   "cell_type": "code",
   "execution_count": 40,
   "metadata": {},
   "outputs": [
    {
     "name": "stderr",
     "output_type": "stream",
     "text": [
      "INFO:fbprophet:Disabling weekly seasonality. Run prophet with weekly_seasonality=True to override this.\n",
      "INFO:fbprophet:Disabling daily seasonality. Run prophet with daily_seasonality=True to override this.\n",
      "D:\\Ana3\\envs\\tf_gpu4\\lib\\site-packages\\pystan\\misc.py:399: FutureWarning:\n",
      "\n",
      "Conversion of the second argument of issubdtype from `float` to `np.floating` is deprecated. In future, it will be treated as `np.float64 == np.dtype(float).type`.\n",
      "\n"
     ]
    }
   ],
   "source": [
    "m = Prophet()\n",
    "m.fit(train)\n",
    "future = m.make_future_dataframe(periods=12,freq='MS')\n",
    "forecast = m.predict(future)"
   ]
  },
  {
   "cell_type": "code",
   "execution_count": 43,
   "metadata": {},
   "outputs": [
    {
     "data": {
      "text/html": [
       "<div>\n",
       "<style scoped>\n",
       "    .dataframe tbody tr th:only-of-type {\n",
       "        vertical-align: middle;\n",
       "    }\n",
       "\n",
       "    .dataframe tbody tr th {\n",
       "        vertical-align: top;\n",
       "    }\n",
       "\n",
       "    .dataframe thead th {\n",
       "        text-align: right;\n",
       "    }\n",
       "</style>\n",
       "<table border=\"1\" class=\"dataframe\">\n",
       "  <thead>\n",
       "    <tr style=\"text-align: right;\">\n",
       "      <th></th>\n",
       "      <th>ds</th>\n",
       "      <th>trend</th>\n",
       "      <th>yhat_lower</th>\n",
       "      <th>yhat_upper</th>\n",
       "      <th>trend_lower</th>\n",
       "      <th>trend_upper</th>\n",
       "      <th>additive_terms</th>\n",
       "      <th>additive_terms_lower</th>\n",
       "      <th>additive_terms_upper</th>\n",
       "      <th>yearly</th>\n",
       "      <th>yearly_lower</th>\n",
       "      <th>yearly_upper</th>\n",
       "      <th>multiplicative_terms</th>\n",
       "      <th>multiplicative_terms_lower</th>\n",
       "      <th>multiplicative_terms_upper</th>\n",
       "      <th>yhat</th>\n",
       "    </tr>\n",
       "  </thead>\n",
       "  <tbody>\n",
       "    <tr>\n",
       "      <td>81</td>\n",
       "      <td>2018-09-01</td>\n",
       "      <td>8086.115360</td>\n",
       "      <td>5798.684396</td>\n",
       "      <td>9791.040309</td>\n",
       "      <td>8084.713040</td>\n",
       "      <td>8086.799144</td>\n",
       "      <td>-316.009460</td>\n",
       "      <td>-316.009460</td>\n",
       "      <td>-316.009460</td>\n",
       "      <td>-316.009460</td>\n",
       "      <td>-316.009460</td>\n",
       "      <td>-316.009460</td>\n",
       "      <td>0.0</td>\n",
       "      <td>0.0</td>\n",
       "      <td>0.0</td>\n",
       "      <td>7770.105900</td>\n",
       "    </tr>\n",
       "    <tr>\n",
       "      <td>82</td>\n",
       "      <td>2018-10-01</td>\n",
       "      <td>8338.893687</td>\n",
       "      <td>6273.678343</td>\n",
       "      <td>10084.763675</td>\n",
       "      <td>8329.649417</td>\n",
       "      <td>8346.045283</td>\n",
       "      <td>-192.693735</td>\n",
       "      <td>-192.693735</td>\n",
       "      <td>-192.693735</td>\n",
       "      <td>-192.693735</td>\n",
       "      <td>-192.693735</td>\n",
       "      <td>-192.693735</td>\n",
       "      <td>0.0</td>\n",
       "      <td>0.0</td>\n",
       "      <td>0.0</td>\n",
       "      <td>8146.199952</td>\n",
       "    </tr>\n",
       "    <tr>\n",
       "      <td>83</td>\n",
       "      <td>2018-11-01</td>\n",
       "      <td>8600.097957</td>\n",
       "      <td>6904.506060</td>\n",
       "      <td>10839.121661</td>\n",
       "      <td>8578.556886</td>\n",
       "      <td>8616.542965</td>\n",
       "      <td>191.526506</td>\n",
       "      <td>191.526506</td>\n",
       "      <td>191.526506</td>\n",
       "      <td>191.526506</td>\n",
       "      <td>191.526506</td>\n",
       "      <td>191.526506</td>\n",
       "      <td>0.0</td>\n",
       "      <td>0.0</td>\n",
       "      <td>0.0</td>\n",
       "      <td>8791.624463</td>\n",
       "    </tr>\n",
       "    <tr>\n",
       "      <td>84</td>\n",
       "      <td>2018-12-01</td>\n",
       "      <td>8852.876283</td>\n",
       "      <td>8030.515600</td>\n",
       "      <td>11833.643070</td>\n",
       "      <td>8817.561793</td>\n",
       "      <td>8879.203158</td>\n",
       "      <td>1059.595573</td>\n",
       "      <td>1059.595573</td>\n",
       "      <td>1059.595573</td>\n",
       "      <td>1059.595573</td>\n",
       "      <td>1059.595573</td>\n",
       "      <td>1059.595573</td>\n",
       "      <td>0.0</td>\n",
       "      <td>0.0</td>\n",
       "      <td>0.0</td>\n",
       "      <td>9912.471857</td>\n",
       "    </tr>\n",
       "    <tr>\n",
       "      <td>85</td>\n",
       "      <td>2019-01-01</td>\n",
       "      <td>9114.080554</td>\n",
       "      <td>7873.653172</td>\n",
       "      <td>11753.601233</td>\n",
       "      <td>9063.645487</td>\n",
       "      <td>9152.504764</td>\n",
       "      <td>725.039989</td>\n",
       "      <td>725.039989</td>\n",
       "      <td>725.039989</td>\n",
       "      <td>725.039989</td>\n",
       "      <td>725.039989</td>\n",
       "      <td>725.039989</td>\n",
       "      <td>0.0</td>\n",
       "      <td>0.0</td>\n",
       "      <td>0.0</td>\n",
       "      <td>9839.120543</td>\n",
       "    </tr>\n",
       "    <tr>\n",
       "      <td>86</td>\n",
       "      <td>2019-02-01</td>\n",
       "      <td>9375.284824</td>\n",
       "      <td>7600.969455</td>\n",
       "      <td>11503.023022</td>\n",
       "      <td>9302.407550</td>\n",
       "      <td>9430.317435</td>\n",
       "      <td>204.010123</td>\n",
       "      <td>204.010123</td>\n",
       "      <td>204.010123</td>\n",
       "      <td>204.010123</td>\n",
       "      <td>204.010123</td>\n",
       "      <td>204.010123</td>\n",
       "      <td>0.0</td>\n",
       "      <td>0.0</td>\n",
       "      <td>0.0</td>\n",
       "      <td>9579.294947</td>\n",
       "    </tr>\n",
       "    <tr>\n",
       "      <td>87</td>\n",
       "      <td>2019-03-01</td>\n",
       "      <td>9611.211262</td>\n",
       "      <td>7791.719504</td>\n",
       "      <td>11840.213638</td>\n",
       "      <td>9519.280264</td>\n",
       "      <td>9680.934210</td>\n",
       "      <td>304.859694</td>\n",
       "      <td>304.859694</td>\n",
       "      <td>304.859694</td>\n",
       "      <td>304.859694</td>\n",
       "      <td>304.859694</td>\n",
       "      <td>304.859694</td>\n",
       "      <td>0.0</td>\n",
       "      <td>0.0</td>\n",
       "      <td>0.0</td>\n",
       "      <td>9916.070956</td>\n",
       "    </tr>\n",
       "    <tr>\n",
       "      <td>88</td>\n",
       "      <td>2019-04-01</td>\n",
       "      <td>9872.415532</td>\n",
       "      <td>7839.827496</td>\n",
       "      <td>11689.264529</td>\n",
       "      <td>9760.378802</td>\n",
       "      <td>9957.231177</td>\n",
       "      <td>-163.069784</td>\n",
       "      <td>-163.069784</td>\n",
       "      <td>-163.069784</td>\n",
       "      <td>-163.069784</td>\n",
       "      <td>-163.069784</td>\n",
       "      <td>-163.069784</td>\n",
       "      <td>0.0</td>\n",
       "      <td>0.0</td>\n",
       "      <td>0.0</td>\n",
       "      <td>9709.345748</td>\n",
       "    </tr>\n",
       "    <tr>\n",
       "      <td>89</td>\n",
       "      <td>2019-05-01</td>\n",
       "      <td>10125.193858</td>\n",
       "      <td>8227.196545</td>\n",
       "      <td>12145.667208</td>\n",
       "      <td>9993.481989</td>\n",
       "      <td>10229.613043</td>\n",
       "      <td>-53.471034</td>\n",
       "      <td>-53.471034</td>\n",
       "      <td>-53.471034</td>\n",
       "      <td>-53.471034</td>\n",
       "      <td>-53.471034</td>\n",
       "      <td>-53.471034</td>\n",
       "      <td>0.0</td>\n",
       "      <td>0.0</td>\n",
       "      <td>0.0</td>\n",
       "      <td>10071.722824</td>\n",
       "    </tr>\n",
       "    <tr>\n",
       "      <td>90</td>\n",
       "      <td>2019-06-01</td>\n",
       "      <td>10386.398129</td>\n",
       "      <td>7923.299576</td>\n",
       "      <td>11799.458669</td>\n",
       "      <td>10227.739019</td>\n",
       "      <td>10512.054536</td>\n",
       "      <td>-529.856334</td>\n",
       "      <td>-529.856334</td>\n",
       "      <td>-529.856334</td>\n",
       "      <td>-529.856334</td>\n",
       "      <td>-529.856334</td>\n",
       "      <td>-529.856334</td>\n",
       "      <td>0.0</td>\n",
       "      <td>0.0</td>\n",
       "      <td>0.0</td>\n",
       "      <td>9856.541795</td>\n",
       "    </tr>\n",
       "    <tr>\n",
       "      <td>91</td>\n",
       "      <td>2019-07-01</td>\n",
       "      <td>10639.176455</td>\n",
       "      <td>8442.249759</td>\n",
       "      <td>12076.788620</td>\n",
       "      <td>10458.544323</td>\n",
       "      <td>10790.274185</td>\n",
       "      <td>-441.700170</td>\n",
       "      <td>-441.700170</td>\n",
       "      <td>-441.700170</td>\n",
       "      <td>-441.700170</td>\n",
       "      <td>-441.700170</td>\n",
       "      <td>-441.700170</td>\n",
       "      <td>0.0</td>\n",
       "      <td>0.0</td>\n",
       "      <td>0.0</td>\n",
       "      <td>10197.476285</td>\n",
       "    </tr>\n",
       "    <tr>\n",
       "      <td>92</td>\n",
       "      <td>2019-08-01</td>\n",
       "      <td>10900.380725</td>\n",
       "      <td>8436.472685</td>\n",
       "      <td>12225.503798</td>\n",
       "      <td>10698.039045</td>\n",
       "      <td>11071.155284</td>\n",
       "      <td>-508.783234</td>\n",
       "      <td>-508.783234</td>\n",
       "      <td>-508.783234</td>\n",
       "      <td>-508.783234</td>\n",
       "      <td>-508.783234</td>\n",
       "      <td>-508.783234</td>\n",
       "      <td>0.0</td>\n",
       "      <td>0.0</td>\n",
       "      <td>0.0</td>\n",
       "      <td>10391.597492</td>\n",
       "    </tr>\n",
       "  </tbody>\n",
       "</table>\n",
       "</div>"
      ],
      "text/plain": [
       "           ds         trend   yhat_lower    yhat_upper   trend_lower  \\\n",
       "81 2018-09-01   8086.115360  5798.684396   9791.040309   8084.713040   \n",
       "82 2018-10-01   8338.893687  6273.678343  10084.763675   8329.649417   \n",
       "83 2018-11-01   8600.097957  6904.506060  10839.121661   8578.556886   \n",
       "84 2018-12-01   8852.876283  8030.515600  11833.643070   8817.561793   \n",
       "85 2019-01-01   9114.080554  7873.653172  11753.601233   9063.645487   \n",
       "86 2019-02-01   9375.284824  7600.969455  11503.023022   9302.407550   \n",
       "87 2019-03-01   9611.211262  7791.719504  11840.213638   9519.280264   \n",
       "88 2019-04-01   9872.415532  7839.827496  11689.264529   9760.378802   \n",
       "89 2019-05-01  10125.193858  8227.196545  12145.667208   9993.481989   \n",
       "90 2019-06-01  10386.398129  7923.299576  11799.458669  10227.739019   \n",
       "91 2019-07-01  10639.176455  8442.249759  12076.788620  10458.544323   \n",
       "92 2019-08-01  10900.380725  8436.472685  12225.503798  10698.039045   \n",
       "\n",
       "     trend_upper  additive_terms  additive_terms_lower  additive_terms_upper  \\\n",
       "81   8086.799144     -316.009460           -316.009460           -316.009460   \n",
       "82   8346.045283     -192.693735           -192.693735           -192.693735   \n",
       "83   8616.542965      191.526506            191.526506            191.526506   \n",
       "84   8879.203158     1059.595573           1059.595573           1059.595573   \n",
       "85   9152.504764      725.039989            725.039989            725.039989   \n",
       "86   9430.317435      204.010123            204.010123            204.010123   \n",
       "87   9680.934210      304.859694            304.859694            304.859694   \n",
       "88   9957.231177     -163.069784           -163.069784           -163.069784   \n",
       "89  10229.613043      -53.471034            -53.471034            -53.471034   \n",
       "90  10512.054536     -529.856334           -529.856334           -529.856334   \n",
       "91  10790.274185     -441.700170           -441.700170           -441.700170   \n",
       "92  11071.155284     -508.783234           -508.783234           -508.783234   \n",
       "\n",
       "         yearly  yearly_lower  yearly_upper  multiplicative_terms  \\\n",
       "81  -316.009460   -316.009460   -316.009460                   0.0   \n",
       "82  -192.693735   -192.693735   -192.693735                   0.0   \n",
       "83   191.526506    191.526506    191.526506                   0.0   \n",
       "84  1059.595573   1059.595573   1059.595573                   0.0   \n",
       "85   725.039989    725.039989    725.039989                   0.0   \n",
       "86   204.010123    204.010123    204.010123                   0.0   \n",
       "87   304.859694    304.859694    304.859694                   0.0   \n",
       "88  -163.069784   -163.069784   -163.069784                   0.0   \n",
       "89   -53.471034    -53.471034    -53.471034                   0.0   \n",
       "90  -529.856334   -529.856334   -529.856334                   0.0   \n",
       "91  -441.700170   -441.700170   -441.700170                   0.0   \n",
       "92  -508.783234   -508.783234   -508.783234                   0.0   \n",
       "\n",
       "    multiplicative_terms_lower  multiplicative_terms_upper          yhat  \n",
       "81                         0.0                         0.0   7770.105900  \n",
       "82                         0.0                         0.0   8146.199952  \n",
       "83                         0.0                         0.0   8791.624463  \n",
       "84                         0.0                         0.0   9912.471857  \n",
       "85                         0.0                         0.0   9839.120543  \n",
       "86                         0.0                         0.0   9579.294947  \n",
       "87                         0.0                         0.0   9916.070956  \n",
       "88                         0.0                         0.0   9709.345748  \n",
       "89                         0.0                         0.0  10071.722824  \n",
       "90                         0.0                         0.0   9856.541795  \n",
       "91                         0.0                         0.0  10197.476285  \n",
       "92                         0.0                         0.0  10391.597492  "
      ]
     },
     "execution_count": 43,
     "metadata": {},
     "output_type": "execute_result"
    }
   ],
   "source": [
    "forecast.tail(12)"
   ]
  },
  {
   "cell_type": "code",
   "execution_count": 44,
   "metadata": {},
   "outputs": [
    {
     "data": {
      "text/html": [
       "<div>\n",
       "<style scoped>\n",
       "    .dataframe tbody tr th:only-of-type {\n",
       "        vertical-align: middle;\n",
       "    }\n",
       "\n",
       "    .dataframe tbody tr th {\n",
       "        vertical-align: top;\n",
       "    }\n",
       "\n",
       "    .dataframe thead th {\n",
       "        text-align: right;\n",
       "    }\n",
       "</style>\n",
       "<table border=\"1\" class=\"dataframe\">\n",
       "  <thead>\n",
       "    <tr style=\"text-align: right;\">\n",
       "      <th></th>\n",
       "      <th>ds</th>\n",
       "      <th>y</th>\n",
       "    </tr>\n",
       "  </thead>\n",
       "  <tbody>\n",
       "    <tr>\n",
       "      <td>81</td>\n",
       "      <td>2018-09-01</td>\n",
       "      <td>6586.987311</td>\n",
       "    </tr>\n",
       "    <tr>\n",
       "      <td>82</td>\n",
       "      <td>2018-10-01</td>\n",
       "      <td>6416.713230</td>\n",
       "    </tr>\n",
       "    <tr>\n",
       "      <td>83</td>\n",
       "      <td>2018-11-01</td>\n",
       "      <td>5321.281997</td>\n",
       "    </tr>\n",
       "    <tr>\n",
       "      <td>84</td>\n",
       "      <td>2018-12-01</td>\n",
       "      <td>3672.419306</td>\n",
       "    </tr>\n",
       "    <tr>\n",
       "      <td>85</td>\n",
       "      <td>2019-01-01</td>\n",
       "      <td>3659.467919</td>\n",
       "    </tr>\n",
       "    <tr>\n",
       "      <td>86</td>\n",
       "      <td>2019-02-01</td>\n",
       "      <td>3653.638677</td>\n",
       "    </tr>\n",
       "    <tr>\n",
       "      <td>87</td>\n",
       "      <td>2019-03-01</td>\n",
       "      <td>3919.370872</td>\n",
       "    </tr>\n",
       "    <tr>\n",
       "      <td>88</td>\n",
       "      <td>2019-04-01</td>\n",
       "      <td>5139.112145</td>\n",
       "    </tr>\n",
       "    <tr>\n",
       "      <td>89</td>\n",
       "      <td>2019-05-01</td>\n",
       "      <td>7234.325315</td>\n",
       "    </tr>\n",
       "    <tr>\n",
       "      <td>90</td>\n",
       "      <td>2019-06-01</td>\n",
       "      <td>9361.787472</td>\n",
       "    </tr>\n",
       "    <tr>\n",
       "      <td>91</td>\n",
       "      <td>2019-07-01</td>\n",
       "      <td>10671.368501</td>\n",
       "    </tr>\n",
       "    <tr>\n",
       "      <td>92</td>\n",
       "      <td>2019-08-01</td>\n",
       "      <td>11263.834561</td>\n",
       "    </tr>\n",
       "  </tbody>\n",
       "</table>\n",
       "</div>"
      ],
      "text/plain": [
       "           ds             y\n",
       "81 2018-09-01   6586.987311\n",
       "82 2018-10-01   6416.713230\n",
       "83 2018-11-01   5321.281997\n",
       "84 2018-12-01   3672.419306\n",
       "85 2019-01-01   3659.467919\n",
       "86 2019-02-01   3653.638677\n",
       "87 2019-03-01   3919.370872\n",
       "88 2019-04-01   5139.112145\n",
       "89 2019-05-01   7234.325315\n",
       "90 2019-06-01   9361.787472\n",
       "91 2019-07-01  10671.368501\n",
       "92 2019-08-01  11263.834561"
      ]
     },
     "execution_count": 44,
     "metadata": {},
     "output_type": "execute_result"
    }
   ],
   "source": [
    "test.tail(12)"
   ]
  },
  {
   "cell_type": "code",
   "execution_count": 45,
   "metadata": {},
   "outputs": [
    {
     "data": {
      "text/plain": [
       "<matplotlib.axes._subplots.AxesSubplot at 0x10d963badd8>"
      ]
     },
     "execution_count": 45,
     "metadata": {},
     "output_type": "execute_result"
    },
    {
     "data": {
      "image/png": "[encoded data removed]",
      "text/plain": [
       "<Figure size 864x576 with 1 Axes>"
      ]
     },
     "metadata": {},
     "output_type": "display_data"
    }
   ],
   "source": [
    "ax = forecast.plot(x='ds',y='yhat',label='Predictions',legend=True,figsize=(12,8))\n",
    "\n",
    "test.plot(x='ds',y='y',label='True Miles',legend=True,ax=ax,xlim=('2018-09-01','2019-08-01'))"
   ]
  },
  {
   "cell_type": "code",
   "execution_count": 46,
   "metadata": {},
   "outputs": [],
   "source": [
    "from statsmodels.tools.eval_measures import rmse"
   ]
  },
  {
   "cell_type": "code",
   "execution_count": 47,
   "metadata": {},
   "outputs": [
    {
     "data": {
      "text/plain": [
       "81     7770.105900\n",
       "82     8146.199952\n",
       "83     8791.624463\n",
       "84     9912.471857\n",
       "85     9839.120543\n",
       "86     9579.294947\n",
       "87     9916.070956\n",
       "88     9709.345748\n",
       "89    10071.722824\n",
       "90     9856.541795\n",
       "91    10197.476285\n",
       "92    10391.597492\n",
       "Name: yhat, dtype: float64"
      ]
     },
     "execution_count": 47,
     "metadata": {},
     "output_type": "execute_result"
    }
   ],
   "source": [
    "predictions = forecast.iloc[-12:]['yhat']\n",
    "predictions"
   ]
  },
  {
   "cell_type": "code",
   "execution_count": 48,
   "metadata": {},
   "outputs": [
    {
     "data": {
      "text/plain": [
       "81     6586.987311\n",
       "82     6416.713230\n",
       "83     5321.281997\n",
       "84     3672.419306\n",
       "85     3659.467919\n",
       "86     3653.638677\n",
       "87     3919.370872\n",
       "88     5139.112145\n",
       "89     7234.325315\n",
       "90     9361.787472\n",
       "91    10671.368501\n",
       "92    11263.834561\n",
       "Name: y, dtype: float64"
      ]
     },
     "execution_count": 48,
     "metadata": {},
     "output_type": "execute_result"
    }
   ],
   "source": [
    "test['y']"
   ]
  },
  {
   "cell_type": "code",
   "execution_count": 49,
   "metadata": {},
   "outputs": [
    {
     "data": {
      "text/plain": [
       "4029.0855067967213"
      ]
     },
     "execution_count": 49,
     "metadata": {},
     "output_type": "execute_result"
    }
   ],
   "source": [
    "rmse(predictions,test['y'])"
   ]
  },
  {
   "cell_type": "markdown",
   "metadata": {},
   "source": [
    "Slightly off but still reasonable predictons"
   ]
  }
 ],
 "metadata": {
  "kernelspec": {
   "display_name": "Python 3",
   "language": "python",
   "name": "python3"
  },
  "language_info": {
   "codemirror_mode": {
    "name": "ipython",
    "version": 3
   },
   "file_extension": ".py",
   "mimetype": "text/x-python",
   "name": "python",
   "nbconvert_exporter": "python",
   "pygments_lexer": "ipython3",
   "version": "3.6.9"
  }
 },
 "nbformat": 4,
 "nbformat_minor": 2
}
